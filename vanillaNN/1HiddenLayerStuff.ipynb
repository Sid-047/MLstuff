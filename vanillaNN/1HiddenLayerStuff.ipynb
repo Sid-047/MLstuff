{
 "cells": [
  {
   "cell_type": "code",
   "execution_count": 84,
   "metadata": {
    "_cell_guid": "b1076dfc-b9ad-4769-8c92-a6c4dae69d19",
    "_uuid": "8f2839f25d086af736a60e9eeb907d3b93b6e0e5",
    "execution": {
     "iopub.execute_input": "2020-11-24T15:33:44.617819Z",
     "iopub.status.busy": "2020-11-24T15:33:44.616734Z",
     "iopub.status.idle": "2020-11-24T15:33:48.545917Z",
     "shell.execute_reply": "2020-11-24T15:33:48.545192Z"
    },
    "papermill": {
     "duration": 3.947576,
     "end_time": "2020-11-24T15:33:48.546057",
     "exception": false,
     "start_time": "2020-11-24T15:33:44.598481",
     "status": "completed"
    },
    "tags": []
   },
   "outputs": [],
   "source": [
    "import tqdm\n",
    "import random\n",
    "import numpy as np\n",
    "import pandas as pd\n",
    "from matplotlib import pyplot as plt\n",
    "from tensorflow.keras.datasets import mnist"
   ]
  },
  {
   "cell_type": "code",
   "execution_count": 85,
   "metadata": {},
   "outputs": [],
   "source": [
    "random.seed(42)\n",
    "np.random.seed(42)"
   ]
  },
  {
   "cell_type": "code",
   "execution_count": 86,
   "metadata": {},
   "outputs": [
    {
     "data": {
      "text/html": [
       "<div>\n",
       "<style scoped>\n",
       "    .dataframe tbody tr th:only-of-type {\n",
       "        vertical-align: middle;\n",
       "    }\n",
       "\n",
       "    .dataframe tbody tr th {\n",
       "        vertical-align: top;\n",
       "    }\n",
       "\n",
       "    .dataframe thead th {\n",
       "        text-align: right;\n",
       "    }\n",
       "</style>\n",
       "<table border=\"1\" class=\"dataframe\">\n",
       "  <thead>\n",
       "    <tr style=\"text-align: right;\">\n",
       "      <th></th>\n",
       "      <th>label</th>\n",
       "      <th>pixel0</th>\n",
       "      <th>pixel1</th>\n",
       "      <th>pixel2</th>\n",
       "      <th>pixel3</th>\n",
       "      <th>pixel4</th>\n",
       "      <th>pixel5</th>\n",
       "      <th>pixel6</th>\n",
       "      <th>pixel7</th>\n",
       "      <th>pixel8</th>\n",
       "      <th>...</th>\n",
       "      <th>pixel774</th>\n",
       "      <th>pixel775</th>\n",
       "      <th>pixel776</th>\n",
       "      <th>pixel777</th>\n",
       "      <th>pixel778</th>\n",
       "      <th>pixel779</th>\n",
       "      <th>pixel780</th>\n",
       "      <th>pixel781</th>\n",
       "      <th>pixel782</th>\n",
       "      <th>pixel783</th>\n",
       "    </tr>\n",
       "  </thead>\n",
       "  <tbody>\n",
       "    <tr>\n",
       "      <th>0</th>\n",
       "      <td>1</td>\n",
       "      <td>0</td>\n",
       "      <td>0</td>\n",
       "      <td>0</td>\n",
       "      <td>0</td>\n",
       "      <td>0</td>\n",
       "      <td>0</td>\n",
       "      <td>0</td>\n",
       "      <td>0</td>\n",
       "      <td>0</td>\n",
       "      <td>...</td>\n",
       "      <td>0</td>\n",
       "      <td>0</td>\n",
       "      <td>0</td>\n",
       "      <td>0</td>\n",
       "      <td>0</td>\n",
       "      <td>0</td>\n",
       "      <td>0</td>\n",
       "      <td>0</td>\n",
       "      <td>0</td>\n",
       "      <td>0</td>\n",
       "    </tr>\n",
       "    <tr>\n",
       "      <th>1</th>\n",
       "      <td>0</td>\n",
       "      <td>0</td>\n",
       "      <td>0</td>\n",
       "      <td>0</td>\n",
       "      <td>0</td>\n",
       "      <td>0</td>\n",
       "      <td>0</td>\n",
       "      <td>0</td>\n",
       "      <td>0</td>\n",
       "      <td>0</td>\n",
       "      <td>...</td>\n",
       "      <td>0</td>\n",
       "      <td>0</td>\n",
       "      <td>0</td>\n",
       "      <td>0</td>\n",
       "      <td>0</td>\n",
       "      <td>0</td>\n",
       "      <td>0</td>\n",
       "      <td>0</td>\n",
       "      <td>0</td>\n",
       "      <td>0</td>\n",
       "    </tr>\n",
       "    <tr>\n",
       "      <th>2</th>\n",
       "      <td>1</td>\n",
       "      <td>0</td>\n",
       "      <td>0</td>\n",
       "      <td>0</td>\n",
       "      <td>0</td>\n",
       "      <td>0</td>\n",
       "      <td>0</td>\n",
       "      <td>0</td>\n",
       "      <td>0</td>\n",
       "      <td>0</td>\n",
       "      <td>...</td>\n",
       "      <td>0</td>\n",
       "      <td>0</td>\n",
       "      <td>0</td>\n",
       "      <td>0</td>\n",
       "      <td>0</td>\n",
       "      <td>0</td>\n",
       "      <td>0</td>\n",
       "      <td>0</td>\n",
       "      <td>0</td>\n",
       "      <td>0</td>\n",
       "    </tr>\n",
       "    <tr>\n",
       "      <th>3</th>\n",
       "      <td>4</td>\n",
       "      <td>0</td>\n",
       "      <td>0</td>\n",
       "      <td>0</td>\n",
       "      <td>0</td>\n",
       "      <td>0</td>\n",
       "      <td>0</td>\n",
       "      <td>0</td>\n",
       "      <td>0</td>\n",
       "      <td>0</td>\n",
       "      <td>...</td>\n",
       "      <td>0</td>\n",
       "      <td>0</td>\n",
       "      <td>0</td>\n",
       "      <td>0</td>\n",
       "      <td>0</td>\n",
       "      <td>0</td>\n",
       "      <td>0</td>\n",
       "      <td>0</td>\n",
       "      <td>0</td>\n",
       "      <td>0</td>\n",
       "    </tr>\n",
       "    <tr>\n",
       "      <th>4</th>\n",
       "      <td>0</td>\n",
       "      <td>0</td>\n",
       "      <td>0</td>\n",
       "      <td>0</td>\n",
       "      <td>0</td>\n",
       "      <td>0</td>\n",
       "      <td>0</td>\n",
       "      <td>0</td>\n",
       "      <td>0</td>\n",
       "      <td>0</td>\n",
       "      <td>...</td>\n",
       "      <td>0</td>\n",
       "      <td>0</td>\n",
       "      <td>0</td>\n",
       "      <td>0</td>\n",
       "      <td>0</td>\n",
       "      <td>0</td>\n",
       "      <td>0</td>\n",
       "      <td>0</td>\n",
       "      <td>0</td>\n",
       "      <td>0</td>\n",
       "    </tr>\n",
       "    <tr>\n",
       "      <th>...</th>\n",
       "      <td>...</td>\n",
       "      <td>...</td>\n",
       "      <td>...</td>\n",
       "      <td>...</td>\n",
       "      <td>...</td>\n",
       "      <td>...</td>\n",
       "      <td>...</td>\n",
       "      <td>...</td>\n",
       "      <td>...</td>\n",
       "      <td>...</td>\n",
       "      <td>...</td>\n",
       "      <td>...</td>\n",
       "      <td>...</td>\n",
       "      <td>...</td>\n",
       "      <td>...</td>\n",
       "      <td>...</td>\n",
       "      <td>...</td>\n",
       "      <td>...</td>\n",
       "      <td>...</td>\n",
       "      <td>...</td>\n",
       "      <td>...</td>\n",
       "    </tr>\n",
       "    <tr>\n",
       "      <th>41995</th>\n",
       "      <td>0</td>\n",
       "      <td>0</td>\n",
       "      <td>0</td>\n",
       "      <td>0</td>\n",
       "      <td>0</td>\n",
       "      <td>0</td>\n",
       "      <td>0</td>\n",
       "      <td>0</td>\n",
       "      <td>0</td>\n",
       "      <td>0</td>\n",
       "      <td>...</td>\n",
       "      <td>0</td>\n",
       "      <td>0</td>\n",
       "      <td>0</td>\n",
       "      <td>0</td>\n",
       "      <td>0</td>\n",
       "      <td>0</td>\n",
       "      <td>0</td>\n",
       "      <td>0</td>\n",
       "      <td>0</td>\n",
       "      <td>0</td>\n",
       "    </tr>\n",
       "    <tr>\n",
       "      <th>41996</th>\n",
       "      <td>1</td>\n",
       "      <td>0</td>\n",
       "      <td>0</td>\n",
       "      <td>0</td>\n",
       "      <td>0</td>\n",
       "      <td>0</td>\n",
       "      <td>0</td>\n",
       "      <td>0</td>\n",
       "      <td>0</td>\n",
       "      <td>0</td>\n",
       "      <td>...</td>\n",
       "      <td>0</td>\n",
       "      <td>0</td>\n",
       "      <td>0</td>\n",
       "      <td>0</td>\n",
       "      <td>0</td>\n",
       "      <td>0</td>\n",
       "      <td>0</td>\n",
       "      <td>0</td>\n",
       "      <td>0</td>\n",
       "      <td>0</td>\n",
       "    </tr>\n",
       "    <tr>\n",
       "      <th>41997</th>\n",
       "      <td>7</td>\n",
       "      <td>0</td>\n",
       "      <td>0</td>\n",
       "      <td>0</td>\n",
       "      <td>0</td>\n",
       "      <td>0</td>\n",
       "      <td>0</td>\n",
       "      <td>0</td>\n",
       "      <td>0</td>\n",
       "      <td>0</td>\n",
       "      <td>...</td>\n",
       "      <td>0</td>\n",
       "      <td>0</td>\n",
       "      <td>0</td>\n",
       "      <td>0</td>\n",
       "      <td>0</td>\n",
       "      <td>0</td>\n",
       "      <td>0</td>\n",
       "      <td>0</td>\n",
       "      <td>0</td>\n",
       "      <td>0</td>\n",
       "    </tr>\n",
       "    <tr>\n",
       "      <th>41998</th>\n",
       "      <td>6</td>\n",
       "      <td>0</td>\n",
       "      <td>0</td>\n",
       "      <td>0</td>\n",
       "      <td>0</td>\n",
       "      <td>0</td>\n",
       "      <td>0</td>\n",
       "      <td>0</td>\n",
       "      <td>0</td>\n",
       "      <td>0</td>\n",
       "      <td>...</td>\n",
       "      <td>0</td>\n",
       "      <td>0</td>\n",
       "      <td>0</td>\n",
       "      <td>0</td>\n",
       "      <td>0</td>\n",
       "      <td>0</td>\n",
       "      <td>0</td>\n",
       "      <td>0</td>\n",
       "      <td>0</td>\n",
       "      <td>0</td>\n",
       "    </tr>\n",
       "    <tr>\n",
       "      <th>41999</th>\n",
       "      <td>9</td>\n",
       "      <td>0</td>\n",
       "      <td>0</td>\n",
       "      <td>0</td>\n",
       "      <td>0</td>\n",
       "      <td>0</td>\n",
       "      <td>0</td>\n",
       "      <td>0</td>\n",
       "      <td>0</td>\n",
       "      <td>0</td>\n",
       "      <td>...</td>\n",
       "      <td>0</td>\n",
       "      <td>0</td>\n",
       "      <td>0</td>\n",
       "      <td>0</td>\n",
       "      <td>0</td>\n",
       "      <td>0</td>\n",
       "      <td>0</td>\n",
       "      <td>0</td>\n",
       "      <td>0</td>\n",
       "      <td>0</td>\n",
       "    </tr>\n",
       "  </tbody>\n",
       "</table>\n",
       "<p>42000 rows × 785 columns</p>\n",
       "</div>"
      ],
      "text/plain": [
       "       label  pixel0  pixel1  pixel2  pixel3  pixel4  pixel5  pixel6  pixel7  \\\n",
       "0          1       0       0       0       0       0       0       0       0   \n",
       "1          0       0       0       0       0       0       0       0       0   \n",
       "2          1       0       0       0       0       0       0       0       0   \n",
       "3          4       0       0       0       0       0       0       0       0   \n",
       "4          0       0       0       0       0       0       0       0       0   \n",
       "...      ...     ...     ...     ...     ...     ...     ...     ...     ...   \n",
       "41995      0       0       0       0       0       0       0       0       0   \n",
       "41996      1       0       0       0       0       0       0       0       0   \n",
       "41997      7       0       0       0       0       0       0       0       0   \n",
       "41998      6       0       0       0       0       0       0       0       0   \n",
       "41999      9       0       0       0       0       0       0       0       0   \n",
       "\n",
       "       pixel8  ...  pixel774  pixel775  pixel776  pixel777  pixel778  \\\n",
       "0           0  ...         0         0         0         0         0   \n",
       "1           0  ...         0         0         0         0         0   \n",
       "2           0  ...         0         0         0         0         0   \n",
       "3           0  ...         0         0         0         0         0   \n",
       "4           0  ...         0         0         0         0         0   \n",
       "...       ...  ...       ...       ...       ...       ...       ...   \n",
       "41995       0  ...         0         0         0         0         0   \n",
       "41996       0  ...         0         0         0         0         0   \n",
       "41997       0  ...         0         0         0         0         0   \n",
       "41998       0  ...         0         0         0         0         0   \n",
       "41999       0  ...         0         0         0         0         0   \n",
       "\n",
       "       pixel779  pixel780  pixel781  pixel782  pixel783  \n",
       "0             0         0         0         0         0  \n",
       "1             0         0         0         0         0  \n",
       "2             0         0         0         0         0  \n",
       "3             0         0         0         0         0  \n",
       "4             0         0         0         0         0  \n",
       "...         ...       ...       ...       ...       ...  \n",
       "41995         0         0         0         0         0  \n",
       "41996         0         0         0         0         0  \n",
       "41997         0         0         0         0         0  \n",
       "41998         0         0         0         0         0  \n",
       "41999         0         0         0         0         0  \n",
       "\n",
       "[42000 rows x 785 columns]"
      ]
     },
     "execution_count": 86,
     "metadata": {},
     "output_type": "execute_result"
    }
   ],
   "source": [
    "data = pd.read_csv('dataNum.csv')\n",
    "data"
   ]
  },
  {
   "cell_type": "code",
   "execution_count": 87,
   "metadata": {},
   "outputs": [
    {
     "name": "stdout",
     "output_type": "stream",
     "text": [
      "Train Data Shape:  (60000, 28, 28) (60000,)\n",
      "Test Data Shape:  (10000, 28, 28) (10000,)\n",
      "\n",
      "Classes:  10\n",
      "[0 1 2 3 4 5 6 7 8 9]\n",
      "1\n"
     ]
    },
    {
     "data": {
      "image/png": "[encoded data removed]",
      "text/plain": [
       "<Figure size 1000x500 with 2 Axes>"
      ]
     },
     "metadata": {},
     "output_type": "display_data"
    }
   ],
   "source": [
    "(train_images, train_labels), (test_images, test_labels) = mnist.load_data()\n",
    "\n",
    "print(\"Train Data Shape: \", train_images.shape, train_labels.shape)\n",
    "print(\"Test Data Shape: \", test_images.shape, test_labels.shape)\n",
    "\n",
    "classes=np.unique(train_labels)\n",
    "print(\"\\nClasses: \", len(classes))\n",
    "print(classes)\n",
    "\n",
    "plt.figure(figsize=[10,5])\n",
    "\n",
    "plt.subplot(121)\n",
    "plt.imshow(train_images[47,:,:], cmap='gray')\n",
    "plt.title(\"Ground Truth:\"+str(train_labels[47]))\n",
    "\n",
    "plt.subplot(122)\n",
    "plt.imshow(train_images[77,:,:], cmap='gray')\n",
    "plt.title(\"Ground Truth:\"+str(train_labels[77]))\n",
    "\n",
    "print(train_labels[77].T)"
   ]
  },
  {
   "cell_type": "code",
   "execution_count": 88,
   "metadata": {
    "execution": {
     "iopub.execute_input": "2020-11-24T15:33:48.577955Z",
     "iopub.status.busy": "2020-11-24T15:33:48.576778Z",
     "iopub.status.idle": "2020-11-24T15:33:49.353469Z",
     "shell.execute_reply": "2020-11-24T15:33:49.352724Z"
    },
    "papermill": {
     "duration": 0.795759,
     "end_time": "2020-11-24T15:33:49.353603",
     "exception": false,
     "start_time": "2020-11-24T15:33:48.557844",
     "status": "completed"
    },
    "tags": []
   },
   "outputs": [
    {
     "name": "stdout",
     "output_type": "stream",
     "text": [
      "(785, 1000)\n",
      "(1000,)\n"
     ]
    }
   ],
   "source": [
    "data = np.array(data)\n",
    "m, n = data.shape\n",
    "np.random.shuffle(data) \n",
    "\n",
    "data_dev = data[0:1000].T\n",
    "Y_dev = data_dev[0]\n",
    "X_dev = data_dev[1:n]\n",
    "X_dev = X_dev / 255.\n",
    "\n",
    "data_train = data[1000:m].T\n",
    "Y_train = data_train[0]\n",
    "X_train = data_train[1:n]\n",
    "X_train = X_train / 255.\n",
    "_,m_train = X_train.shape\n",
    "\n",
    "print(data_dev.shape)\n",
    "print(data_dev[8].shape)"
   ]
  },
  {
   "cell_type": "code",
   "execution_count": 89,
   "metadata": {
    "execution": {
     "iopub.execute_input": "2020-11-24T15:33:49.385574Z",
     "iopub.status.busy": "2020-11-24T15:33:49.384483Z",
     "iopub.status.idle": "2020-11-24T15:33:49.388342Z",
     "shell.execute_reply": "2020-11-24T15:33:49.388923Z"
    },
    "papermill": {
     "duration": 0.023743,
     "end_time": "2020-11-24T15:33:49.389054",
     "exception": false,
     "start_time": "2020-11-24T15:33:49.365311",
     "status": "completed"
    },
    "tags": []
   },
   "outputs": [
    {
     "data": {
      "text/plain": [
       "array([2, 6, 4, ..., 2, 6, 0])"
      ]
     },
     "execution_count": 89,
     "metadata": {},
     "output_type": "execute_result"
    }
   ],
   "source": [
    "Y_train"
   ]
  },
  {
   "cell_type": "markdown",
   "metadata": {
    "papermill": {
     "duration": 0.011724,
     "end_time": "2020-11-24T15:33:49.413261",
     "exception": false,
     "start_time": "2020-11-24T15:33:49.401537",
     "status": "completed"
    },
    "tags": []
   },
   "source": [
    "**Forward propagation**\n",
    "\n",
    "$$Z^{[1]} = W^{[1]} X + b^{[1]}$$\n",
    "$$A^{[1]} = g_{\\text{ReLU}}(Z^{[1]}))$$\n",
    "$$Z^{[2]} = W^{[2]} A^{[1]} + b^{[2]}$$\n",
    "$$A^{[2]} = g_{\\text{softmax}}(Z^{[2]})$$\n",
    "\n",
    "**Backward propagation**\n",
    "\n",
    "$$dZ^{[2]} = A^{[2]} - Y$$\n",
    "$$dW^{[2]} = \\frac{1}{m} dZ^{[2]} A^{[1]T}$$\n",
    "$$dB^{[2]} = \\frac{1}{m} \\Sigma {dZ^{[2]}}$$\n",
    "$$dZ^{[1]} = W^{[2]T} dZ^{[2]} .* g^{[1]\\prime} (z^{[1]})$$\n",
    "$$dW^{[1]} = \\frac{1}{m} dZ^{[1]} A^{[0]T}$$\n",
    "$$dB^{[1]} = \\frac{1}{m} \\Sigma {dZ^{[1]}}$$\n",
    "\n",
    "**Parameter updates**\n",
    "\n",
    "$$W^{[2]} := W^{[2]} - \\alpha dW^{[2]}$$\n",
    "$$b^{[2]} := b^{[2]} - \\alpha db^{[2]}$$\n",
    "$$W^{[1]} := W^{[1]} - \\alpha dW^{[1]}$$\n",
    "$$b^{[1]} := b^{[1]} - \\alpha db^{[1]}$$\n",
    "\n",
    "**Vars and shapes**\n",
    "\n",
    "Forward prop\n",
    "\n",
    "- $A^{[0]} = X$: 784 x m\n",
    "- $Z^{[1]} \\sim A^{[1]}$: 10 x m\n",
    "- $W^{[1]}$: 10 x 784 (as $W^{[1]} A^{[0]} \\sim Z^{[1]}$)\n",
    "- $B^{[1]}$: 10 x 1\n",
    "- $Z^{[2]} \\sim A^{[2]}$: 10 x m\n",
    "- $W^{[1]}$: 10 x 10 (as $W^{[2]} A^{[1]} \\sim Z^{[2]}$)\n",
    "- $B^{[2]}$: 10 x 1\n",
    "\n",
    "Backprop\n",
    "\n",
    "- $dZ^{[2]}$: 10 x m ($~A^{[2]}$)\n",
    "- $dW^{[2]}$: 10 x 10\n",
    "- $dB^{[2]}$: 10 x 1\n",
    "- $dZ^{[1]}$: 10 x m ($~A^{[1]}$)\n",
    "- $dW^{[1]}$: 10 x 10\n",
    "- $dB^{[1]}$: 10 x 1"
   ]
  },
  {
   "cell_type": "code",
   "execution_count": 90,
   "metadata": {},
   "outputs": [],
   "source": [
    "def init_params():\n",
    "    W1 = np.random.rand(10, 784) - 0.5\n",
    "    b1 = np.random.rand(10, 1) - 0.5\n",
    "    W2 = np.random.rand(10, 10) - 0.5\n",
    "    b2 = np.random.rand(10, 1) - 0.5\n",
    "    return W1, b1, W2, b2"
   ]
  },
  {
   "cell_type": "code",
   "execution_count": 91,
   "metadata": {},
   "outputs": [],
   "source": [
    "def ReLU(Z):\n",
    "    return np.maximum(Z, 0)"
   ]
  },
  {
   "cell_type": "code",
   "execution_count": 92,
   "metadata": {},
   "outputs": [],
   "source": [
    "def softmax(Z):\n",
    "    A = np.exp(Z) / sum(np.exp(Z))\n",
    "    return A"
   ]
  },
  {
   "cell_type": "code",
   "execution_count": 93,
   "metadata": {},
   "outputs": [],
   "source": [
    "def forward_prop(W1, b1, W2, b2, X):\n",
    "    Z1 = W1.dot(X) + b1\n",
    "    A1 = ReLU(Z1)\n",
    "    Z2 = W2.dot(A1) + b2\n",
    "    A2 = softmax(Z2)\n",
    "    return Z1, A1, Z2, A2"
   ]
  },
  {
   "cell_type": "code",
   "execution_count": 94,
   "metadata": {},
   "outputs": [],
   "source": [
    "def ReLU_deriv(Z):\n",
    "    return Z > 0"
   ]
  },
  {
   "cell_type": "code",
   "execution_count": 95,
   "metadata": {},
   "outputs": [],
   "source": [
    "def one_hot(Y):\n",
    "    one_hot_Y = np.zeros((Y.size, Y.max() + 1))\n",
    "    one_hot_Y[np.arange(Y.size), Y] = 1\n",
    "    one_hot_Y = one_hot_Y.T\n",
    "    return one_hot_Y"
   ]
  },
  {
   "cell_type": "code",
   "execution_count": 96,
   "metadata": {},
   "outputs": [],
   "source": [
    "def backward_prop(Z1, A1, Z2, A2, W1, W2, X, Y):\n",
    "    one_hot_Y = one_hot(Y)\n",
    "    dZ2 = A2 - one_hot_Y\n",
    "    dW2 = 1 / m * dZ2.dot(A1.T)\n",
    "    db2 = 1 / m * np.sum(dZ2)\n",
    "    dZ1 = W2.T.dot(dZ2) * ReLU_deriv(Z1)\n",
    "    dW1 = 1 / m * dZ1.dot(X.T)\n",
    "    db1 = 1 / m * np.sum(dZ1)\n",
    "    return dW1, db1, dW2, db2"
   ]
  },
  {
   "cell_type": "code",
   "execution_count": 97,
   "metadata": {
    "execution": {
     "iopub.execute_input": "2020-11-24T15:33:49.458553Z",
     "iopub.status.busy": "2020-11-24T15:33:49.457534Z",
     "iopub.status.idle": "2020-11-24T15:33:49.460243Z",
     "shell.execute_reply": "2020-11-24T15:33:49.460754Z"
    },
    "papermill": {
     "duration": 0.035762,
     "end_time": "2020-11-24T15:33:49.460906",
     "exception": false,
     "start_time": "2020-11-24T15:33:49.425144",
     "status": "completed"
    },
    "tags": []
   },
   "outputs": [],
   "source": [
    "def update_params(W1, b1, W2, b2, dW1, db1, dW2, db2, alpha):\n",
    "    W1 = W1 - alpha * dW1\n",
    "    b1 = b1 - alpha * db1    \n",
    "    W2 = W2 - alpha * dW2  \n",
    "    b2 = b2 - alpha * db2    \n",
    "    return W1, b1, W2, b2"
   ]
  },
  {
   "cell_type": "code",
   "execution_count": 98,
   "metadata": {},
   "outputs": [],
   "source": [
    "def get_predictions(A2):\n",
    "    return np.argmax(A2, 0)\n",
    "\n",
    "def get_accuracy(predictions, Y):\n",
    "    print(predictions, Y)\n",
    "    return np.sum(predictions == Y) / Y.size"
   ]
  },
  {
   "cell_type": "code",
   "execution_count": 99,
   "metadata": {
    "execution": {
     "iopub.execute_input": "2020-11-24T15:33:49.496820Z",
     "iopub.status.busy": "2020-11-24T15:33:49.493109Z",
     "iopub.status.idle": "2020-11-24T15:33:49.499268Z",
     "shell.execute_reply": "2020-11-24T15:33:49.499782Z"
    },
    "papermill": {
     "duration": 0.026744,
     "end_time": "2020-11-24T15:33:49.499906",
     "exception": false,
     "start_time": "2020-11-24T15:33:49.473162",
     "status": "completed"
    },
    "tags": []
   },
   "outputs": [],
   "source": [
    "def gradient_descent(X, Y, alpha, iterations):\n",
    "    W1, b1, W2, b2 = init_params()\n",
    "    for i in tqdm.trange(iterations, colour = \"red\"):\n",
    "        Z1, A1, Z2, A2 = forward_prop(W1, b1, W2, b2, X)\n",
    "        dW1, db1, dW2, db2 = backward_prop(Z1, A1, Z2, A2, W1, W2, X, Y)\n",
    "        W1, b1, W2, b2 = update_params(W1, b1, W2, b2, dW1, db1, dW2, db2, alpha)\n",
    "        if i % 1 == 0:\n",
    "            print(\"Iteration: \", i)\n",
    "            predictions = get_predictions(A2)\n",
    "            print(get_accuracy(predictions, Y))\n",
    "    return W1, b1, W2, b2"
   ]
  },
  {
   "cell_type": "code",
   "execution_count": 100,
   "metadata": {
    "execution": {
     "iopub.execute_input": "2020-11-24T15:33:49.529813Z",
     "iopub.status.busy": "2020-11-24T15:33:49.529067Z",
     "iopub.status.idle": "2020-11-24T15:34:33.915250Z",
     "shell.execute_reply": "2020-11-24T15:34:33.914598Z"
    },
    "papermill": {
     "duration": 44.403186,
     "end_time": "2020-11-24T15:34:33.915380",
     "exception": false,
     "start_time": "2020-11-24T15:33:49.512194",
     "status": "completed"
    },
    "tags": []
   },
   "outputs": [
    {
     "name": "stderr",
     "output_type": "stream",
     "text": [
      "  0%|\u001b[31m          \u001b[0m| 1/450 [00:00<06:39,  1.13it/s]"
     ]
    },
    {
     "name": "stdout",
     "output_type": "stream",
     "text": [
      "Iteration:  0\n",
      "[0 2 0 ... 1 2 1] [2 6 4 ... 2 6 0]\n",
      "0.08734146341463414\n"
     ]
    },
    {
     "name": "stderr",
     "output_type": "stream",
     "text": [
      "  0%|\u001b[31m          \u001b[0m| 2/450 [00:01<04:33,  1.64it/s]"
     ]
    },
    {
     "name": "stdout",
     "output_type": "stream",
     "text": [
      "Iteration:  1\n",
      "[0 2 7 ... 8 2 0] [2 6 4 ... 2 6 0]\n",
      "0.10958536585365854\n"
     ]
    },
    {
     "name": "stderr",
     "output_type": "stream",
     "text": [
      "  1%|\u001b[31m          \u001b[0m| 3/450 [00:01<03:50,  1.94it/s]"
     ]
    },
    {
     "name": "stdout",
     "output_type": "stream",
     "text": [
      "Iteration:  2\n",
      "[0 2 7 ... 8 2 0] [2 6 4 ... 2 6 0]\n",
      "0.12739024390243903\n"
     ]
    },
    {
     "name": "stderr",
     "output_type": "stream",
     "text": [
      "  1%|\u001b[31m          \u001b[0m| 4/450 [00:03<07:07,  1.04it/s]"
     ]
    },
    {
     "name": "stdout",
     "output_type": "stream",
     "text": [
      "Iteration:  3\n",
      "[0 2 7 ... 8 2 0] [2 6 4 ... 2 6 0]\n",
      "0.14314634146341462\n"
     ]
    },
    {
     "name": "stderr",
     "output_type": "stream",
     "text": [
      "  1%|\u001b[31m          \u001b[0m| 5/450 [00:03<05:51,  1.27it/s]"
     ]
    },
    {
     "name": "stdout",
     "output_type": "stream",
     "text": [
      "Iteration:  4\n",
      "[0 2 7 ... 8 2 0] [2 6 4 ... 2 6 0]\n",
      "0.15678048780487805\n"
     ]
    },
    {
     "name": "stderr",
     "output_type": "stream",
     "text": [
      "  1%|\u001b[31m▏         \u001b[0m| 6/450 [00:05<08:15,  1.12s/it]"
     ]
    },
    {
     "name": "stdout",
     "output_type": "stream",
     "text": [
      "Iteration:  5\n",
      "[2 2 7 ... 8 2 0] [2 6 4 ... 2 6 0]\n",
      "0.16851219512195123\n"
     ]
    },
    {
     "name": "stderr",
     "output_type": "stream",
     "text": [
      "  2%|\u001b[31m▏         \u001b[0m| 7/450 [00:06<06:59,  1.06it/s]"
     ]
    },
    {
     "name": "stdout",
     "output_type": "stream",
     "text": [
      "Iteration:  6\n",
      "[2 2 7 ... 8 2 0] [2 6 4 ... 2 6 0]\n",
      "0.1784390243902439\n"
     ]
    },
    {
     "name": "stderr",
     "output_type": "stream",
     "text": [
      "  2%|\u001b[31m▏         \u001b[0m| 8/450 [00:06<05:42,  1.29it/s]"
     ]
    },
    {
     "name": "stdout",
     "output_type": "stream",
     "text": [
      "Iteration:  7\n",
      "[2 2 7 ... 8 2 0] [2 6 4 ... 2 6 0]\n",
      "0.18660975609756097\n"
     ]
    },
    {
     "name": "stderr",
     "output_type": "stream",
     "text": [
      "  2%|\u001b[31m▏         \u001b[0m| 9/450 [00:07<06:54,  1.06it/s]"
     ]
    },
    {
     "name": "stdout",
     "output_type": "stream",
     "text": [
      "Iteration:  8\n",
      "[2 2 7 ... 8 2 0] [2 6 4 ... 2 6 0]\n",
      "0.19485365853658537\n"
     ]
    },
    {
     "name": "stderr",
     "output_type": "stream",
     "text": [
      "  2%|\u001b[31m▏         \u001b[0m| 10/450 [00:08<05:52,  1.25it/s]"
     ]
    },
    {
     "name": "stdout",
     "output_type": "stream",
     "text": [
      "Iteration:  9\n",
      "[2 2 7 ... 8 2 0] [2 6 4 ... 2 6 0]\n",
      "0.2022439024390244\n"
     ]
    },
    {
     "name": "stderr",
     "output_type": "stream",
     "text": [
      "  2%|\u001b[31m▏         \u001b[0m| 11/450 [00:09<07:25,  1.02s/it]"
     ]
    },
    {
     "name": "stdout",
     "output_type": "stream",
     "text": [
      "Iteration:  10\n",
      "[2 2 7 ... 8 2 0] [2 6 4 ... 2 6 0]\n",
      "0.2081951219512195\n"
     ]
    },
    {
     "name": "stderr",
     "output_type": "stream",
     "text": [
      "  3%|\u001b[31m▎         \u001b[0m| 12/450 [00:11<07:42,  1.06s/it]"
     ]
    },
    {
     "name": "stdout",
     "output_type": "stream",
     "text": [
      "Iteration:  11\n",
      "[2 2 7 ... 8 2 0] [2 6 4 ... 2 6 0]\n",
      "0.21429268292682926\n"
     ]
    },
    {
     "name": "stderr",
     "output_type": "stream",
     "text": [
      "  3%|\u001b[31m▎         \u001b[0m| 13/450 [00:11<06:21,  1.15it/s]"
     ]
    },
    {
     "name": "stdout",
     "output_type": "stream",
     "text": [
      "Iteration:  12\n",
      "[2 2 7 ... 8 2 0] [2 6 4 ... 2 6 0]\n",
      "0.22004878048780488\n"
     ]
    },
    {
     "name": "stderr",
     "output_type": "stream",
     "text": [
      "  3%|\u001b[31m▎         \u001b[0m| 14/450 [00:12<05:47,  1.25it/s]"
     ]
    },
    {
     "name": "stdout",
     "output_type": "stream",
     "text": [
      "Iteration:  13\n",
      "[2 2 7 ... 8 2 0] [2 6 4 ... 2 6 0]\n",
      "0.22504878048780488\n"
     ]
    },
    {
     "name": "stderr",
     "output_type": "stream",
     "text": [
      "  3%|\u001b[31m▎         \u001b[0m| 15/450 [00:13<06:25,  1.13it/s]"
     ]
    },
    {
     "name": "stdout",
     "output_type": "stream",
     "text": [
      "Iteration:  14\n",
      "[2 2 7 ... 8 2 0] [2 6 4 ... 2 6 0]\n",
      "0.22987804878048781\n"
     ]
    },
    {
     "name": "stderr",
     "output_type": "stream",
     "text": [
      "  4%|\u001b[31m▎         \u001b[0m| 16/450 [00:13<05:13,  1.38it/s]"
     ]
    },
    {
     "name": "stdout",
     "output_type": "stream",
     "text": [
      "Iteration:  15\n",
      "[2 2 7 ... 8 2 0] [2 6 4 ... 2 6 0]\n",
      "0.23456097560975608\n"
     ]
    },
    {
     "name": "stderr",
     "output_type": "stream",
     "text": [
      "  4%|\u001b[31m▍         \u001b[0m| 17/450 [00:14<04:41,  1.54it/s]"
     ]
    },
    {
     "name": "stdout",
     "output_type": "stream",
     "text": [
      "Iteration:  16\n",
      "[2 2 7 ... 8 2 0] [2 6 4 ... 2 6 0]\n",
      "0.23892682926829267\n"
     ]
    },
    {
     "name": "stderr",
     "output_type": "stream",
     "text": [
      "  4%|\u001b[31m▍         \u001b[0m| 18/450 [00:14<04:46,  1.51it/s]"
     ]
    },
    {
     "name": "stdout",
     "output_type": "stream",
     "text": [
      "Iteration:  17\n",
      "[2 2 7 ... 8 2 0] [2 6 4 ... 2 6 0]\n",
      "0.2446341463414634\n"
     ]
    },
    {
     "name": "stderr",
     "output_type": "stream",
     "text": [
      "  4%|\u001b[31m▍         \u001b[0m| 19/450 [00:15<05:09,  1.39it/s]"
     ]
    },
    {
     "name": "stdout",
     "output_type": "stream",
     "text": [
      "Iteration:  18\n",
      "[2 2 7 ... 8 2 0] [2 6 4 ... 2 6 0]\n",
      "0.24926829268292683\n"
     ]
    },
    {
     "name": "stderr",
     "output_type": "stream",
     "text": [
      "  4%|\u001b[31m▍         \u001b[0m| 20/450 [00:16<05:09,  1.39it/s]"
     ]
    },
    {
     "name": "stdout",
     "output_type": "stream",
     "text": [
      "Iteration:  19\n",
      "[2 2 7 ... 8 2 0] [2 6 4 ... 2 6 0]\n",
      "0.2539268292682927\n"
     ]
    },
    {
     "name": "stderr",
     "output_type": "stream",
     "text": [
      "  5%|\u001b[31m▍         \u001b[0m| 21/450 [00:16<04:17,  1.66it/s]"
     ]
    },
    {
     "name": "stdout",
     "output_type": "stream",
     "text": [
      "Iteration:  20\n",
      "[2 2 7 ... 8 2 0] [2 6 4 ... 2 6 0]\n",
      "0.2582439024390244\n"
     ]
    },
    {
     "name": "stderr",
     "output_type": "stream",
     "text": [
      "  5%|\u001b[31m▍         \u001b[0m| 22/450 [00:17<04:10,  1.71it/s]"
     ]
    },
    {
     "name": "stdout",
     "output_type": "stream",
     "text": [
      "Iteration:  21\n",
      "[2 2 7 ... 8 2 0] [2 6 4 ... 2 6 0]\n",
      "0.26378048780487806\n"
     ]
    },
    {
     "name": "stderr",
     "output_type": "stream",
     "text": [
      "  5%|\u001b[31m▌         \u001b[0m| 23/450 [00:17<04:29,  1.59it/s]"
     ]
    },
    {
     "name": "stdout",
     "output_type": "stream",
     "text": [
      "Iteration:  22\n",
      "[2 2 7 ... 8 2 0] [2 6 4 ... 2 6 0]\n",
      "0.26934146341463416\n"
     ]
    },
    {
     "name": "stderr",
     "output_type": "stream",
     "text": [
      "  5%|\u001b[31m▌         \u001b[0m| 24/450 [00:18<03:54,  1.82it/s]"
     ]
    },
    {
     "name": "stdout",
     "output_type": "stream",
     "text": [
      "Iteration:  23\n",
      "[2 2 7 ... 8 2 0] [2 6 4 ... 2 6 0]\n",
      "0.2745365853658537\n"
     ]
    },
    {
     "name": "stderr",
     "output_type": "stream",
     "text": [
      "  6%|\u001b[31m▌         \u001b[0m| 25/450 [00:19<04:20,  1.63it/s]"
     ]
    },
    {
     "name": "stdout",
     "output_type": "stream",
     "text": [
      "Iteration:  24\n",
      "[2 2 7 ... 8 2 0] [2 6 4 ... 2 6 0]\n",
      "0.2798536585365854\n"
     ]
    },
    {
     "name": "stderr",
     "output_type": "stream",
     "text": [
      "  6%|\u001b[31m▌         \u001b[0m| 26/450 [00:20<07:02,  1.00it/s]"
     ]
    },
    {
     "name": "stdout",
     "output_type": "stream",
     "text": [
      "Iteration:  25\n",
      "[2 2 7 ... 8 2 0] [2 6 4 ... 2 6 0]\n",
      "0.2851463414634146\n"
     ]
    },
    {
     "name": "stderr",
     "output_type": "stream",
     "text": [
      "  6%|\u001b[31m▌         \u001b[0m| 27/450 [00:21<07:04,  1.00s/it]"
     ]
    },
    {
     "name": "stdout",
     "output_type": "stream",
     "text": [
      "Iteration:  26\n",
      "[2 2 7 ... 8 2 0] [2 6 4 ... 2 6 0]\n",
      "0.2898780487804878\n"
     ]
    },
    {
     "name": "stderr",
     "output_type": "stream",
     "text": [
      "  6%|\u001b[31m▌         \u001b[0m| 28/450 [00:22<06:09,  1.14it/s]"
     ]
    },
    {
     "name": "stdout",
     "output_type": "stream",
     "text": [
      "Iteration:  27\n",
      "[2 2 7 ... 8 2 0] [2 6 4 ... 2 6 0]\n",
      "0.2945853658536585\n"
     ]
    },
    {
     "name": "stderr",
     "output_type": "stream",
     "text": [
      "  6%|\u001b[31m▋         \u001b[0m| 29/450 [00:23<05:46,  1.21it/s]"
     ]
    },
    {
     "name": "stdout",
     "output_type": "stream",
     "text": [
      "Iteration:  28\n",
      "[2 2 7 ... 8 2 0] [2 6 4 ... 2 6 0]\n",
      "0.2995853658536585\n"
     ]
    },
    {
     "name": "stderr",
     "output_type": "stream",
     "text": [
      "  7%|\u001b[31m▋         \u001b[0m| 30/450 [00:23<05:40,  1.23it/s]"
     ]
    },
    {
     "name": "stdout",
     "output_type": "stream",
     "text": [
      "Iteration:  29\n",
      "[2 2 7 ... 8 2 0] [2 6 4 ... 2 6 0]\n",
      "0.30465853658536585\n"
     ]
    },
    {
     "name": "stderr",
     "output_type": "stream",
     "text": [
      "  7%|\u001b[31m▋         \u001b[0m| 31/450 [00:25<06:18,  1.11it/s]"
     ]
    },
    {
     "name": "stdout",
     "output_type": "stream",
     "text": [
      "Iteration:  30\n",
      "[2 2 7 ... 8 2 0] [2 6 4 ... 2 6 0]\n",
      "0.3090731707317073\n"
     ]
    },
    {
     "name": "stderr",
     "output_type": "stream",
     "text": [
      "  7%|\u001b[31m▋         \u001b[0m| 32/450 [00:26<06:59,  1.00s/it]"
     ]
    },
    {
     "name": "stdout",
     "output_type": "stream",
     "text": [
      "Iteration:  31\n",
      "[2 2 7 ... 7 2 0] [2 6 4 ... 2 6 0]\n",
      "0.3134390243902439\n"
     ]
    },
    {
     "name": "stderr",
     "output_type": "stream",
     "text": [
      "  7%|\u001b[31m▋         \u001b[0m| 33/450 [00:27<07:13,  1.04s/it]"
     ]
    },
    {
     "name": "stdout",
     "output_type": "stream",
     "text": [
      "Iteration:  32\n",
      "[2 6 7 ... 7 2 0] [2 6 4 ... 2 6 0]\n",
      "0.31814634146341464\n"
     ]
    },
    {
     "name": "stderr",
     "output_type": "stream",
     "text": [
      "  8%|\u001b[31m▊         \u001b[0m| 34/450 [00:28<06:28,  1.07it/s]"
     ]
    },
    {
     "name": "stdout",
     "output_type": "stream",
     "text": [
      "Iteration:  33\n",
      "[2 6 9 ... 7 2 0] [2 6 4 ... 2 6 0]\n",
      "0.3224390243902439\n"
     ]
    },
    {
     "name": "stderr",
     "output_type": "stream",
     "text": [
      "  8%|\u001b[31m▊         \u001b[0m| 35/450 [00:28<06:15,  1.11it/s]"
     ]
    },
    {
     "name": "stdout",
     "output_type": "stream",
     "text": [
      "Iteration:  34\n",
      "[2 6 9 ... 7 2 0] [2 6 4 ... 2 6 0]\n",
      "0.32782926829268294\n"
     ]
    },
    {
     "name": "stderr",
     "output_type": "stream",
     "text": [
      "  8%|\u001b[31m▊         \u001b[0m| 36/450 [00:30<07:47,  1.13s/it]"
     ]
    },
    {
     "name": "stdout",
     "output_type": "stream",
     "text": [
      "Iteration:  35\n",
      "[2 6 9 ... 7 2 0] [2 6 4 ... 2 6 0]\n",
      "0.33270731707317075\n"
     ]
    },
    {
     "name": "stderr",
     "output_type": "stream",
     "text": [
      "  8%|\u001b[31m▊         \u001b[0m| 37/450 [00:32<09:08,  1.33s/it]"
     ]
    },
    {
     "name": "stdout",
     "output_type": "stream",
     "text": [
      "Iteration:  36\n",
      "[2 6 9 ... 7 2 0] [2 6 4 ... 2 6 0]\n",
      "0.3370487804878049\n"
     ]
    },
    {
     "name": "stderr",
     "output_type": "stream",
     "text": [
      "  8%|\u001b[31m▊         \u001b[0m| 38/450 [00:33<09:11,  1.34s/it]"
     ]
    },
    {
     "name": "stdout",
     "output_type": "stream",
     "text": [
      "Iteration:  37\n",
      "[2 6 9 ... 7 2 0] [2 6 4 ... 2 6 0]\n",
      "0.34095121951219515\n"
     ]
    },
    {
     "name": "stderr",
     "output_type": "stream",
     "text": [
      "  9%|\u001b[31m▊         \u001b[0m| 39/450 [00:34<07:44,  1.13s/it]"
     ]
    },
    {
     "name": "stdout",
     "output_type": "stream",
     "text": [
      "Iteration:  38\n",
      "[2 6 9 ... 7 2 0] [2 6 4 ... 2 6 0]\n",
      "0.34485365853658534\n"
     ]
    },
    {
     "name": "stderr",
     "output_type": "stream",
     "text": [
      "  9%|\u001b[31m▉         \u001b[0m| 40/450 [00:35<06:35,  1.04it/s]"
     ]
    },
    {
     "name": "stdout",
     "output_type": "stream",
     "text": [
      "Iteration:  39\n",
      "[2 6 9 ... 7 2 0] [2 6 4 ... 2 6 0]\n",
      "0.3484390243902439\n"
     ]
    },
    {
     "name": "stderr",
     "output_type": "stream",
     "text": [
      "  9%|\u001b[31m▉         \u001b[0m| 41/450 [00:36<08:21,  1.23s/it]"
     ]
    },
    {
     "name": "stdout",
     "output_type": "stream",
     "text": [
      "Iteration:  40\n",
      "[2 6 9 ... 7 2 0] [2 6 4 ... 2 6 0]\n",
      "0.35153658536585364\n"
     ]
    },
    {
     "name": "stderr",
     "output_type": "stream",
     "text": [
      "  9%|\u001b[31m▉         \u001b[0m| 42/450 [00:37<07:19,  1.08s/it]"
     ]
    },
    {
     "name": "stdout",
     "output_type": "stream",
     "text": [
      "Iteration:  41\n",
      "[2 6 9 ... 7 2 0] [2 6 4 ... 2 6 0]\n",
      "0.35521951219512193\n"
     ]
    },
    {
     "name": "stderr",
     "output_type": "stream",
     "text": [
      " 10%|\u001b[31m▉         \u001b[0m| 43/450 [00:38<06:31,  1.04it/s]"
     ]
    },
    {
     "name": "stdout",
     "output_type": "stream",
     "text": [
      "Iteration:  42\n",
      "[2 6 9 ... 7 2 0] [2 6 4 ... 2 6 0]\n",
      "0.35897560975609755\n"
     ]
    },
    {
     "name": "stderr",
     "output_type": "stream",
     "text": [
      " 10%|\u001b[31m▉         \u001b[0m| 44/450 [00:38<05:41,  1.19it/s]"
     ]
    },
    {
     "name": "stdout",
     "output_type": "stream",
     "text": [
      "Iteration:  43\n",
      "[2 6 9 ... 7 2 0] [2 6 4 ... 2 6 0]\n",
      "0.363\n"
     ]
    },
    {
     "name": "stderr",
     "output_type": "stream",
     "text": [
      " 10%|\u001b[31m█         \u001b[0m| 45/450 [00:40<06:46,  1.00s/it]"
     ]
    },
    {
     "name": "stdout",
     "output_type": "stream",
     "text": [
      "Iteration:  44\n",
      "[2 6 9 ... 5 2 0] [2 6 4 ... 2 6 0]\n",
      "0.36658536585365853\n"
     ]
    },
    {
     "name": "stderr",
     "output_type": "stream",
     "text": [
      " 10%|\u001b[31m█         \u001b[0m| 46/450 [00:40<05:54,  1.14it/s]"
     ]
    },
    {
     "name": "stdout",
     "output_type": "stream",
     "text": [
      "Iteration:  45\n",
      "[2 6 9 ... 5 2 0] [2 6 4 ... 2 6 0]\n",
      "0.3702682926829268\n"
     ]
    },
    {
     "name": "stderr",
     "output_type": "stream",
     "text": [
      " 10%|\u001b[31m█         \u001b[0m| 47/450 [00:41<06:07,  1.10it/s]"
     ]
    },
    {
     "name": "stdout",
     "output_type": "stream",
     "text": [
      "Iteration:  46\n",
      "[2 6 9 ... 5 2 0] [2 6 4 ... 2 6 0]\n",
      "0.3748048780487805\n"
     ]
    },
    {
     "name": "stderr",
     "output_type": "stream",
     "text": [
      " 11%|\u001b[31m█         \u001b[0m| 48/450 [00:42<06:03,  1.11it/s]"
     ]
    },
    {
     "name": "stdout",
     "output_type": "stream",
     "text": [
      "Iteration:  47\n",
      "[2 6 9 ... 5 2 0] [2 6 4 ... 2 6 0]\n",
      "0.3785609756097561\n"
     ]
    },
    {
     "name": "stderr",
     "output_type": "stream",
     "text": [
      " 11%|\u001b[31m█         \u001b[0m| 49/450 [00:43<05:25,  1.23it/s]"
     ]
    },
    {
     "name": "stdout",
     "output_type": "stream",
     "text": [
      "Iteration:  48\n",
      "[2 6 9 ... 5 2 0] [2 6 4 ... 2 6 0]\n",
      "0.3827317073170732\n"
     ]
    },
    {
     "name": "stderr",
     "output_type": "stream",
     "text": [
      " 11%|\u001b[31m█         \u001b[0m| 50/450 [00:44<06:53,  1.03s/it]"
     ]
    },
    {
     "name": "stdout",
     "output_type": "stream",
     "text": [
      "Iteration:  49\n",
      "[2 6 9 ... 5 2 0] [2 6 4 ... 2 6 0]\n",
      "0.3868536585365854\n"
     ]
    },
    {
     "name": "stderr",
     "output_type": "stream",
     "text": [
      " 11%|\u001b[31m█▏        \u001b[0m| 51/450 [00:45<05:25,  1.22it/s]"
     ]
    },
    {
     "name": "stdout",
     "output_type": "stream",
     "text": [
      "Iteration:  50\n",
      "[2 6 9 ... 5 2 0] [2 6 4 ... 2 6 0]\n",
      "0.3916829268292683\n"
     ]
    },
    {
     "name": "stderr",
     "output_type": "stream",
     "text": [
      " 12%|\u001b[31m█▏        \u001b[0m| 52/450 [00:45<04:52,  1.36it/s]"
     ]
    },
    {
     "name": "stdout",
     "output_type": "stream",
     "text": [
      "Iteration:  51\n",
      "[2 6 9 ... 5 2 0] [2 6 4 ... 2 6 0]\n",
      "0.3957317073170732\n"
     ]
    },
    {
     "name": "stderr",
     "output_type": "stream",
     "text": [
      " 12%|\u001b[31m█▏        \u001b[0m| 53/450 [00:46<04:21,  1.52it/s]"
     ]
    },
    {
     "name": "stdout",
     "output_type": "stream",
     "text": [
      "Iteration:  52\n",
      "[2 6 9 ... 5 2 0] [2 6 4 ... 2 6 0]\n",
      "0.40051219512195124\n"
     ]
    },
    {
     "name": "stderr",
     "output_type": "stream",
     "text": [
      " 12%|\u001b[31m█▏        \u001b[0m| 54/450 [00:47<05:13,  1.26it/s]"
     ]
    },
    {
     "name": "stdout",
     "output_type": "stream",
     "text": [
      "Iteration:  53\n",
      "[2 6 9 ... 5 2 0] [2 6 4 ... 2 6 0]\n",
      "0.40431707317073173\n"
     ]
    },
    {
     "name": "stderr",
     "output_type": "stream",
     "text": [
      " 12%|\u001b[31m█▏        \u001b[0m| 55/450 [00:47<04:58,  1.32it/s]"
     ]
    },
    {
     "name": "stdout",
     "output_type": "stream",
     "text": [
      "Iteration:  54\n",
      "[2 6 9 ... 5 2 0] [2 6 4 ... 2 6 0]\n",
      "0.4089024390243902\n"
     ]
    },
    {
     "name": "stderr",
     "output_type": "stream",
     "text": [
      " 12%|\u001b[31m█▏        \u001b[0m| 56/450 [00:48<05:14,  1.25it/s]"
     ]
    },
    {
     "name": "stdout",
     "output_type": "stream",
     "text": [
      "Iteration:  55\n",
      "[2 6 9 ... 5 2 0] [2 6 4 ... 2 6 0]\n",
      "0.4131463414634146\n"
     ]
    },
    {
     "name": "stderr",
     "output_type": "stream",
     "text": [
      " 13%|\u001b[31m█▎        \u001b[0m| 57/450 [00:49<04:39,  1.41it/s]"
     ]
    },
    {
     "name": "stdout",
     "output_type": "stream",
     "text": [
      "Iteration:  56\n",
      "[2 6 9 ... 5 2 0] [2 6 4 ... 2 6 0]\n",
      "0.41748780487804876\n"
     ]
    },
    {
     "name": "stderr",
     "output_type": "stream",
     "text": [
      " 13%|\u001b[31m█▎        \u001b[0m| 58/450 [00:49<04:12,  1.55it/s]"
     ]
    },
    {
     "name": "stdout",
     "output_type": "stream",
     "text": [
      "Iteration:  57\n",
      "[2 6 9 ... 5 2 0] [2 6 4 ... 2 6 0]\n",
      "0.4220243902439024\n"
     ]
    },
    {
     "name": "stderr",
     "output_type": "stream",
     "text": [
      " 13%|\u001b[31m█▎        \u001b[0m| 59/450 [00:50<03:34,  1.82it/s]"
     ]
    },
    {
     "name": "stdout",
     "output_type": "stream",
     "text": [
      "Iteration:  58\n",
      "[2 6 9 ... 5 2 0] [2 6 4 ... 2 6 0]\n",
      "0.4265853658536585\n"
     ]
    },
    {
     "name": "stderr",
     "output_type": "stream",
     "text": [
      " 13%|\u001b[31m█▎        \u001b[0m| 60/450 [00:50<03:43,  1.74it/s]"
     ]
    },
    {
     "name": "stdout",
     "output_type": "stream",
     "text": [
      "Iteration:  59\n",
      "[2 6 9 ... 5 2 0] [2 6 4 ... 2 6 0]\n",
      "0.43160975609756097\n"
     ]
    },
    {
     "name": "stderr",
     "output_type": "stream",
     "text": [
      " 14%|\u001b[31m█▎        \u001b[0m| 61/450 [00:52<06:09,  1.05it/s]"
     ]
    },
    {
     "name": "stdout",
     "output_type": "stream",
     "text": [
      "Iteration:  60\n",
      "[2 6 9 ... 5 2 0] [2 6 4 ... 2 6 0]\n",
      "0.43685365853658537\n"
     ]
    },
    {
     "name": "stderr",
     "output_type": "stream",
     "text": [
      " 14%|\u001b[31m█▍        \u001b[0m| 62/450 [00:53<05:38,  1.15it/s]"
     ]
    },
    {
     "name": "stdout",
     "output_type": "stream",
     "text": [
      "Iteration:  61\n",
      "[2 6 9 ... 5 2 0] [2 6 4 ... 2 6 0]\n",
      "0.4412439024390244\n"
     ]
    },
    {
     "name": "stderr",
     "output_type": "stream",
     "text": [
      " 14%|\u001b[31m█▍        \u001b[0m| 63/450 [00:54<05:23,  1.20it/s]"
     ]
    },
    {
     "name": "stdout",
     "output_type": "stream",
     "text": [
      "Iteration:  62\n",
      "[2 6 9 ... 5 2 0] [2 6 4 ... 2 6 0]\n",
      "0.44558536585365854\n"
     ]
    },
    {
     "name": "stderr",
     "output_type": "stream",
     "text": [
      " 14%|\u001b[31m█▍        \u001b[0m| 64/450 [00:54<04:20,  1.48it/s]"
     ]
    },
    {
     "name": "stdout",
     "output_type": "stream",
     "text": [
      "Iteration:  63\n",
      "[2 6 9 ... 5 2 0] [2 6 4 ... 2 6 0]\n",
      "0.4497560975609756\n"
     ]
    },
    {
     "name": "stderr",
     "output_type": "stream",
     "text": [
      " 14%|\u001b[31m█▍        \u001b[0m| 65/450 [00:54<04:10,  1.53it/s]"
     ]
    },
    {
     "name": "stdout",
     "output_type": "stream",
     "text": [
      "Iteration:  64\n",
      "[2 6 9 ... 5 2 0] [2 6 4 ... 2 6 0]\n",
      "0.4547560975609756\n"
     ]
    },
    {
     "name": "stderr",
     "output_type": "stream",
     "text": [
      " 15%|\u001b[31m█▍        \u001b[0m| 66/450 [00:55<04:10,  1.53it/s]"
     ]
    },
    {
     "name": "stdout",
     "output_type": "stream",
     "text": [
      "Iteration:  65\n",
      "[2 6 9 ... 5 2 0] [2 6 4 ... 2 6 0]\n",
      "0.458609756097561\n"
     ]
    },
    {
     "name": "stderr",
     "output_type": "stream",
     "text": [
      " 15%|\u001b[31m█▍        \u001b[0m| 67/450 [00:56<03:40,  1.74it/s]"
     ]
    },
    {
     "name": "stdout",
     "output_type": "stream",
     "text": [
      "Iteration:  66\n",
      "[2 6 9 ... 5 2 0] [2 6 4 ... 2 6 0]\n",
      "0.46246341463414636\n"
     ]
    },
    {
     "name": "stderr",
     "output_type": "stream",
     "text": [
      " 15%|\u001b[31m█▌        \u001b[0m| 68/450 [00:56<03:42,  1.72it/s]"
     ]
    },
    {
     "name": "stdout",
     "output_type": "stream",
     "text": [
      "Iteration:  67\n",
      "[2 6 9 ... 5 2 0] [2 6 4 ... 2 6 0]\n",
      "0.4667317073170732\n"
     ]
    },
    {
     "name": "stderr",
     "output_type": "stream",
     "text": [
      " 15%|\u001b[31m█▌        \u001b[0m| 69/450 [00:57<04:37,  1.37it/s]"
     ]
    },
    {
     "name": "stdout",
     "output_type": "stream",
     "text": [
      "Iteration:  68\n",
      "[2 6 9 ... 5 2 0] [2 6 4 ... 2 6 0]\n",
      "0.47085365853658534\n"
     ]
    },
    {
     "name": "stderr",
     "output_type": "stream",
     "text": [
      " 16%|\u001b[31m█▌        \u001b[0m| 70/450 [00:59<06:28,  1.02s/it]"
     ]
    },
    {
     "name": "stdout",
     "output_type": "stream",
     "text": [
      "Iteration:  69\n",
      "[2 6 9 ... 5 2 0] [2 6 4 ... 2 6 0]\n",
      "0.47473170731707315\n"
     ]
    },
    {
     "name": "stderr",
     "output_type": "stream",
     "text": [
      " 16%|\u001b[31m█▌        \u001b[0m| 71/450 [01:01<08:15,  1.31s/it]"
     ]
    },
    {
     "name": "stdout",
     "output_type": "stream",
     "text": [
      "Iteration:  70\n",
      "[2 6 9 ... 5 2 0] [2 6 4 ... 2 6 0]\n",
      "0.47853658536585364\n"
     ]
    },
    {
     "name": "stderr",
     "output_type": "stream",
     "text": [
      " 16%|\u001b[31m█▌        \u001b[0m| 72/450 [01:03<09:58,  1.58s/it]"
     ]
    },
    {
     "name": "stdout",
     "output_type": "stream",
     "text": [
      "Iteration:  71\n",
      "[2 6 9 ... 5 2 0] [2 6 4 ... 2 6 0]\n",
      "0.4826829268292683\n"
     ]
    },
    {
     "name": "stderr",
     "output_type": "stream",
     "text": [
      " 16%|\u001b[31m█▌        \u001b[0m| 73/450 [01:04<09:15,  1.47s/it]"
     ]
    },
    {
     "name": "stdout",
     "output_type": "stream",
     "text": [
      "Iteration:  72\n",
      "[2 6 9 ... 5 2 0] [2 6 4 ... 2 6 0]\n",
      "0.486390243902439\n"
     ]
    },
    {
     "name": "stderr",
     "output_type": "stream",
     "text": [
      " 16%|\u001b[31m█▋        \u001b[0m| 74/450 [01:06<09:59,  1.59s/it]"
     ]
    },
    {
     "name": "stdout",
     "output_type": "stream",
     "text": [
      "Iteration:  73\n",
      "[2 6 9 ... 5 2 0] [2 6 4 ... 2 6 0]\n",
      "0.49078048780487804\n"
     ]
    },
    {
     "name": "stderr",
     "output_type": "stream",
     "text": [
      " 17%|\u001b[31m█▋        \u001b[0m| 75/450 [01:09<12:15,  1.96s/it]"
     ]
    },
    {
     "name": "stdout",
     "output_type": "stream",
     "text": [
      "Iteration:  74\n",
      "[2 6 9 ... 5 2 0] [2 6 4 ... 2 6 0]\n",
      "0.4945609756097561\n"
     ]
    },
    {
     "name": "stderr",
     "output_type": "stream",
     "text": [
      " 17%|\u001b[31m█▋        \u001b[0m| 76/450 [01:10<10:31,  1.69s/it]"
     ]
    },
    {
     "name": "stdout",
     "output_type": "stream",
     "text": [
      "Iteration:  75\n",
      "[2 6 9 ... 5 2 0] [2 6 4 ... 2 6 0]\n",
      "0.49821951219512195\n"
     ]
    },
    {
     "name": "stderr",
     "output_type": "stream",
     "text": [
      " 17%|\u001b[31m█▋        \u001b[0m| 77/450 [01:11<08:49,  1.42s/it]"
     ]
    },
    {
     "name": "stdout",
     "output_type": "stream",
     "text": [
      "Iteration:  76\n",
      "[2 6 9 ... 5 2 0] [2 6 4 ... 2 6 0]\n",
      "0.5018048780487805\n"
     ]
    },
    {
     "name": "stderr",
     "output_type": "stream",
     "text": [
      " 17%|\u001b[31m█▋        \u001b[0m| 78/450 [01:12<08:34,  1.38s/it]"
     ]
    },
    {
     "name": "stdout",
     "output_type": "stream",
     "text": [
      "Iteration:  77\n",
      "[2 6 9 ... 5 2 0] [2 6 4 ... 2 6 0]\n",
      "0.505780487804878\n"
     ]
    },
    {
     "name": "stderr",
     "output_type": "stream",
     "text": [
      " 18%|\u001b[31m█▊        \u001b[0m| 79/450 [01:13<07:43,  1.25s/it]"
     ]
    },
    {
     "name": "stdout",
     "output_type": "stream",
     "text": [
      "Iteration:  78\n",
      "[2 6 9 ... 5 2 0] [2 6 4 ... 2 6 0]\n",
      "0.5093414634146342\n"
     ]
    },
    {
     "name": "stderr",
     "output_type": "stream",
     "text": [
      " 18%|\u001b[31m█▊        \u001b[0m| 80/450 [01:14<06:21,  1.03s/it]"
     ]
    },
    {
     "name": "stdout",
     "output_type": "stream",
     "text": [
      "Iteration:  79\n",
      "[2 6 9 ... 5 2 0] [2 6 4 ... 2 6 0]\n",
      "0.5127317073170732\n"
     ]
    },
    {
     "name": "stderr",
     "output_type": "stream",
     "text": [
      " 18%|\u001b[31m█▊        \u001b[0m| 81/450 [01:15<06:07,  1.01it/s]"
     ]
    },
    {
     "name": "stdout",
     "output_type": "stream",
     "text": [
      "Iteration:  80\n",
      "[2 6 9 ... 5 2 0] [2 6 4 ... 2 6 0]\n",
      "0.5158536585365854\n"
     ]
    },
    {
     "name": "stderr",
     "output_type": "stream",
     "text": [
      " 18%|\u001b[31m█▊        \u001b[0m| 82/450 [01:15<05:38,  1.09it/s]"
     ]
    },
    {
     "name": "stdout",
     "output_type": "stream",
     "text": [
      "Iteration:  81\n",
      "[2 6 9 ... 5 2 0] [2 6 4 ... 2 6 0]\n",
      "0.5194146341463415\n"
     ]
    },
    {
     "name": "stderr",
     "output_type": "stream",
     "text": [
      " 18%|\u001b[31m█▊        \u001b[0m| 83/450 [01:16<05:23,  1.13it/s]"
     ]
    },
    {
     "name": "stdout",
     "output_type": "stream",
     "text": [
      "Iteration:  82\n",
      "[2 6 9 ... 5 2 0] [2 6 4 ... 2 6 0]\n",
      "0.5222439024390244\n"
     ]
    },
    {
     "name": "stderr",
     "output_type": "stream",
     "text": [
      " 19%|\u001b[31m█▊        \u001b[0m| 84/450 [01:17<06:17,  1.03s/it]"
     ]
    },
    {
     "name": "stdout",
     "output_type": "stream",
     "text": [
      "Iteration:  83\n",
      "[2 6 9 ... 5 2 0] [2 6 4 ... 2 6 0]\n",
      "0.525609756097561\n"
     ]
    },
    {
     "name": "stderr",
     "output_type": "stream",
     "text": [
      " 19%|\u001b[31m█▉        \u001b[0m| 85/450 [01:19<06:31,  1.07s/it]"
     ]
    },
    {
     "name": "stdout",
     "output_type": "stream",
     "text": [
      "Iteration:  84\n",
      "[2 6 9 ... 5 2 0] [2 6 4 ... 2 6 0]\n",
      "0.5286341463414634\n"
     ]
    },
    {
     "name": "stderr",
     "output_type": "stream",
     "text": [
      " 19%|\u001b[31m█▉        \u001b[0m| 86/450 [01:19<05:38,  1.08it/s]"
     ]
    },
    {
     "name": "stdout",
     "output_type": "stream",
     "text": [
      "Iteration:  85\n",
      "[2 6 9 ... 5 2 0] [2 6 4 ... 2 6 0]\n",
      "0.532219512195122\n"
     ]
    },
    {
     "name": "stderr",
     "output_type": "stream",
     "text": [
      " 19%|\u001b[31m█▉        \u001b[0m| 87/450 [01:20<05:09,  1.17it/s]"
     ]
    },
    {
     "name": "stdout",
     "output_type": "stream",
     "text": [
      "Iteration:  86\n",
      "[2 6 9 ... 5 2 0] [2 6 4 ... 2 6 0]\n",
      "0.534829268292683\n"
     ]
    },
    {
     "name": "stderr",
     "output_type": "stream",
     "text": [
      " 20%|\u001b[31m█▉        \u001b[0m| 88/450 [01:21<04:57,  1.22it/s]"
     ]
    },
    {
     "name": "stdout",
     "output_type": "stream",
     "text": [
      "Iteration:  87\n",
      "[2 6 9 ... 5 2 0] [2 6 4 ... 2 6 0]\n",
      "0.5377317073170732\n"
     ]
    },
    {
     "name": "stderr",
     "output_type": "stream",
     "text": [
      " 20%|\u001b[31m█▉        \u001b[0m| 89/450 [01:21<04:45,  1.26it/s]"
     ]
    },
    {
     "name": "stdout",
     "output_type": "stream",
     "text": [
      "Iteration:  88\n",
      "[2 6 9 ... 5 2 0] [2 6 4 ... 2 6 0]\n",
      "0.5407560975609756\n"
     ]
    },
    {
     "name": "stderr",
     "output_type": "stream",
     "text": [
      " 20%|\u001b[31m██        \u001b[0m| 90/450 [01:22<04:55,  1.22it/s]"
     ]
    },
    {
     "name": "stdout",
     "output_type": "stream",
     "text": [
      "Iteration:  89\n",
      "[2 6 9 ... 5 2 0] [2 6 4 ... 2 6 0]\n",
      "0.5438048780487805\n"
     ]
    },
    {
     "name": "stderr",
     "output_type": "stream",
     "text": [
      " 20%|\u001b[31m██        \u001b[0m| 91/450 [01:23<05:42,  1.05it/s]"
     ]
    },
    {
     "name": "stdout",
     "output_type": "stream",
     "text": [
      "Iteration:  90\n",
      "[2 6 9 ... 5 2 0] [2 6 4 ... 2 6 0]\n",
      "0.5463658536585366\n"
     ]
    },
    {
     "name": "stderr",
     "output_type": "stream",
     "text": [
      " 20%|\u001b[31m██        \u001b[0m| 92/450 [01:25<05:56,  1.00it/s]"
     ]
    },
    {
     "name": "stdout",
     "output_type": "stream",
     "text": [
      "Iteration:  91\n",
      "[2 6 9 ... 5 2 0] [2 6 4 ... 2 6 0]\n",
      "0.5489756097560976\n"
     ]
    },
    {
     "name": "stderr",
     "output_type": "stream",
     "text": [
      " 21%|\u001b[31m██        \u001b[0m| 93/450 [01:25<05:35,  1.06it/s]"
     ]
    },
    {
     "name": "stdout",
     "output_type": "stream",
     "text": [
      "Iteration:  92\n",
      "[2 6 9 ... 4 2 0] [2 6 4 ... 2 6 0]\n",
      "0.5512926829268293\n"
     ]
    },
    {
     "name": "stderr",
     "output_type": "stream",
     "text": [
      " 21%|\u001b[31m██        \u001b[0m| 94/450 [01:27<07:29,  1.26s/it]"
     ]
    },
    {
     "name": "stdout",
     "output_type": "stream",
     "text": [
      "Iteration:  93\n",
      "[2 6 9 ... 4 2 0] [2 6 4 ... 2 6 0]\n",
      "0.5545121951219513\n"
     ]
    },
    {
     "name": "stderr",
     "output_type": "stream",
     "text": [
      " 21%|\u001b[31m██        \u001b[0m| 95/450 [01:29<07:30,  1.27s/it]"
     ]
    },
    {
     "name": "stdout",
     "output_type": "stream",
     "text": [
      "Iteration:  94\n",
      "[2 6 9 ... 4 2 0] [2 6 4 ... 2 6 0]\n",
      "0.5568048780487805\n"
     ]
    },
    {
     "name": "stderr",
     "output_type": "stream",
     "text": [
      " 21%|\u001b[31m██▏       \u001b[0m| 96/450 [01:29<05:56,  1.01s/it]"
     ]
    },
    {
     "name": "stdout",
     "output_type": "stream",
     "text": [
      "Iteration:  95\n",
      "[2 6 9 ... 4 2 0] [2 6 4 ... 2 6 0]\n",
      "0.5591951219512196\n"
     ]
    },
    {
     "name": "stderr",
     "output_type": "stream",
     "text": [
      " 22%|\u001b[31m██▏       \u001b[0m| 97/450 [01:30<04:53,  1.20it/s]"
     ]
    },
    {
     "name": "stdout",
     "output_type": "stream",
     "text": [
      "Iteration:  96\n",
      "[2 6 9 ... 4 2 0] [2 6 4 ... 2 6 0]\n",
      "0.5622682926829269\n"
     ]
    },
    {
     "name": "stderr",
     "output_type": "stream",
     "text": [
      " 22%|\u001b[31m██▏       \u001b[0m| 98/450 [01:30<04:04,  1.44it/s]"
     ]
    },
    {
     "name": "stdout",
     "output_type": "stream",
     "text": [
      "Iteration:  97\n",
      "[2 6 9 ... 4 2 0] [2 6 4 ... 2 6 0]\n",
      "0.5649024390243902\n"
     ]
    },
    {
     "name": "stderr",
     "output_type": "stream",
     "text": [
      " 22%|\u001b[31m██▏       \u001b[0m| 99/450 [01:31<04:07,  1.42it/s]"
     ]
    },
    {
     "name": "stdout",
     "output_type": "stream",
     "text": [
      "Iteration:  98\n",
      "[2 6 9 ... 4 2 0] [2 6 4 ... 2 6 0]\n",
      "0.567560975609756\n"
     ]
    },
    {
     "name": "stderr",
     "output_type": "stream",
     "text": [
      " 22%|\u001b[31m██▏       \u001b[0m| 100/450 [01:31<03:24,  1.71it/s]"
     ]
    },
    {
     "name": "stdout",
     "output_type": "stream",
     "text": [
      "Iteration:  99\n",
      "[2 6 9 ... 4 2 0] [2 6 4 ... 2 6 0]\n",
      "0.5696097560975609\n"
     ]
    },
    {
     "name": "stderr",
     "output_type": "stream",
     "text": [
      " 22%|\u001b[31m██▏       \u001b[0m| 101/450 [01:32<03:38,  1.60it/s]"
     ]
    },
    {
     "name": "stdout",
     "output_type": "stream",
     "text": [
      "Iteration:  100\n",
      "[2 6 9 ... 4 2 0] [2 6 4 ... 2 6 0]\n",
      "0.5719756097560975\n"
     ]
    },
    {
     "name": "stderr",
     "output_type": "stream",
     "text": [
      " 23%|\u001b[31m██▎       \u001b[0m| 102/450 [01:32<03:08,  1.85it/s]"
     ]
    },
    {
     "name": "stdout",
     "output_type": "stream",
     "text": [
      "Iteration:  101\n",
      "[2 6 9 ... 4 2 0] [2 6 4 ... 2 6 0]\n",
      "0.5741219512195121\n"
     ]
    },
    {
     "name": "stderr",
     "output_type": "stream",
     "text": [
      " 23%|\u001b[31m██▎       \u001b[0m| 103/450 [01:33<03:21,  1.72it/s]"
     ]
    },
    {
     "name": "stdout",
     "output_type": "stream",
     "text": [
      "Iteration:  102\n",
      "[2 6 9 ... 4 2 0] [2 6 4 ... 2 6 0]\n",
      "0.5768292682926829\n"
     ]
    },
    {
     "name": "stderr",
     "output_type": "stream",
     "text": [
      " 23%|\u001b[31m██▎       \u001b[0m| 104/450 [01:33<03:47,  1.52it/s]"
     ]
    },
    {
     "name": "stdout",
     "output_type": "stream",
     "text": [
      "Iteration:  103\n",
      "[2 6 9 ... 4 2 0] [2 6 4 ... 2 6 0]\n",
      "0.578390243902439\n"
     ]
    },
    {
     "name": "stderr",
     "output_type": "stream",
     "text": [
      " 23%|\u001b[31m██▎       \u001b[0m| 105/450 [01:34<04:22,  1.31it/s]"
     ]
    },
    {
     "name": "stdout",
     "output_type": "stream",
     "text": [
      "Iteration:  104\n",
      "[2 6 9 ... 4 2 0] [2 6 4 ... 2 6 0]\n",
      "0.5810243902439024\n"
     ]
    },
    {
     "name": "stderr",
     "output_type": "stream",
     "text": [
      " 24%|\u001b[31m██▎       \u001b[0m| 106/450 [01:35<04:14,  1.35it/s]"
     ]
    },
    {
     "name": "stdout",
     "output_type": "stream",
     "text": [
      "Iteration:  105\n",
      "[2 6 9 ... 4 2 0] [2 6 4 ... 2 6 0]\n",
      "0.5832926829268292\n"
     ]
    },
    {
     "name": "stderr",
     "output_type": "stream",
     "text": [
      " 24%|\u001b[31m██▍       \u001b[0m| 107/450 [01:36<04:37,  1.24it/s]"
     ]
    },
    {
     "name": "stdout",
     "output_type": "stream",
     "text": [
      "Iteration:  106\n",
      "[2 6 9 ... 4 2 0] [2 6 4 ... 2 6 0]\n",
      "0.5857560975609756\n"
     ]
    },
    {
     "name": "stderr",
     "output_type": "stream",
     "text": [
      " 24%|\u001b[31m██▍       \u001b[0m| 108/450 [01:38<05:54,  1.04s/it]"
     ]
    },
    {
     "name": "stdout",
     "output_type": "stream",
     "text": [
      "Iteration:  107\n",
      "[2 6 9 ... 4 2 0] [2 6 4 ... 2 6 0]\n",
      "0.5879756097560975\n"
     ]
    },
    {
     "name": "stderr",
     "output_type": "stream",
     "text": [
      " 24%|\u001b[31m██▍       \u001b[0m| 109/450 [01:39<06:22,  1.12s/it]"
     ]
    },
    {
     "name": "stdout",
     "output_type": "stream",
     "text": [
      "Iteration:  108\n",
      "[2 6 9 ... 4 2 0] [2 6 4 ... 2 6 0]\n",
      "0.5902195121951219\n"
     ]
    },
    {
     "name": "stderr",
     "output_type": "stream",
     "text": [
      " 24%|\u001b[31m██▍       \u001b[0m| 110/450 [01:40<05:41,  1.01s/it]"
     ]
    },
    {
     "name": "stdout",
     "output_type": "stream",
     "text": [
      "Iteration:  109\n",
      "[2 6 9 ... 4 2 0] [2 6 4 ... 2 6 0]\n",
      "0.592609756097561\n"
     ]
    },
    {
     "name": "stderr",
     "output_type": "stream",
     "text": [
      " 25%|\u001b[31m██▍       \u001b[0m| 111/450 [01:40<04:52,  1.16it/s]"
     ]
    },
    {
     "name": "stdout",
     "output_type": "stream",
     "text": [
      "Iteration:  110\n",
      "[2 6 9 ... 4 2 0] [2 6 4 ... 2 6 0]\n",
      "0.5945609756097561\n"
     ]
    },
    {
     "name": "stderr",
     "output_type": "stream",
     "text": [
      " 25%|\u001b[31m██▍       \u001b[0m| 112/450 [01:41<04:37,  1.22it/s]"
     ]
    },
    {
     "name": "stdout",
     "output_type": "stream",
     "text": [
      "Iteration:  111\n",
      "[2 6 9 ... 4 2 0] [2 6 4 ... 2 6 0]\n",
      "0.5962195121951219\n"
     ]
    },
    {
     "name": "stderr",
     "output_type": "stream",
     "text": [
      " 25%|\u001b[31m██▌       \u001b[0m| 113/450 [01:42<04:07,  1.36it/s]"
     ]
    },
    {
     "name": "stdout",
     "output_type": "stream",
     "text": [
      "Iteration:  112\n",
      "[2 6 9 ... 4 2 0] [2 6 4 ... 2 6 0]\n",
      "0.598390243902439\n"
     ]
    },
    {
     "name": "stderr",
     "output_type": "stream",
     "text": [
      " 25%|\u001b[31m██▌       \u001b[0m| 114/450 [01:43<05:12,  1.08it/s]"
     ]
    },
    {
     "name": "stdout",
     "output_type": "stream",
     "text": [
      "Iteration:  113\n",
      "[2 6 9 ... 4 2 0] [2 6 4 ... 2 6 0]\n",
      "0.6003658536585366\n"
     ]
    },
    {
     "name": "stderr",
     "output_type": "stream",
     "text": [
      " 26%|\u001b[31m██▌       \u001b[0m| 115/450 [01:45<06:46,  1.21s/it]"
     ]
    },
    {
     "name": "stdout",
     "output_type": "stream",
     "text": [
      "Iteration:  114\n",
      "[2 6 9 ... 4 2 0] [2 6 4 ... 2 6 0]\n",
      "0.6025121951219512\n"
     ]
    },
    {
     "name": "stderr",
     "output_type": "stream",
     "text": [
      " 26%|\u001b[31m██▌       \u001b[0m| 116/450 [01:46<07:05,  1.27s/it]"
     ]
    },
    {
     "name": "stdout",
     "output_type": "stream",
     "text": [
      "Iteration:  115\n",
      "[2 6 9 ... 4 2 0] [2 6 4 ... 2 6 0]\n",
      "0.6044878048780488\n"
     ]
    },
    {
     "name": "stderr",
     "output_type": "stream",
     "text": [
      " 26%|\u001b[31m██▌       \u001b[0m| 117/450 [01:48<07:47,  1.41s/it]"
     ]
    },
    {
     "name": "stdout",
     "output_type": "stream",
     "text": [
      "Iteration:  116\n",
      "[2 6 9 ... 4 2 0] [2 6 4 ... 2 6 0]\n",
      "0.6064634146341463\n"
     ]
    },
    {
     "name": "stderr",
     "output_type": "stream",
     "text": [
      " 26%|\u001b[31m██▌       \u001b[0m| 118/450 [01:50<08:10,  1.48s/it]"
     ]
    },
    {
     "name": "stdout",
     "output_type": "stream",
     "text": [
      "Iteration:  117\n",
      "[2 6 9 ... 4 2 0] [2 6 4 ... 2 6 0]\n",
      "0.6087560975609756\n"
     ]
    },
    {
     "name": "stderr",
     "output_type": "stream",
     "text": [
      " 26%|\u001b[31m██▋       \u001b[0m| 119/450 [01:50<06:58,  1.26s/it]"
     ]
    },
    {
     "name": "stdout",
     "output_type": "stream",
     "text": [
      "Iteration:  118\n",
      "[2 6 9 ... 4 2 0] [2 6 4 ... 2 6 0]\n",
      "0.6112682926829268\n"
     ]
    },
    {
     "name": "stderr",
     "output_type": "stream",
     "text": [
      " 27%|\u001b[31m██▋       \u001b[0m| 120/450 [01:51<06:14,  1.13s/it]"
     ]
    },
    {
     "name": "stdout",
     "output_type": "stream",
     "text": [
      "Iteration:  119\n",
      "[2 6 9 ... 4 2 0] [2 6 4 ... 2 6 0]\n",
      "0.613390243902439\n"
     ]
    },
    {
     "name": "stderr",
     "output_type": "stream",
     "text": [
      " 27%|\u001b[31m██▋       \u001b[0m| 121/450 [01:52<05:39,  1.03s/it]"
     ]
    },
    {
     "name": "stdout",
     "output_type": "stream",
     "text": [
      "Iteration:  120\n",
      "[2 6 9 ... 4 2 0] [2 6 4 ... 2 6 0]\n",
      "0.6154634146341463\n"
     ]
    },
    {
     "name": "stderr",
     "output_type": "stream",
     "text": [
      " 27%|\u001b[31m██▋       \u001b[0m| 122/450 [01:52<04:26,  1.23it/s]"
     ]
    },
    {
     "name": "stdout",
     "output_type": "stream",
     "text": [
      "Iteration:  121\n",
      "[2 6 9 ... 4 2 0] [2 6 4 ... 2 6 0]\n",
      "0.6169024390243902\n"
     ]
    },
    {
     "name": "stderr",
     "output_type": "stream",
     "text": [
      " 27%|\u001b[31m██▋       \u001b[0m| 123/450 [01:53<04:19,  1.26it/s]"
     ]
    },
    {
     "name": "stdout",
     "output_type": "stream",
     "text": [
      "Iteration:  122\n",
      "[2 6 9 ... 4 2 0] [2 6 4 ... 2 6 0]\n",
      "0.6186829268292683\n"
     ]
    },
    {
     "name": "stderr",
     "output_type": "stream",
     "text": [
      " 28%|\u001b[31m██▊       \u001b[0m| 124/450 [01:54<04:00,  1.36it/s]"
     ]
    },
    {
     "name": "stdout",
     "output_type": "stream",
     "text": [
      "Iteration:  123\n",
      "[2 6 4 ... 4 2 0] [2 6 4 ... 2 6 0]\n",
      "0.6202926829268293\n"
     ]
    },
    {
     "name": "stderr",
     "output_type": "stream",
     "text": [
      " 28%|\u001b[31m██▊       \u001b[0m| 125/450 [01:54<03:51,  1.40it/s]"
     ]
    },
    {
     "name": "stdout",
     "output_type": "stream",
     "text": [
      "Iteration:  124\n",
      "[2 6 4 ... 4 6 0] [2 6 4 ... 2 6 0]\n",
      "0.6220975609756098\n"
     ]
    },
    {
     "name": "stderr",
     "output_type": "stream",
     "text": [
      " 28%|\u001b[31m██▊       \u001b[0m| 126/450 [01:55<03:10,  1.70it/s]"
     ]
    },
    {
     "name": "stdout",
     "output_type": "stream",
     "text": [
      "Iteration:  125\n",
      "[2 6 4 ... 4 6 0] [2 6 4 ... 2 6 0]\n",
      "0.6234634146341463\n"
     ]
    },
    {
     "name": "stderr",
     "output_type": "stream",
     "text": [
      " 28%|\u001b[31m██▊       \u001b[0m| 127/450 [01:55<03:05,  1.74it/s]"
     ]
    },
    {
     "name": "stdout",
     "output_type": "stream",
     "text": [
      "Iteration:  126\n",
      "[2 6 4 ... 4 6 0] [2 6 4 ... 2 6 0]\n",
      "0.6252926829268293\n"
     ]
    },
    {
     "name": "stderr",
     "output_type": "stream",
     "text": [
      " 28%|\u001b[31m██▊       \u001b[0m| 128/450 [01:55<02:42,  1.98it/s]"
     ]
    },
    {
     "name": "stdout",
     "output_type": "stream",
     "text": [
      "Iteration:  127\n",
      "[2 6 4 ... 4 6 0] [2 6 4 ... 2 6 0]\n",
      "0.6272439024390244\n"
     ]
    },
    {
     "name": "stderr",
     "output_type": "stream",
     "text": [
      " 29%|\u001b[31m██▊       \u001b[0m| 129/450 [01:57<03:37,  1.48it/s]"
     ]
    },
    {
     "name": "stdout",
     "output_type": "stream",
     "text": [
      "Iteration:  128\n",
      "[2 6 4 ... 4 6 0] [2 6 4 ... 2 6 0]\n",
      "0.6291219512195122\n"
     ]
    },
    {
     "name": "stderr",
     "output_type": "stream",
     "text": [
      " 29%|\u001b[31m██▉       \u001b[0m| 130/450 [01:59<05:58,  1.12s/it]"
     ]
    },
    {
     "name": "stdout",
     "output_type": "stream",
     "text": [
      "Iteration:  129\n",
      "[2 6 4 ... 4 6 0] [2 6 4 ... 2 6 0]\n",
      "0.6310731707317073\n"
     ]
    },
    {
     "name": "stderr",
     "output_type": "stream",
     "text": [
      " 29%|\u001b[31m██▉       \u001b[0m| 131/450 [02:00<06:35,  1.24s/it]"
     ]
    },
    {
     "name": "stdout",
     "output_type": "stream",
     "text": [
      "Iteration:  130\n",
      "[2 6 4 ... 4 6 0] [2 6 4 ... 2 6 0]\n",
      "0.6332439024390244\n"
     ]
    },
    {
     "name": "stderr",
     "output_type": "stream",
     "text": [
      " 29%|\u001b[31m██▉       \u001b[0m| 132/450 [02:01<05:02,  1.05it/s]"
     ]
    },
    {
     "name": "stdout",
     "output_type": "stream",
     "text": [
      "Iteration:  131\n",
      "[2 6 4 ... 4 6 0] [2 6 4 ... 2 6 0]\n",
      "0.6347560975609756\n"
     ]
    },
    {
     "name": "stderr",
     "output_type": "stream",
     "text": [
      " 30%|\u001b[31m██▉       \u001b[0m| 133/450 [02:01<04:21,  1.21it/s]"
     ]
    },
    {
     "name": "stdout",
     "output_type": "stream",
     "text": [
      "Iteration:  132\n",
      "[2 6 4 ... 4 6 0] [2 6 4 ... 2 6 0]\n",
      "0.6364390243902439\n"
     ]
    },
    {
     "name": "stderr",
     "output_type": "stream",
     "text": [
      " 30%|\u001b[31m██▉       \u001b[0m| 134/450 [02:02<03:49,  1.38it/s]"
     ]
    },
    {
     "name": "stdout",
     "output_type": "stream",
     "text": [
      "Iteration:  133\n",
      "[2 6 4 ... 4 6 0] [2 6 4 ... 2 6 0]\n",
      "0.6385609756097561\n"
     ]
    },
    {
     "name": "stderr",
     "output_type": "stream",
     "text": [
      " 30%|\u001b[31m███       \u001b[0m| 135/450 [02:03<04:21,  1.20it/s]"
     ]
    },
    {
     "name": "stdout",
     "output_type": "stream",
     "text": [
      "Iteration:  134\n",
      "[2 6 4 ... 4 6 0] [2 6 4 ... 2 6 0]\n",
      "0.6401219512195122\n"
     ]
    },
    {
     "name": "stderr",
     "output_type": "stream",
     "text": [
      " 30%|\u001b[31m███       \u001b[0m| 136/450 [02:04<04:41,  1.11it/s]"
     ]
    },
    {
     "name": "stdout",
     "output_type": "stream",
     "text": [
      "Iteration:  135\n",
      "[2 6 4 ... 4 6 0] [2 6 4 ... 2 6 0]\n",
      "0.6421707317073171\n"
     ]
    },
    {
     "name": "stderr",
     "output_type": "stream",
     "text": [
      " 30%|\u001b[31m███       \u001b[0m| 137/450 [02:05<05:12,  1.00it/s]"
     ]
    },
    {
     "name": "stdout",
     "output_type": "stream",
     "text": [
      "Iteration:  136\n",
      "[2 6 4 ... 4 6 0] [2 6 4 ... 2 6 0]\n",
      "0.6435853658536586\n"
     ]
    },
    {
     "name": "stderr",
     "output_type": "stream",
     "text": [
      " 31%|\u001b[31m███       \u001b[0m| 138/450 [02:05<04:28,  1.16it/s]"
     ]
    },
    {
     "name": "stdout",
     "output_type": "stream",
     "text": [
      "Iteration:  137\n",
      "[2 6 4 ... 4 6 0] [2 6 4 ... 2 6 0]\n",
      "0.6451463414634147\n"
     ]
    },
    {
     "name": "stderr",
     "output_type": "stream",
     "text": [
      " 31%|\u001b[31m███       \u001b[0m| 139/450 [02:06<03:44,  1.38it/s]"
     ]
    },
    {
     "name": "stdout",
     "output_type": "stream",
     "text": [
      "Iteration:  138\n",
      "[2 6 4 ... 4 6 0] [2 6 4 ... 2 6 0]\n",
      "0.6464878048780488\n"
     ]
    },
    {
     "name": "stderr",
     "output_type": "stream",
     "text": [
      " 31%|\u001b[31m███       \u001b[0m| 140/450 [02:07<05:03,  1.02it/s]"
     ]
    },
    {
     "name": "stdout",
     "output_type": "stream",
     "text": [
      "Iteration:  139\n",
      "[2 6 4 ... 4 6 0] [2 6 4 ... 2 6 0]\n",
      "0.6479756097560976\n"
     ]
    },
    {
     "name": "stderr",
     "output_type": "stream",
     "text": [
      " 31%|\u001b[31m███▏      \u001b[0m| 141/450 [02:08<04:11,  1.23it/s]"
     ]
    },
    {
     "name": "stdout",
     "output_type": "stream",
     "text": [
      "Iteration:  140\n",
      "[2 6 4 ... 4 6 0] [2 6 4 ... 2 6 0]\n",
      "0.6490487804878049\n"
     ]
    },
    {
     "name": "stderr",
     "output_type": "stream",
     "text": [
      " 32%|\u001b[31m███▏      \u001b[0m| 142/450 [02:09<05:23,  1.05s/it]"
     ]
    },
    {
     "name": "stdout",
     "output_type": "stream",
     "text": [
      "Iteration:  141\n",
      "[2 6 4 ... 4 6 0] [2 6 4 ... 2 6 0]\n",
      "0.6505121951219512\n"
     ]
    },
    {
     "name": "stderr",
     "output_type": "stream",
     "text": [
      " 32%|\u001b[31m███▏      \u001b[0m| 143/450 [02:10<05:07,  1.00s/it]"
     ]
    },
    {
     "name": "stdout",
     "output_type": "stream",
     "text": [
      "Iteration:  142\n",
      "[2 6 4 ... 4 6 0] [2 6 4 ... 2 6 0]\n",
      "0.6521951219512195\n"
     ]
    },
    {
     "name": "stderr",
     "output_type": "stream",
     "text": [
      " 32%|\u001b[31m███▏      \u001b[0m| 144/450 [02:11<04:29,  1.14it/s]"
     ]
    },
    {
     "name": "stdout",
     "output_type": "stream",
     "text": [
      "Iteration:  143\n",
      "[2 6 4 ... 4 6 0] [2 6 4 ... 2 6 0]\n",
      "0.6539756097560976\n"
     ]
    },
    {
     "name": "stderr",
     "output_type": "stream",
     "text": [
      " 32%|\u001b[31m███▏      \u001b[0m| 145/450 [02:11<03:45,  1.35it/s]"
     ]
    },
    {
     "name": "stdout",
     "output_type": "stream",
     "text": [
      "Iteration:  144\n",
      "[2 6 4 ... 4 6 0] [2 6 4 ... 2 6 0]\n",
      "0.655609756097561\n"
     ]
    },
    {
     "name": "stderr",
     "output_type": "stream",
     "text": [
      " 32%|\u001b[31m███▏      \u001b[0m| 146/450 [02:12<03:31,  1.44it/s]"
     ]
    },
    {
     "name": "stdout",
     "output_type": "stream",
     "text": [
      "Iteration:  145\n",
      "[2 6 4 ... 4 6 0] [2 6 4 ... 2 6 0]\n",
      "0.6570731707317073\n"
     ]
    },
    {
     "name": "stderr",
     "output_type": "stream",
     "text": [
      " 33%|\u001b[31m███▎      \u001b[0m| 147/450 [02:14<05:39,  1.12s/it]"
     ]
    },
    {
     "name": "stdout",
     "output_type": "stream",
     "text": [
      "Iteration:  146\n",
      "[2 6 4 ... 4 6 0] [2 6 4 ... 2 6 0]\n",
      "0.6587073170731708\n"
     ]
    },
    {
     "name": "stderr",
     "output_type": "stream",
     "text": [
      " 33%|\u001b[31m███▎      \u001b[0m| 148/450 [02:15<05:26,  1.08s/it]"
     ]
    },
    {
     "name": "stdout",
     "output_type": "stream",
     "text": [
      "Iteration:  147\n",
      "[2 6 4 ... 4 6 0] [2 6 4 ... 2 6 0]\n",
      "0.6604878048780488\n"
     ]
    },
    {
     "name": "stderr",
     "output_type": "stream",
     "text": [
      " 33%|\u001b[31m███▎      \u001b[0m| 149/450 [02:16<04:54,  1.02it/s]"
     ]
    },
    {
     "name": "stdout",
     "output_type": "stream",
     "text": [
      "Iteration:  148\n",
      "[2 6 4 ... 4 6 0] [2 6 4 ... 2 6 0]\n",
      "0.6624390243902439\n"
     ]
    },
    {
     "name": "stderr",
     "output_type": "stream",
     "text": [
      " 33%|\u001b[31m███▎      \u001b[0m| 150/450 [02:17<05:19,  1.07s/it]"
     ]
    },
    {
     "name": "stdout",
     "output_type": "stream",
     "text": [
      "Iteration:  149\n",
      "[2 6 4 ... 4 6 0] [2 6 4 ... 2 6 0]\n",
      "0.6635853658536586\n"
     ]
    },
    {
     "name": "stderr",
     "output_type": "stream",
     "text": [
      " 34%|\u001b[31m███▎      \u001b[0m| 151/450 [02:18<05:00,  1.00s/it]"
     ]
    },
    {
     "name": "stdout",
     "output_type": "stream",
     "text": [
      "Iteration:  150\n",
      "[2 6 4 ... 4 6 0] [2 6 4 ... 2 6 0]\n",
      "0.6649024390243903\n"
     ]
    },
    {
     "name": "stderr",
     "output_type": "stream",
     "text": [
      " 34%|\u001b[31m███▍      \u001b[0m| 152/450 [02:19<04:40,  1.06it/s]"
     ]
    },
    {
     "name": "stdout",
     "output_type": "stream",
     "text": [
      "Iteration:  151\n",
      "[2 6 4 ... 4 6 0] [2 6 4 ... 2 6 0]\n",
      "0.6663414634146342\n"
     ]
    },
    {
     "name": "stderr",
     "output_type": "stream",
     "text": [
      " 34%|\u001b[31m███▍      \u001b[0m| 153/450 [02:20<04:34,  1.08it/s]"
     ]
    },
    {
     "name": "stdout",
     "output_type": "stream",
     "text": [
      "Iteration:  152\n",
      "[2 6 4 ... 4 6 0] [2 6 4 ... 2 6 0]\n",
      "0.6676585365853659\n"
     ]
    },
    {
     "name": "stderr",
     "output_type": "stream",
     "text": [
      " 34%|\u001b[31m███▍      \u001b[0m| 154/450 [02:20<04:19,  1.14it/s]"
     ]
    },
    {
     "name": "stdout",
     "output_type": "stream",
     "text": [
      "Iteration:  153\n",
      "[2 6 4 ... 4 6 0] [2 6 4 ... 2 6 0]\n",
      "0.6690487804878049\n"
     ]
    },
    {
     "name": "stderr",
     "output_type": "stream",
     "text": [
      " 34%|\u001b[31m███▍      \u001b[0m| 155/450 [02:21<04:11,  1.17it/s]"
     ]
    },
    {
     "name": "stdout",
     "output_type": "stream",
     "text": [
      "Iteration:  154\n",
      "[2 6 4 ... 4 6 0] [2 6 4 ... 2 6 0]\n",
      "0.6705121951219513\n"
     ]
    },
    {
     "name": "stderr",
     "output_type": "stream",
     "text": [
      " 35%|\u001b[31m███▍      \u001b[0m| 156/450 [02:22<04:23,  1.12it/s]"
     ]
    },
    {
     "name": "stdout",
     "output_type": "stream",
     "text": [
      "Iteration:  155\n",
      "[2 6 4 ... 4 6 0] [2 6 4 ... 2 6 0]\n",
      "0.6717560975609757\n"
     ]
    },
    {
     "name": "stderr",
     "output_type": "stream",
     "text": [
      " 35%|\u001b[31m███▍      \u001b[0m| 157/450 [02:23<04:04,  1.20it/s]"
     ]
    },
    {
     "name": "stdout",
     "output_type": "stream",
     "text": [
      "Iteration:  156\n",
      "[2 6 4 ... 4 6 0] [2 6 4 ... 2 6 0]\n",
      "0.6733902439024391\n"
     ]
    },
    {
     "name": "stderr",
     "output_type": "stream",
     "text": [
      " 35%|\u001b[31m███▌      \u001b[0m| 158/450 [02:23<03:43,  1.31it/s]"
     ]
    },
    {
     "name": "stdout",
     "output_type": "stream",
     "text": [
      "Iteration:  157\n",
      "[2 6 4 ... 4 6 0] [2 6 4 ... 2 6 0]\n",
      "0.6747804878048781\n"
     ]
    },
    {
     "name": "stderr",
     "output_type": "stream",
     "text": [
      " 35%|\u001b[31m███▌      \u001b[0m| 159/450 [02:24<03:01,  1.60it/s]"
     ]
    },
    {
     "name": "stdout",
     "output_type": "stream",
     "text": [
      "Iteration:  158\n",
      "[2 6 4 ... 4 6 0] [2 6 4 ... 2 6 0]\n",
      "0.6756829268292683\n"
     ]
    },
    {
     "name": "stderr",
     "output_type": "stream",
     "text": [
      " 36%|\u001b[31m███▌      \u001b[0m| 160/450 [02:24<03:04,  1.57it/s]"
     ]
    },
    {
     "name": "stdout",
     "output_type": "stream",
     "text": [
      "Iteration:  159\n",
      "[2 6 4 ... 4 6 0] [2 6 4 ... 2 6 0]\n",
      "0.677219512195122\n"
     ]
    },
    {
     "name": "stderr",
     "output_type": "stream",
     "text": [
      " 36%|\u001b[31m███▌      \u001b[0m| 161/450 [02:25<03:07,  1.54it/s]"
     ]
    },
    {
     "name": "stdout",
     "output_type": "stream",
     "text": [
      "Iteration:  160\n",
      "[2 6 4 ... 4 6 0] [2 6 4 ... 2 6 0]\n",
      "0.6790243902439025\n"
     ]
    },
    {
     "name": "stderr",
     "output_type": "stream",
     "text": [
      " 36%|\u001b[31m███▌      \u001b[0m| 162/450 [02:26<03:30,  1.37it/s]"
     ]
    },
    {
     "name": "stdout",
     "output_type": "stream",
     "text": [
      "Iteration:  161\n",
      "[2 6 4 ... 4 6 0] [2 6 4 ... 2 6 0]\n",
      "0.6804878048780488\n"
     ]
    },
    {
     "name": "stderr",
     "output_type": "stream",
     "text": [
      " 36%|\u001b[31m███▌      \u001b[0m| 163/450 [02:26<03:08,  1.53it/s]"
     ]
    },
    {
     "name": "stdout",
     "output_type": "stream",
     "text": [
      "Iteration:  162\n",
      "[2 6 4 ... 4 6 0] [2 6 4 ... 2 6 0]\n",
      "0.682\n"
     ]
    },
    {
     "name": "stderr",
     "output_type": "stream",
     "text": [
      " 36%|\u001b[31m███▋      \u001b[0m| 164/450 [02:27<02:56,  1.62it/s]"
     ]
    },
    {
     "name": "stdout",
     "output_type": "stream",
     "text": [
      "Iteration:  163\n",
      "[2 6 4 ... 4 6 0] [2 6 4 ... 2 6 0]\n",
      "0.683219512195122\n"
     ]
    },
    {
     "name": "stderr",
     "output_type": "stream",
     "text": [
      " 37%|\u001b[31m███▋      \u001b[0m| 165/450 [02:28<03:04,  1.54it/s]"
     ]
    },
    {
     "name": "stdout",
     "output_type": "stream",
     "text": [
      "Iteration:  164\n",
      "[2 6 4 ... 4 6 0] [2 6 4 ... 2 6 0]\n",
      "0.6846829268292683\n"
     ]
    },
    {
     "name": "stderr",
     "output_type": "stream",
     "text": [
      " 37%|\u001b[31m███▋      \u001b[0m| 166/450 [02:28<03:04,  1.54it/s]"
     ]
    },
    {
     "name": "stdout",
     "output_type": "stream",
     "text": [
      "Iteration:  165\n",
      "[2 6 4 ... 4 6 0] [2 6 4 ... 2 6 0]\n",
      "0.6859024390243903\n"
     ]
    },
    {
     "name": "stderr",
     "output_type": "stream",
     "text": [
      " 37%|\u001b[31m███▋      \u001b[0m| 167/450 [02:29<02:51,  1.65it/s]"
     ]
    },
    {
     "name": "stdout",
     "output_type": "stream",
     "text": [
      "Iteration:  166\n",
      "[2 6 4 ... 4 6 0] [2 6 4 ... 2 6 0]\n",
      "0.6873658536585366\n"
     ]
    },
    {
     "name": "stderr",
     "output_type": "stream",
     "text": [
      " 37%|\u001b[31m███▋      \u001b[0m| 168/450 [02:29<02:43,  1.72it/s]"
     ]
    },
    {
     "name": "stdout",
     "output_type": "stream",
     "text": [
      "Iteration:  167\n",
      "[2 6 4 ... 4 6 0] [2 6 4 ... 2 6 0]\n",
      "0.6888048780487804\n"
     ]
    },
    {
     "name": "stderr",
     "output_type": "stream",
     "text": [
      " 38%|\u001b[31m███▊      \u001b[0m| 169/450 [02:30<02:34,  1.82it/s]"
     ]
    },
    {
     "name": "stdout",
     "output_type": "stream",
     "text": [
      "Iteration:  168\n",
      "[2 6 4 ... 4 6 0] [2 6 4 ... 2 6 0]\n",
      "0.6899512195121951\n"
     ]
    },
    {
     "name": "stderr",
     "output_type": "stream",
     "text": [
      " 38%|\u001b[31m███▊      \u001b[0m| 170/450 [02:30<02:37,  1.77it/s]"
     ]
    },
    {
     "name": "stdout",
     "output_type": "stream",
     "text": [
      "Iteration:  169\n",
      "[2 6 4 ... 4 6 0] [2 6 4 ... 2 6 0]\n",
      "0.6912682926829268\n"
     ]
    },
    {
     "name": "stderr",
     "output_type": "stream",
     "text": [
      " 38%|\u001b[31m███▊      \u001b[0m| 171/450 [02:31<02:14,  2.07it/s]"
     ]
    },
    {
     "name": "stdout",
     "output_type": "stream",
     "text": [
      "Iteration:  170\n",
      "[2 6 4 ... 4 6 0] [2 6 4 ... 2 6 0]\n",
      "0.6926341463414634\n"
     ]
    },
    {
     "name": "stderr",
     "output_type": "stream",
     "text": [
      " 38%|\u001b[31m███▊      \u001b[0m| 172/450 [02:31<02:17,  2.03it/s]"
     ]
    },
    {
     "name": "stdout",
     "output_type": "stream",
     "text": [
      "Iteration:  171\n",
      "[2 6 4 ... 4 6 0] [2 6 4 ... 2 6 0]\n",
      "0.6937560975609756\n"
     ]
    },
    {
     "name": "stderr",
     "output_type": "stream",
     "text": [
      " 38%|\u001b[31m███▊      \u001b[0m| 173/450 [02:32<02:54,  1.58it/s]"
     ]
    },
    {
     "name": "stdout",
     "output_type": "stream",
     "text": [
      "Iteration:  172\n",
      "[2 6 4 ... 4 6 0] [2 6 4 ... 2 6 0]\n",
      "0.6946341463414634\n"
     ]
    },
    {
     "name": "stderr",
     "output_type": "stream",
     "text": [
      " 39%|\u001b[31m███▊      \u001b[0m| 174/450 [02:33<02:29,  1.85it/s]"
     ]
    },
    {
     "name": "stdout",
     "output_type": "stream",
     "text": [
      "Iteration:  173\n",
      "[2 6 4 ... 4 6 0] [2 6 4 ... 2 6 0]\n",
      "0.6956097560975609\n"
     ]
    },
    {
     "name": "stderr",
     "output_type": "stream",
     "text": [
      " 39%|\u001b[31m███▉      \u001b[0m| 175/450 [02:33<02:50,  1.62it/s]"
     ]
    },
    {
     "name": "stdout",
     "output_type": "stream",
     "text": [
      "Iteration:  174\n",
      "[2 6 4 ... 4 6 0] [2 6 4 ... 2 6 0]\n",
      "0.697\n"
     ]
    },
    {
     "name": "stderr",
     "output_type": "stream",
     "text": [
      " 39%|\u001b[31m███▉      \u001b[0m| 176/450 [02:34<02:49,  1.62it/s]"
     ]
    },
    {
     "name": "stdout",
     "output_type": "stream",
     "text": [
      "Iteration:  175\n",
      "[2 6 4 ... 4 6 0] [2 6 4 ... 2 6 0]\n",
      "0.6977317073170731\n"
     ]
    },
    {
     "name": "stderr",
     "output_type": "stream",
     "text": [
      " 39%|\u001b[31m███▉      \u001b[0m| 177/450 [02:34<02:22,  1.91it/s]"
     ]
    },
    {
     "name": "stdout",
     "output_type": "stream",
     "text": [
      "Iteration:  176\n",
      "[2 6 4 ... 4 6 0] [2 6 4 ... 2 6 0]\n",
      "0.6990243902439024\n"
     ]
    },
    {
     "name": "stderr",
     "output_type": "stream",
     "text": [
      " 40%|\u001b[31m███▉      \u001b[0m| 178/450 [02:35<02:35,  1.75it/s]"
     ]
    },
    {
     "name": "stdout",
     "output_type": "stream",
     "text": [
      "Iteration:  177\n",
      "[2 6 4 ... 4 6 0] [2 6 4 ... 2 6 0]\n",
      "0.6999024390243902\n"
     ]
    },
    {
     "name": "stderr",
     "output_type": "stream",
     "text": [
      " 40%|\u001b[31m███▉      \u001b[0m| 179/450 [02:35<02:10,  2.07it/s]"
     ]
    },
    {
     "name": "stdout",
     "output_type": "stream",
     "text": [
      "Iteration:  178\n",
      "[2 6 4 ... 4 6 0] [2 6 4 ... 2 6 0]\n",
      "0.7013170731707317\n"
     ]
    },
    {
     "name": "stderr",
     "output_type": "stream",
     "text": [
      " 40%|\u001b[31m████      \u001b[0m| 180/450 [02:36<02:17,  1.96it/s]"
     ]
    },
    {
     "name": "stdout",
     "output_type": "stream",
     "text": [
      "Iteration:  179\n",
      "[2 6 4 ... 4 6 0] [2 6 4 ... 2 6 0]\n",
      "0.7022439024390243\n"
     ]
    },
    {
     "name": "stderr",
     "output_type": "stream",
     "text": [
      " 40%|\u001b[31m████      \u001b[0m| 181/450 [02:36<02:29,  1.80it/s]"
     ]
    },
    {
     "name": "stdout",
     "output_type": "stream",
     "text": [
      "Iteration:  180\n",
      "[2 6 4 ... 4 6 0] [2 6 4 ... 2 6 0]\n",
      "0.7030487804878048\n"
     ]
    },
    {
     "name": "stderr",
     "output_type": "stream",
     "text": [
      " 40%|\u001b[31m████      \u001b[0m| 182/450 [02:37<02:29,  1.80it/s]"
     ]
    },
    {
     "name": "stdout",
     "output_type": "stream",
     "text": [
      "Iteration:  181\n",
      "[2 6 4 ... 4 6 0] [2 6 4 ... 2 6 0]\n",
      "0.7039512195121951\n"
     ]
    },
    {
     "name": "stderr",
     "output_type": "stream",
     "text": [
      " 41%|\u001b[31m████      \u001b[0m| 183/450 [02:37<02:07,  2.09it/s]"
     ]
    },
    {
     "name": "stdout",
     "output_type": "stream",
     "text": [
      "Iteration:  182\n",
      "[2 6 4 ... 4 6 0] [2 6 4 ... 2 6 0]\n",
      "0.705170731707317\n"
     ]
    },
    {
     "name": "stderr",
     "output_type": "stream",
     "text": [
      " 41%|\u001b[31m████      \u001b[0m| 184/450 [02:38<02:11,  2.02it/s]"
     ]
    },
    {
     "name": "stdout",
     "output_type": "stream",
     "text": [
      "Iteration:  183\n",
      "[2 6 4 ... 4 6 0] [2 6 4 ... 2 6 0]\n",
      "0.7062682926829268\n"
     ]
    },
    {
     "name": "stderr",
     "output_type": "stream",
     "text": [
      " 41%|\u001b[31m████      \u001b[0m| 185/450 [02:39<02:25,  1.82it/s]"
     ]
    },
    {
     "name": "stdout",
     "output_type": "stream",
     "text": [
      "Iteration:  184\n",
      "[2 6 4 ... 4 6 0] [2 6 4 ... 2 6 0]\n",
      "0.707390243902439\n"
     ]
    },
    {
     "name": "stderr",
     "output_type": "stream",
     "text": [
      " 41%|\u001b[31m████▏     \u001b[0m| 186/450 [02:39<02:07,  2.08it/s]"
     ]
    },
    {
     "name": "stdout",
     "output_type": "stream",
     "text": [
      "Iteration:  185\n",
      "[2 6 4 ... 4 6 0] [2 6 4 ... 2 6 0]\n",
      "0.7084878048780487\n"
     ]
    },
    {
     "name": "stderr",
     "output_type": "stream",
     "text": [
      " 42%|\u001b[31m████▏     \u001b[0m| 187/450 [02:39<02:04,  2.11it/s]"
     ]
    },
    {
     "name": "stdout",
     "output_type": "stream",
     "text": [
      "Iteration:  186\n",
      "[2 6 4 ... 4 6 0] [2 6 4 ... 2 6 0]\n",
      "0.7096341463414634\n"
     ]
    },
    {
     "name": "stderr",
     "output_type": "stream",
     "text": [
      " 42%|\u001b[31m████▏     \u001b[0m| 188/450 [02:40<02:21,  1.85it/s]"
     ]
    },
    {
     "name": "stdout",
     "output_type": "stream",
     "text": [
      "Iteration:  187\n",
      "[2 6 4 ... 4 6 0] [2 6 4 ... 2 6 0]\n",
      "0.7108536585365853\n"
     ]
    },
    {
     "name": "stderr",
     "output_type": "stream",
     "text": [
      " 42%|\u001b[31m████▏     \u001b[0m| 189/450 [02:40<02:00,  2.17it/s]"
     ]
    },
    {
     "name": "stdout",
     "output_type": "stream",
     "text": [
      "Iteration:  188\n",
      "[2 6 4 ... 4 6 0] [2 6 4 ... 2 6 0]\n",
      "0.7121219512195122\n"
     ]
    },
    {
     "name": "stderr",
     "output_type": "stream",
     "text": [
      " 42%|\u001b[31m████▏     \u001b[0m| 190/450 [02:41<02:02,  2.12it/s]"
     ]
    },
    {
     "name": "stdout",
     "output_type": "stream",
     "text": [
      "Iteration:  189\n",
      "[2 6 4 ... 4 6 0] [2 6 4 ... 2 6 0]\n",
      "0.7130975609756097\n"
     ]
    },
    {
     "name": "stderr",
     "output_type": "stream",
     "text": [
      " 42%|\u001b[31m████▏     \u001b[0m| 191/450 [02:41<02:18,  1.87it/s]"
     ]
    },
    {
     "name": "stdout",
     "output_type": "stream",
     "text": [
      "Iteration:  190\n",
      "[2 6 4 ... 4 6 0] [2 6 4 ... 2 6 0]\n",
      "0.7142926829268292\n"
     ]
    },
    {
     "name": "stderr",
     "output_type": "stream",
     "text": [
      " 43%|\u001b[31m████▎     \u001b[0m| 192/450 [02:43<03:10,  1.35it/s]"
     ]
    },
    {
     "name": "stdout",
     "output_type": "stream",
     "text": [
      "Iteration:  191\n",
      "[2 6 4 ... 4 6 0] [2 6 4 ... 2 6 0]\n",
      "0.7151219512195122\n"
     ]
    },
    {
     "name": "stderr",
     "output_type": "stream",
     "text": [
      " 43%|\u001b[31m████▎     \u001b[0m| 193/450 [02:43<02:57,  1.45it/s]"
     ]
    },
    {
     "name": "stdout",
     "output_type": "stream",
     "text": [
      "Iteration:  192\n",
      "[2 6 4 ... 4 6 0] [2 6 4 ... 2 6 0]\n",
      "0.7156585365853658\n"
     ]
    },
    {
     "name": "stderr",
     "output_type": "stream",
     "text": [
      " 43%|\u001b[31m████▎     \u001b[0m| 194/450 [02:44<02:55,  1.46it/s]"
     ]
    },
    {
     "name": "stdout",
     "output_type": "stream",
     "text": [
      "Iteration:  193\n",
      "[2 6 4 ... 4 6 0] [2 6 4 ... 2 6 0]\n",
      "0.7164878048780488\n"
     ]
    },
    {
     "name": "stderr",
     "output_type": "stream",
     "text": [
      " 43%|\u001b[31m████▎     \u001b[0m| 195/450 [02:45<02:52,  1.48it/s]"
     ]
    },
    {
     "name": "stdout",
     "output_type": "stream",
     "text": [
      "Iteration:  194\n",
      "[2 6 4 ... 4 6 0] [2 6 4 ... 2 6 0]\n",
      "0.717390243902439\n"
     ]
    },
    {
     "name": "stderr",
     "output_type": "stream",
     "text": [
      " 44%|\u001b[31m████▎     \u001b[0m| 196/450 [02:45<02:34,  1.65it/s]"
     ]
    },
    {
     "name": "stdout",
     "output_type": "stream",
     "text": [
      "Iteration:  195\n",
      "[2 6 4 ... 4 6 0] [2 6 4 ... 2 6 0]\n",
      "0.718170731707317\n"
     ]
    },
    {
     "name": "stderr",
     "output_type": "stream",
     "text": [
      " 44%|\u001b[31m████▍     \u001b[0m| 197/450 [02:46<02:36,  1.62it/s]"
     ]
    },
    {
     "name": "stdout",
     "output_type": "stream",
     "text": [
      "Iteration:  196\n",
      "[2 6 4 ... 4 6 0] [2 6 4 ... 2 6 0]\n",
      "0.7193658536585366\n"
     ]
    },
    {
     "name": "stderr",
     "output_type": "stream",
     "text": [
      " 44%|\u001b[31m████▍     \u001b[0m| 198/450 [02:46<02:15,  1.86it/s]"
     ]
    },
    {
     "name": "stdout",
     "output_type": "stream",
     "text": [
      "Iteration:  197\n",
      "[2 6 4 ... 4 6 0] [2 6 4 ... 2 6 0]\n",
      "0.7202682926829268\n"
     ]
    },
    {
     "name": "stderr",
     "output_type": "stream",
     "text": [
      " 44%|\u001b[31m████▍     \u001b[0m| 199/450 [02:47<02:16,  1.84it/s]"
     ]
    },
    {
     "name": "stdout",
     "output_type": "stream",
     "text": [
      "Iteration:  198\n",
      "[2 6 4 ... 4 6 0] [2 6 4 ... 2 6 0]\n",
      "0.7209268292682927\n"
     ]
    },
    {
     "name": "stderr",
     "output_type": "stream",
     "text": [
      " 44%|\u001b[31m████▍     \u001b[0m| 200/450 [02:47<01:57,  2.13it/s]"
     ]
    },
    {
     "name": "stdout",
     "output_type": "stream",
     "text": [
      "Iteration:  199\n",
      "[2 6 4 ... 4 6 0] [2 6 4 ... 2 6 0]\n",
      "0.7219024390243902\n"
     ]
    },
    {
     "name": "stderr",
     "output_type": "stream",
     "text": [
      " 45%|\u001b[31m████▍     \u001b[0m| 201/450 [02:47<02:05,  1.99it/s]"
     ]
    },
    {
     "name": "stdout",
     "output_type": "stream",
     "text": [
      "Iteration:  200\n",
      "[2 6 4 ... 4 6 0] [2 6 4 ... 2 6 0]\n",
      "0.7229268292682927\n"
     ]
    },
    {
     "name": "stderr",
     "output_type": "stream",
     "text": [
      " 45%|\u001b[31m████▍     \u001b[0m| 202/450 [02:48<01:49,  2.26it/s]"
     ]
    },
    {
     "name": "stdout",
     "output_type": "stream",
     "text": [
      "Iteration:  201\n",
      "[2 6 4 ... 4 6 0] [2 6 4 ... 2 6 0]\n",
      "0.7238536585365853\n"
     ]
    },
    {
     "name": "stderr",
     "output_type": "stream",
     "text": [
      " 45%|\u001b[31m████▌     \u001b[0m| 203/450 [02:48<02:01,  2.03it/s]"
     ]
    },
    {
     "name": "stdout",
     "output_type": "stream",
     "text": [
      "Iteration:  202\n",
      "[2 6 4 ... 4 6 0] [2 6 4 ... 2 6 0]\n",
      "0.7248536585365853\n"
     ]
    },
    {
     "name": "stderr",
     "output_type": "stream",
     "text": [
      " 45%|\u001b[31m████▌     \u001b[0m| 204/450 [02:49<02:21,  1.74it/s]"
     ]
    },
    {
     "name": "stdout",
     "output_type": "stream",
     "text": [
      "Iteration:  203\n",
      "[2 6 4 ... 4 6 0] [2 6 4 ... 2 6 0]\n",
      "0.7259512195121951\n"
     ]
    },
    {
     "name": "stderr",
     "output_type": "stream",
     "text": [
      " 46%|\u001b[31m████▌     \u001b[0m| 205/450 [02:50<02:10,  1.88it/s]"
     ]
    },
    {
     "name": "stdout",
     "output_type": "stream",
     "text": [
      "Iteration:  204\n",
      "[2 6 4 ... 4 6 0] [2 6 4 ... 2 6 0]\n",
      "0.726780487804878\n"
     ]
    },
    {
     "name": "stderr",
     "output_type": "stream",
     "text": [
      " 46%|\u001b[31m████▌     \u001b[0m| 206/450 [02:50<02:11,  1.85it/s]"
     ]
    },
    {
     "name": "stdout",
     "output_type": "stream",
     "text": [
      "Iteration:  205\n",
      "[2 6 4 ... 4 6 0] [2 6 4 ... 2 6 0]\n",
      "0.7276829268292683\n"
     ]
    },
    {
     "name": "stderr",
     "output_type": "stream",
     "text": [
      " 46%|\u001b[31m████▌     \u001b[0m| 207/450 [02:51<02:11,  1.85it/s]"
     ]
    },
    {
     "name": "stdout",
     "output_type": "stream",
     "text": [
      "Iteration:  206\n",
      "[2 6 4 ... 4 6 0] [2 6 4 ... 2 6 0]\n",
      "0.728390243902439\n"
     ]
    },
    {
     "name": "stderr",
     "output_type": "stream",
     "text": [
      " 46%|\u001b[31m████▌     \u001b[0m| 208/450 [02:51<02:19,  1.73it/s]"
     ]
    },
    {
     "name": "stdout",
     "output_type": "stream",
     "text": [
      "Iteration:  207\n",
      "[2 6 4 ... 4 6 0] [2 6 4 ... 2 6 0]\n",
      "0.729170731707317\n"
     ]
    },
    {
     "name": "stderr",
     "output_type": "stream",
     "text": [
      " 46%|\u001b[31m████▋     \u001b[0m| 209/450 [02:52<02:33,  1.57it/s]"
     ]
    },
    {
     "name": "stdout",
     "output_type": "stream",
     "text": [
      "Iteration:  208\n",
      "[2 6 4 ... 4 6 0] [2 6 4 ... 2 6 0]\n",
      "0.73\n"
     ]
    },
    {
     "name": "stderr",
     "output_type": "stream",
     "text": [
      " 47%|\u001b[31m████▋     \u001b[0m| 210/450 [02:53<02:41,  1.48it/s]"
     ]
    },
    {
     "name": "stdout",
     "output_type": "stream",
     "text": [
      "Iteration:  209\n",
      "[2 6 4 ... 4 6 0] [2 6 4 ... 2 6 0]\n",
      "0.7307560975609756\n"
     ]
    },
    {
     "name": "stderr",
     "output_type": "stream",
     "text": [
      " 47%|\u001b[31m████▋     \u001b[0m| 211/450 [02:53<02:14,  1.77it/s]"
     ]
    },
    {
     "name": "stdout",
     "output_type": "stream",
     "text": [
      "Iteration:  210\n",
      "[2 6 4 ... 4 6 0] [2 6 4 ... 2 6 0]\n",
      "0.731609756097561\n"
     ]
    },
    {
     "name": "stderr",
     "output_type": "stream",
     "text": [
      " 47%|\u001b[31m████▋     \u001b[0m| 212/450 [02:54<02:13,  1.79it/s]"
     ]
    },
    {
     "name": "stdout",
     "output_type": "stream",
     "text": [
      "Iteration:  211\n",
      "[2 6 4 ... 4 6 0] [2 6 4 ... 2 6 0]\n",
      "0.7320731707317073\n"
     ]
    },
    {
     "name": "stderr",
     "output_type": "stream",
     "text": [
      " 47%|\u001b[31m████▋     \u001b[0m| 213/450 [02:54<02:11,  1.80it/s]"
     ]
    },
    {
     "name": "stdout",
     "output_type": "stream",
     "text": [
      "Iteration:  212\n",
      "[2 6 4 ... 4 6 0] [2 6 4 ... 2 6 0]\n",
      "0.7329024390243902\n"
     ]
    },
    {
     "name": "stderr",
     "output_type": "stream",
     "text": [
      " 48%|\u001b[31m████▊     \u001b[0m| 214/450 [02:55<01:52,  2.10it/s]"
     ]
    },
    {
     "name": "stdout",
     "output_type": "stream",
     "text": [
      "Iteration:  213\n",
      "[2 6 4 ... 4 6 0] [2 6 4 ... 2 6 0]\n",
      "0.7334634146341463\n"
     ]
    },
    {
     "name": "stderr",
     "output_type": "stream",
     "text": [
      " 48%|\u001b[31m████▊     \u001b[0m| 215/450 [02:55<02:05,  1.88it/s]"
     ]
    },
    {
     "name": "stdout",
     "output_type": "stream",
     "text": [
      "Iteration:  214\n",
      "[2 6 4 ... 4 6 0] [2 6 4 ... 2 6 0]\n",
      "0.7340731707317073\n"
     ]
    },
    {
     "name": "stderr",
     "output_type": "stream",
     "text": [
      " 48%|\u001b[31m████▊     \u001b[0m| 216/450 [02:56<02:19,  1.68it/s]"
     ]
    },
    {
     "name": "stdout",
     "output_type": "stream",
     "text": [
      "Iteration:  215\n",
      "[2 6 4 ... 4 6 0] [2 6 4 ... 2 6 0]\n",
      "0.7346829268292683\n"
     ]
    },
    {
     "name": "stderr",
     "output_type": "stream",
     "text": [
      " 48%|\u001b[31m████▊     \u001b[0m| 217/450 [02:56<01:58,  1.97it/s]"
     ]
    },
    {
     "name": "stdout",
     "output_type": "stream",
     "text": [
      "Iteration:  216\n",
      "[2 6 4 ... 4 6 0] [2 6 4 ... 2 6 0]\n",
      "0.7355121951219512\n"
     ]
    },
    {
     "name": "stderr",
     "output_type": "stream",
     "text": [
      " 48%|\u001b[31m████▊     \u001b[0m| 218/450 [02:57<02:08,  1.80it/s]"
     ]
    },
    {
     "name": "stdout",
     "output_type": "stream",
     "text": [
      "Iteration:  217\n",
      "[2 6 4 ... 4 6 0] [2 6 4 ... 2 6 0]\n",
      "0.7364146341463415\n"
     ]
    },
    {
     "name": "stderr",
     "output_type": "stream",
     "text": [
      " 49%|\u001b[31m████▊     \u001b[0m| 219/450 [02:58<02:19,  1.65it/s]"
     ]
    },
    {
     "name": "stdout",
     "output_type": "stream",
     "text": [
      "Iteration:  218\n",
      "[2 6 4 ... 4 6 0] [2 6 4 ... 2 6 0]\n",
      "0.7370731707317073\n"
     ]
    },
    {
     "name": "stderr",
     "output_type": "stream",
     "text": [
      " 49%|\u001b[31m████▉     \u001b[0m| 220/450 [02:58<02:10,  1.77it/s]"
     ]
    },
    {
     "name": "stdout",
     "output_type": "stream",
     "text": [
      "Iteration:  219\n",
      "[2 6 4 ... 4 6 0] [2 6 4 ... 2 6 0]\n",
      "0.7376585365853658\n"
     ]
    },
    {
     "name": "stderr",
     "output_type": "stream",
     "text": [
      " 49%|\u001b[31m████▉     \u001b[0m| 221/450 [02:58<01:50,  2.07it/s]"
     ]
    },
    {
     "name": "stdout",
     "output_type": "stream",
     "text": [
      "Iteration:  220\n",
      "[2 6 4 ... 4 6 0] [2 6 4 ... 2 6 0]\n",
      "0.7387560975609756\n"
     ]
    },
    {
     "name": "stderr",
     "output_type": "stream",
     "text": [
      " 49%|\u001b[31m████▉     \u001b[0m| 222/450 [02:59<01:48,  2.10it/s]"
     ]
    },
    {
     "name": "stdout",
     "output_type": "stream",
     "text": [
      "Iteration:  221\n",
      "[2 6 4 ... 4 6 0] [2 6 4 ... 2 6 0]\n",
      "0.7395609756097561\n"
     ]
    },
    {
     "name": "stderr",
     "output_type": "stream",
     "text": [
      " 50%|\u001b[31m████▉     \u001b[0m| 223/450 [03:00<02:57,  1.28it/s]"
     ]
    },
    {
     "name": "stdout",
     "output_type": "stream",
     "text": [
      "Iteration:  222\n",
      "[2 6 4 ... 4 6 0] [2 6 4 ... 2 6 0]\n",
      "0.7404146341463415\n"
     ]
    },
    {
     "name": "stderr",
     "output_type": "stream",
     "text": [
      " 50%|\u001b[31m████▉     \u001b[0m| 224/450 [03:02<04:22,  1.16s/it]"
     ]
    },
    {
     "name": "stdout",
     "output_type": "stream",
     "text": [
      "Iteration:  223\n",
      "[2 6 4 ... 4 6 0] [2 6 4 ... 2 6 0]\n",
      "0.7412926829268293\n"
     ]
    },
    {
     "name": "stderr",
     "output_type": "stream",
     "text": [
      " 50%|\u001b[31m█████     \u001b[0m| 225/450 [03:05<05:35,  1.49s/it]"
     ]
    },
    {
     "name": "stdout",
     "output_type": "stream",
     "text": [
      "Iteration:  224\n",
      "[2 6 4 ... 4 6 0] [2 6 4 ... 2 6 0]\n",
      "0.7421463414634146\n"
     ]
    },
    {
     "name": "stderr",
     "output_type": "stream",
     "text": [
      " 50%|\u001b[31m█████     \u001b[0m| 226/450 [03:07<06:04,  1.63s/it]"
     ]
    },
    {
     "name": "stdout",
     "output_type": "stream",
     "text": [
      "Iteration:  225\n",
      "[2 6 4 ... 4 6 0] [2 6 4 ... 2 6 0]\n",
      "0.7427317073170732\n"
     ]
    },
    {
     "name": "stderr",
     "output_type": "stream",
     "text": [
      " 50%|\u001b[31m█████     \u001b[0m| 227/450 [03:09<06:37,  1.78s/it]"
     ]
    },
    {
     "name": "stdout",
     "output_type": "stream",
     "text": [
      "Iteration:  226\n",
      "[2 6 4 ... 4 6 0] [2 6 4 ... 2 6 0]\n",
      "0.7434146341463415\n"
     ]
    },
    {
     "name": "stderr",
     "output_type": "stream",
     "text": [
      " 51%|\u001b[31m█████     \u001b[0m| 228/450 [03:11<06:37,  1.79s/it]"
     ]
    },
    {
     "name": "stdout",
     "output_type": "stream",
     "text": [
      "Iteration:  227\n",
      "[2 6 4 ... 4 6 0] [2 6 4 ... 2 6 0]\n",
      "0.7439512195121951\n"
     ]
    },
    {
     "name": "stderr",
     "output_type": "stream",
     "text": [
      " 51%|\u001b[31m█████     \u001b[0m| 229/450 [03:13<06:49,  1.85s/it]"
     ]
    },
    {
     "name": "stdout",
     "output_type": "stream",
     "text": [
      "Iteration:  228\n",
      "[2 6 4 ... 4 6 0] [2 6 4 ... 2 6 0]\n",
      "0.7445609756097561\n"
     ]
    },
    {
     "name": "stderr",
     "output_type": "stream",
     "text": [
      " 51%|\u001b[31m█████     \u001b[0m| 230/450 [03:14<06:11,  1.69s/it]"
     ]
    },
    {
     "name": "stdout",
     "output_type": "stream",
     "text": [
      "Iteration:  229\n",
      "[2 6 4 ... 4 6 0] [2 6 4 ... 2 6 0]\n",
      "0.745390243902439\n"
     ]
    },
    {
     "name": "stderr",
     "output_type": "stream",
     "text": [
      " 51%|\u001b[31m█████▏    \u001b[0m| 231/450 [03:15<05:23,  1.48s/it]"
     ]
    },
    {
     "name": "stdout",
     "output_type": "stream",
     "text": [
      "Iteration:  230\n",
      "[2 6 4 ... 4 6 0] [2 6 4 ... 2 6 0]\n",
      "0.746390243902439\n"
     ]
    },
    {
     "name": "stderr",
     "output_type": "stream",
     "text": [
      " 52%|\u001b[31m█████▏    \u001b[0m| 232/450 [03:16<05:03,  1.39s/it]"
     ]
    },
    {
     "name": "stdout",
     "output_type": "stream",
     "text": [
      "Iteration:  231\n",
      "[2 6 4 ... 4 6 0] [2 6 4 ... 2 6 0]\n",
      "0.7468780487804878\n"
     ]
    },
    {
     "name": "stderr",
     "output_type": "stream",
     "text": [
      " 52%|\u001b[31m█████▏    \u001b[0m| 233/450 [03:19<06:23,  1.77s/it]"
     ]
    },
    {
     "name": "stdout",
     "output_type": "stream",
     "text": [
      "Iteration:  232\n",
      "[2 6 4 ... 4 6 0] [2 6 4 ... 2 6 0]\n",
      "0.747609756097561\n"
     ]
    },
    {
     "name": "stderr",
     "output_type": "stream",
     "text": [
      " 52%|\u001b[31m█████▏    \u001b[0m| 234/450 [03:22<07:30,  2.09s/it]"
     ]
    },
    {
     "name": "stdout",
     "output_type": "stream",
     "text": [
      "Iteration:  233\n",
      "[2 6 4 ... 4 6 0] [2 6 4 ... 2 6 0]\n",
      "0.748390243902439\n"
     ]
    },
    {
     "name": "stderr",
     "output_type": "stream",
     "text": [
      " 52%|\u001b[31m█████▏    \u001b[0m| 235/450 [03:23<06:39,  1.86s/it]"
     ]
    },
    {
     "name": "stdout",
     "output_type": "stream",
     "text": [
      "Iteration:  234\n",
      "[2 6 4 ... 4 6 0] [2 6 4 ... 2 6 0]\n",
      "0.7488780487804878\n"
     ]
    },
    {
     "name": "stderr",
     "output_type": "stream",
     "text": [
      " 52%|\u001b[31m█████▏    \u001b[0m| 236/450 [03:25<06:24,  1.80s/it]"
     ]
    },
    {
     "name": "stdout",
     "output_type": "stream",
     "text": [
      "Iteration:  235\n",
      "[2 6 4 ... 4 6 0] [2 6 4 ... 2 6 0]\n",
      "0.749390243902439\n"
     ]
    },
    {
     "name": "stderr",
     "output_type": "stream",
     "text": [
      " 53%|\u001b[31m█████▎    \u001b[0m| 237/450 [03:25<05:22,  1.52s/it]"
     ]
    },
    {
     "name": "stdout",
     "output_type": "stream",
     "text": [
      "Iteration:  236\n",
      "[2 6 4 ... 4 6 0] [2 6 4 ... 2 6 0]\n",
      "0.7500243902439024\n"
     ]
    },
    {
     "name": "stderr",
     "output_type": "stream",
     "text": [
      " 53%|\u001b[31m█████▎    \u001b[0m| 238/450 [03:27<05:05,  1.44s/it]"
     ]
    },
    {
     "name": "stdout",
     "output_type": "stream",
     "text": [
      "Iteration:  237\n",
      "[2 6 4 ... 4 6 0] [2 6 4 ... 2 6 0]\n",
      "0.750609756097561\n"
     ]
    },
    {
     "name": "stderr",
     "output_type": "stream",
     "text": [
      " 53%|\u001b[31m█████▎    \u001b[0m| 239/450 [03:28<04:42,  1.34s/it]"
     ]
    },
    {
     "name": "stdout",
     "output_type": "stream",
     "text": [
      "Iteration:  238\n",
      "[2 6 4 ... 4 6 0] [2 6 4 ... 2 6 0]\n",
      "0.751219512195122\n"
     ]
    },
    {
     "name": "stderr",
     "output_type": "stream",
     "text": [
      " 53%|\u001b[31m█████▎    \u001b[0m| 240/450 [03:30<05:06,  1.46s/it]"
     ]
    },
    {
     "name": "stdout",
     "output_type": "stream",
     "text": [
      "Iteration:  239\n",
      "[2 6 4 ... 4 6 0] [2 6 4 ... 2 6 0]\n",
      "0.7518536585365854\n"
     ]
    },
    {
     "name": "stderr",
     "output_type": "stream",
     "text": [
      " 54%|\u001b[31m█████▎    \u001b[0m| 241/450 [03:31<04:51,  1.40s/it]"
     ]
    },
    {
     "name": "stdout",
     "output_type": "stream",
     "text": [
      "Iteration:  240\n",
      "[2 6 4 ... 4 6 0] [2 6 4 ... 2 6 0]\n",
      "0.7525365853658537\n"
     ]
    },
    {
     "name": "stderr",
     "output_type": "stream",
     "text": [
      " 54%|\u001b[31m█████▍    \u001b[0m| 242/450 [03:32<04:12,  1.22s/it]"
     ]
    },
    {
     "name": "stdout",
     "output_type": "stream",
     "text": [
      "Iteration:  241\n",
      "[2 6 4 ... 4 6 0] [2 6 4 ... 2 6 0]\n",
      "0.7533414634146341\n"
     ]
    },
    {
     "name": "stderr",
     "output_type": "stream",
     "text": [
      " 54%|\u001b[31m█████▍    \u001b[0m| 243/450 [03:32<03:30,  1.02s/it]"
     ]
    },
    {
     "name": "stdout",
     "output_type": "stream",
     "text": [
      "Iteration:  242\n",
      "[2 6 4 ... 4 6 0] [2 6 4 ... 2 6 0]\n",
      "0.7538292682926829\n"
     ]
    },
    {
     "name": "stderr",
     "output_type": "stream",
     "text": [
      " 54%|\u001b[31m█████▍    \u001b[0m| 244/450 [03:33<03:19,  1.03it/s]"
     ]
    },
    {
     "name": "stdout",
     "output_type": "stream",
     "text": [
      "Iteration:  243\n",
      "[2 6 4 ... 4 6 0] [2 6 4 ... 2 6 0]\n",
      "0.7543414634146342\n"
     ]
    },
    {
     "name": "stderr",
     "output_type": "stream",
     "text": [
      " 54%|\u001b[31m█████▍    \u001b[0m| 245/450 [03:34<03:19,  1.03it/s]"
     ]
    },
    {
     "name": "stdout",
     "output_type": "stream",
     "text": [
      "Iteration:  244\n",
      "[2 6 4 ... 4 6 0] [2 6 4 ... 2 6 0]\n",
      "0.755219512195122\n"
     ]
    },
    {
     "name": "stderr",
     "output_type": "stream",
     "text": [
      " 55%|\u001b[31m█████▍    \u001b[0m| 246/450 [03:35<03:37,  1.07s/it]"
     ]
    },
    {
     "name": "stdout",
     "output_type": "stream",
     "text": [
      "Iteration:  245\n",
      "[2 6 4 ... 4 6 0] [2 6 4 ... 2 6 0]\n",
      "0.7558780487804878\n"
     ]
    },
    {
     "name": "stderr",
     "output_type": "stream",
     "text": [
      " 55%|\u001b[31m█████▍    \u001b[0m| 247/450 [03:36<03:07,  1.08it/s]"
     ]
    },
    {
     "name": "stdout",
     "output_type": "stream",
     "text": [
      "Iteration:  246\n",
      "[2 6 4 ... 4 6 0] [2 6 4 ... 2 6 0]\n",
      "0.7564634146341463\n"
     ]
    },
    {
     "name": "stderr",
     "output_type": "stream",
     "text": [
      " 55%|\u001b[31m█████▌    \u001b[0m| 248/450 [03:37<03:47,  1.13s/it]"
     ]
    },
    {
     "name": "stdout",
     "output_type": "stream",
     "text": [
      "Iteration:  247\n",
      "[2 6 4 ... 4 6 0] [2 6 4 ... 2 6 0]\n",
      "0.7569512195121951\n"
     ]
    },
    {
     "name": "stderr",
     "output_type": "stream",
     "text": [
      " 55%|\u001b[31m█████▌    \u001b[0m| 249/450 [03:39<04:32,  1.36s/it]"
     ]
    },
    {
     "name": "stdout",
     "output_type": "stream",
     "text": [
      "Iteration:  248\n",
      "[2 6 4 ... 4 6 0] [2 6 4 ... 2 6 0]\n",
      "0.7574878048780488\n"
     ]
    },
    {
     "name": "stderr",
     "output_type": "stream",
     "text": [
      " 56%|\u001b[31m█████▌    \u001b[0m| 250/450 [03:41<04:42,  1.41s/it]"
     ]
    },
    {
     "name": "stdout",
     "output_type": "stream",
     "text": [
      "Iteration:  249\n",
      "[2 6 4 ... 4 6 0] [2 6 4 ... 2 6 0]\n",
      "0.7578536585365854\n"
     ]
    },
    {
     "name": "stderr",
     "output_type": "stream",
     "text": [
      " 56%|\u001b[31m█████▌    \u001b[0m| 251/450 [03:42<04:12,  1.27s/it]"
     ]
    },
    {
     "name": "stdout",
     "output_type": "stream",
     "text": [
      "Iteration:  250\n",
      "[2 6 4 ... 4 6 0] [2 6 4 ... 2 6 0]\n",
      "0.7584878048780488\n"
     ]
    },
    {
     "name": "stderr",
     "output_type": "stream",
     "text": [
      " 56%|\u001b[31m█████▌    \u001b[0m| 252/450 [03:43<03:40,  1.11s/it]"
     ]
    },
    {
     "name": "stdout",
     "output_type": "stream",
     "text": [
      "Iteration:  251\n",
      "[2 6 4 ... 4 6 0] [2 6 4 ... 2 6 0]\n",
      "0.7590243902439024\n"
     ]
    },
    {
     "name": "stderr",
     "output_type": "stream",
     "text": [
      " 56%|\u001b[31m█████▌    \u001b[0m| 253/450 [03:44<03:44,  1.14s/it]"
     ]
    },
    {
     "name": "stdout",
     "output_type": "stream",
     "text": [
      "Iteration:  252\n",
      "[2 6 4 ... 4 6 0] [2 6 4 ... 2 6 0]\n",
      "0.7595121951219512\n"
     ]
    },
    {
     "name": "stderr",
     "output_type": "stream",
     "text": [
      " 56%|\u001b[31m█████▋    \u001b[0m| 254/450 [03:44<03:06,  1.05it/s]"
     ]
    },
    {
     "name": "stdout",
     "output_type": "stream",
     "text": [
      "Iteration:  253\n",
      "[2 6 4 ... 4 6 0] [2 6 4 ... 2 6 0]\n",
      "0.7597560975609756\n"
     ]
    },
    {
     "name": "stderr",
     "output_type": "stream",
     "text": [
      " 57%|\u001b[31m█████▋    \u001b[0m| 255/450 [03:45<02:32,  1.28it/s]"
     ]
    },
    {
     "name": "stdout",
     "output_type": "stream",
     "text": [
      "Iteration:  254\n",
      "[2 6 4 ... 4 6 0] [2 6 4 ... 2 6 0]\n",
      "0.7602439024390244\n"
     ]
    },
    {
     "name": "stderr",
     "output_type": "stream",
     "text": [
      " 57%|\u001b[31m█████▋    \u001b[0m| 256/450 [03:45<02:18,  1.40it/s]"
     ]
    },
    {
     "name": "stdout",
     "output_type": "stream",
     "text": [
      "Iteration:  255\n",
      "[2 6 4 ... 4 6 0] [2 6 4 ... 2 6 0]\n",
      "0.7607073170731707\n"
     ]
    },
    {
     "name": "stderr",
     "output_type": "stream",
     "text": [
      " 57%|\u001b[31m█████▋    \u001b[0m| 257/450 [03:46<02:07,  1.51it/s]"
     ]
    },
    {
     "name": "stdout",
     "output_type": "stream",
     "text": [
      "Iteration:  256\n",
      "[2 6 4 ... 4 6 0] [2 6 4 ... 2 6 0]\n",
      "0.7611463414634146\n"
     ]
    },
    {
     "name": "stderr",
     "output_type": "stream",
     "text": [
      " 57%|\u001b[31m█████▋    \u001b[0m| 258/450 [03:46<01:44,  1.83it/s]"
     ]
    },
    {
     "name": "stdout",
     "output_type": "stream",
     "text": [
      "Iteration:  257\n",
      "[2 6 4 ... 4 6 0] [2 6 4 ... 2 6 0]\n",
      "0.7618780487804878\n"
     ]
    },
    {
     "name": "stderr",
     "output_type": "stream",
     "text": [
      " 58%|\u001b[31m█████▊    \u001b[0m| 259/450 [03:48<02:49,  1.12it/s]"
     ]
    },
    {
     "name": "stdout",
     "output_type": "stream",
     "text": [
      "Iteration:  258\n",
      "[2 6 4 ... 4 6 0] [2 6 4 ... 2 6 0]\n",
      "0.7624878048780488\n"
     ]
    },
    {
     "name": "stderr",
     "output_type": "stream",
     "text": [
      " 58%|\u001b[31m█████▊    \u001b[0m| 260/450 [03:48<02:15,  1.40it/s]"
     ]
    },
    {
     "name": "stdout",
     "output_type": "stream",
     "text": [
      "Iteration:  259\n",
      "[2 6 4 ... 4 6 0] [2 6 4 ... 2 6 0]\n",
      "0.7629268292682927\n"
     ]
    },
    {
     "name": "stderr",
     "output_type": "stream",
     "text": [
      " 58%|\u001b[31m█████▊    \u001b[0m| 261/450 [03:49<02:08,  1.47it/s]"
     ]
    },
    {
     "name": "stdout",
     "output_type": "stream",
     "text": [
      "Iteration:  260\n",
      "[2 6 4 ... 4 6 0] [2 6 4 ... 2 6 0]\n",
      "0.7634146341463415\n"
     ]
    },
    {
     "name": "stderr",
     "output_type": "stream",
     "text": [
      " 58%|\u001b[31m█████▊    \u001b[0m| 262/450 [03:49<02:08,  1.46it/s]"
     ]
    },
    {
     "name": "stdout",
     "output_type": "stream",
     "text": [
      "Iteration:  261\n",
      "[2 6 4 ... 4 6 0] [2 6 4 ... 2 6 0]\n",
      "0.7639512195121951\n"
     ]
    },
    {
     "name": "stderr",
     "output_type": "stream",
     "text": [
      " 58%|\u001b[31m█████▊    \u001b[0m| 263/450 [03:50<02:06,  1.47it/s]"
     ]
    },
    {
     "name": "stdout",
     "output_type": "stream",
     "text": [
      "Iteration:  262\n",
      "[2 6 4 ... 4 6 0] [2 6 4 ... 2 6 0]\n",
      "0.7644634146341464\n"
     ]
    },
    {
     "name": "stderr",
     "output_type": "stream",
     "text": [
      " 59%|\u001b[31m█████▊    \u001b[0m| 264/450 [03:51<02:04,  1.50it/s]"
     ]
    },
    {
     "name": "stdout",
     "output_type": "stream",
     "text": [
      "Iteration:  263\n",
      "[2 6 9 ... 4 6 0] [2 6 4 ... 2 6 0]\n",
      "0.7649024390243903\n"
     ]
    },
    {
     "name": "stderr",
     "output_type": "stream",
     "text": [
      " 59%|\u001b[31m█████▉    \u001b[0m| 265/450 [03:51<01:54,  1.62it/s]"
     ]
    },
    {
     "name": "stdout",
     "output_type": "stream",
     "text": [
      "Iteration:  264\n",
      "[2 6 9 ... 4 6 0] [2 6 4 ... 2 6 0]\n",
      "0.765219512195122\n"
     ]
    },
    {
     "name": "stderr",
     "output_type": "stream",
     "text": [
      " 59%|\u001b[31m█████▉    \u001b[0m| 266/450 [03:52<01:57,  1.57it/s]"
     ]
    },
    {
     "name": "stdout",
     "output_type": "stream",
     "text": [
      "Iteration:  265\n",
      "[2 6 9 ... 4 6 0] [2 6 4 ... 2 6 0]\n",
      "0.7657317073170732\n"
     ]
    },
    {
     "name": "stderr",
     "output_type": "stream",
     "text": [
      " 59%|\u001b[31m█████▉    \u001b[0m| 267/450 [03:52<01:38,  1.85it/s]"
     ]
    },
    {
     "name": "stdout",
     "output_type": "stream",
     "text": [
      "Iteration:  266\n",
      "[2 6 9 ... 4 6 0] [2 6 4 ... 2 6 0]\n",
      "0.7661219512195122\n"
     ]
    },
    {
     "name": "stderr",
     "output_type": "stream",
     "text": [
      " 60%|\u001b[31m█████▉    \u001b[0m| 268/450 [03:53<01:42,  1.78it/s]"
     ]
    },
    {
     "name": "stdout",
     "output_type": "stream",
     "text": [
      "Iteration:  267\n",
      "[2 6 9 ... 4 6 0] [2 6 4 ... 2 6 0]\n",
      "0.7668048780487805\n"
     ]
    },
    {
     "name": "stderr",
     "output_type": "stream",
     "text": [
      " 60%|\u001b[31m█████▉    \u001b[0m| 269/450 [03:53<01:27,  2.08it/s]"
     ]
    },
    {
     "name": "stdout",
     "output_type": "stream",
     "text": [
      "Iteration:  268\n",
      "[2 6 9 ... 4 6 0] [2 6 4 ... 2 6 0]\n",
      "0.7674390243902439\n"
     ]
    },
    {
     "name": "stderr",
     "output_type": "stream",
     "text": [
      " 60%|\u001b[31m██████    \u001b[0m| 270/450 [03:54<01:35,  1.89it/s]"
     ]
    },
    {
     "name": "stdout",
     "output_type": "stream",
     "text": [
      "Iteration:  269\n",
      "[2 6 9 ... 4 6 0] [2 6 4 ... 2 6 0]\n",
      "0.767609756097561\n"
     ]
    },
    {
     "name": "stderr",
     "output_type": "stream",
     "text": [
      " 60%|\u001b[31m██████    \u001b[0m| 271/450 [03:54<01:40,  1.78it/s]"
     ]
    },
    {
     "name": "stdout",
     "output_type": "stream",
     "text": [
      "Iteration:  270\n",
      "[2 6 9 ... 4 6 0] [2 6 4 ... 2 6 0]\n",
      "0.7680243902439025\n"
     ]
    },
    {
     "name": "stderr",
     "output_type": "stream",
     "text": [
      " 60%|\u001b[31m██████    \u001b[0m| 272/450 [03:55<01:32,  1.93it/s]"
     ]
    },
    {
     "name": "stdout",
     "output_type": "stream",
     "text": [
      "Iteration:  271\n",
      "[2 6 9 ... 4 6 0] [2 6 4 ... 2 6 0]\n",
      "0.7686341463414634\n"
     ]
    },
    {
     "name": "stderr",
     "output_type": "stream",
     "text": [
      " 61%|\u001b[31m██████    \u001b[0m| 273/450 [03:55<01:25,  2.06it/s]"
     ]
    },
    {
     "name": "stdout",
     "output_type": "stream",
     "text": [
      "Iteration:  272\n",
      "[2 6 9 ... 4 6 0] [2 6 4 ... 2 6 0]\n",
      "0.7691219512195122\n"
     ]
    },
    {
     "name": "stderr",
     "output_type": "stream",
     "text": [
      " 61%|\u001b[31m██████    \u001b[0m| 274/450 [03:56<01:40,  1.75it/s]"
     ]
    },
    {
     "name": "stdout",
     "output_type": "stream",
     "text": [
      "Iteration:  273\n",
      "[2 6 9 ... 4 6 0] [2 6 4 ... 2 6 0]\n",
      "0.769609756097561\n"
     ]
    },
    {
     "name": "stderr",
     "output_type": "stream",
     "text": [
      " 61%|\u001b[31m██████    \u001b[0m| 275/450 [03:57<01:47,  1.63it/s]"
     ]
    },
    {
     "name": "stdout",
     "output_type": "stream",
     "text": [
      "Iteration:  274\n",
      "[2 6 9 ... 4 6 0] [2 6 4 ... 2 6 0]\n",
      "0.7703414634146342\n"
     ]
    },
    {
     "name": "stderr",
     "output_type": "stream",
     "text": [
      " 61%|\u001b[31m██████▏   \u001b[0m| 276/450 [03:58<02:08,  1.35it/s]"
     ]
    },
    {
     "name": "stdout",
     "output_type": "stream",
     "text": [
      "Iteration:  275\n",
      "[2 6 9 ... 4 6 0] [2 6 4 ... 2 6 0]\n",
      "0.7706341463414634\n"
     ]
    },
    {
     "name": "stderr",
     "output_type": "stream",
     "text": [
      " 62%|\u001b[31m██████▏   \u001b[0m| 277/450 [03:58<02:02,  1.41it/s]"
     ]
    },
    {
     "name": "stdout",
     "output_type": "stream",
     "text": [
      "Iteration:  276\n",
      "[2 6 9 ... 4 6 0] [2 6 4 ... 2 6 0]\n",
      "0.7711707317073171\n"
     ]
    },
    {
     "name": "stderr",
     "output_type": "stream",
     "text": [
      " 62%|\u001b[31m██████▏   \u001b[0m| 278/450 [03:59<01:57,  1.46it/s]"
     ]
    },
    {
     "name": "stdout",
     "output_type": "stream",
     "text": [
      "Iteration:  277\n",
      "[2 6 9 ... 4 6 0] [2 6 4 ... 2 6 0]\n",
      "0.7716341463414634\n"
     ]
    },
    {
     "name": "stderr",
     "output_type": "stream",
     "text": [
      " 62%|\u001b[31m██████▏   \u001b[0m| 279/450 [03:59<01:35,  1.79it/s]"
     ]
    },
    {
     "name": "stdout",
     "output_type": "stream",
     "text": [
      "Iteration:  278\n",
      "[2 6 9 ... 4 6 0] [2 6 4 ... 2 6 0]\n",
      "0.7720243902439025\n"
     ]
    },
    {
     "name": "stderr",
     "output_type": "stream",
     "text": [
      " 62%|\u001b[31m██████▏   \u001b[0m| 280/450 [03:59<01:21,  2.09it/s]"
     ]
    },
    {
     "name": "stdout",
     "output_type": "stream",
     "text": [
      "Iteration:  279\n",
      "[2 6 9 ... 4 6 0] [2 6 4 ... 2 6 0]\n",
      "0.7723658536585366\n"
     ]
    },
    {
     "name": "stderr",
     "output_type": "stream",
     "text": [
      " 62%|\u001b[31m██████▏   \u001b[0m| 281/450 [04:00<01:26,  1.95it/s]"
     ]
    },
    {
     "name": "stdout",
     "output_type": "stream",
     "text": [
      "Iteration:  280\n",
      "[2 6 9 ... 4 6 0] [2 6 4 ... 2 6 0]\n",
      "0.7728780487804878\n"
     ]
    },
    {
     "name": "stderr",
     "output_type": "stream",
     "text": [
      " 63%|\u001b[31m██████▎   \u001b[0m| 282/450 [04:00<01:15,  2.23it/s]"
     ]
    },
    {
     "name": "stdout",
     "output_type": "stream",
     "text": [
      "Iteration:  281\n",
      "[2 6 9 ... 4 6 0] [2 6 4 ... 2 6 0]\n",
      "0.7731951219512195\n"
     ]
    },
    {
     "name": "stderr",
     "output_type": "stream",
     "text": [
      " 63%|\u001b[31m██████▎   \u001b[0m| 283/450 [04:01<01:22,  2.03it/s]"
     ]
    },
    {
     "name": "stdout",
     "output_type": "stream",
     "text": [
      "Iteration:  282\n",
      "[2 6 9 ... 4 6 0] [2 6 4 ... 2 6 0]\n",
      "0.7738048780487805\n"
     ]
    },
    {
     "name": "stderr",
     "output_type": "stream",
     "text": [
      " 63%|\u001b[31m██████▎   \u001b[0m| 284/450 [04:01<01:11,  2.31it/s]"
     ]
    },
    {
     "name": "stdout",
     "output_type": "stream",
     "text": [
      "Iteration:  283\n",
      "[2 6 9 ... 4 6 0] [2 6 4 ... 2 6 0]\n",
      "0.7741463414634147\n"
     ]
    },
    {
     "name": "stderr",
     "output_type": "stream",
     "text": [
      " 63%|\u001b[31m██████▎   \u001b[0m| 285/450 [04:02<01:19,  2.06it/s]"
     ]
    },
    {
     "name": "stdout",
     "output_type": "stream",
     "text": [
      "Iteration:  284\n",
      "[2 6 9 ... 4 6 0] [2 6 4 ... 2 6 0]\n",
      "0.7746585365853659\n"
     ]
    },
    {
     "name": "stderr",
     "output_type": "stream",
     "text": [
      " 64%|\u001b[31m██████▎   \u001b[0m| 286/450 [04:02<01:28,  1.86it/s]"
     ]
    },
    {
     "name": "stdout",
     "output_type": "stream",
     "text": [
      "Iteration:  285\n",
      "[2 6 9 ... 4 6 0] [2 6 4 ... 2 6 0]\n",
      "0.7750487804878049\n"
     ]
    },
    {
     "name": "stderr",
     "output_type": "stream",
     "text": [
      " 64%|\u001b[31m██████▍   \u001b[0m| 287/450 [04:03<01:28,  1.84it/s]"
     ]
    },
    {
     "name": "stdout",
     "output_type": "stream",
     "text": [
      "Iteration:  286\n",
      "[2 6 9 ... 4 6 0] [2 6 4 ... 2 6 0]\n",
      "0.7756341463414634\n"
     ]
    },
    {
     "name": "stderr",
     "output_type": "stream",
     "text": [
      " 64%|\u001b[31m██████▍   \u001b[0m| 288/450 [04:04<01:32,  1.75it/s]"
     ]
    },
    {
     "name": "stdout",
     "output_type": "stream",
     "text": [
      "Iteration:  287\n",
      "[2 6 9 ... 4 6 0] [2 6 4 ... 2 6 0]\n",
      "0.7761219512195122\n"
     ]
    },
    {
     "name": "stderr",
     "output_type": "stream",
     "text": [
      " 64%|\u001b[31m██████▍   \u001b[0m| 289/450 [04:04<01:18,  2.06it/s]"
     ]
    },
    {
     "name": "stdout",
     "output_type": "stream",
     "text": [
      "Iteration:  288\n",
      "[2 6 9 ... 4 6 0] [2 6 4 ... 2 6 0]\n",
      "0.7765853658536586\n"
     ]
    },
    {
     "name": "stderr",
     "output_type": "stream",
     "text": [
      " 64%|\u001b[31m██████▍   \u001b[0m| 290/450 [04:04<01:14,  2.14it/s]"
     ]
    },
    {
     "name": "stdout",
     "output_type": "stream",
     "text": [
      "Iteration:  289\n",
      "[2 6 9 ... 4 6 0] [2 6 4 ... 2 6 0]\n",
      "0.7770731707317073\n"
     ]
    },
    {
     "name": "stderr",
     "output_type": "stream",
     "text": [
      " 65%|\u001b[31m██████▍   \u001b[0m| 291/450 [04:05<01:18,  2.04it/s]"
     ]
    },
    {
     "name": "stdout",
     "output_type": "stream",
     "text": [
      "Iteration:  290\n",
      "[2 6 9 ... 4 6 0] [2 6 4 ... 2 6 0]\n",
      "0.7773414634146342\n"
     ]
    },
    {
     "name": "stderr",
     "output_type": "stream",
     "text": [
      " 65%|\u001b[31m██████▍   \u001b[0m| 292/450 [04:06<01:44,  1.52it/s]"
     ]
    },
    {
     "name": "stdout",
     "output_type": "stream",
     "text": [
      "Iteration:  291\n",
      "[2 6 9 ... 4 6 0] [2 6 4 ... 2 6 0]\n",
      "0.7777560975609756\n"
     ]
    },
    {
     "name": "stderr",
     "output_type": "stream",
     "text": [
      " 65%|\u001b[31m██████▌   \u001b[0m| 293/450 [04:07<01:42,  1.53it/s]"
     ]
    },
    {
     "name": "stdout",
     "output_type": "stream",
     "text": [
      "Iteration:  292\n",
      "[2 6 9 ... 4 6 0] [2 6 4 ... 2 6 0]\n",
      "0.7778780487804878\n"
     ]
    },
    {
     "name": "stderr",
     "output_type": "stream",
     "text": [
      " 65%|\u001b[31m██████▌   \u001b[0m| 294/450 [04:07<01:33,  1.68it/s]"
     ]
    },
    {
     "name": "stdout",
     "output_type": "stream",
     "text": [
      "Iteration:  293\n",
      "[2 6 9 ... 4 6 0] [2 6 4 ... 2 6 0]\n",
      "0.7780975609756098\n"
     ]
    },
    {
     "name": "stderr",
     "output_type": "stream",
     "text": [
      " 66%|\u001b[31m██████▌   \u001b[0m| 295/450 [04:07<01:17,  1.99it/s]"
     ]
    },
    {
     "name": "stdout",
     "output_type": "stream",
     "text": [
      "Iteration:  294\n",
      "[2 6 9 ... 4 6 0] [2 6 4 ... 2 6 0]\n",
      "0.7784634146341464\n"
     ]
    },
    {
     "name": "stderr",
     "output_type": "stream",
     "text": [
      " 66%|\u001b[31m██████▌   \u001b[0m| 296/450 [04:08<01:21,  1.88it/s]"
     ]
    },
    {
     "name": "stdout",
     "output_type": "stream",
     "text": [
      "Iteration:  295\n",
      "[2 6 9 ... 4 6 0] [2 6 4 ... 2 6 0]\n",
      "0.7788536585365854\n"
     ]
    },
    {
     "name": "stderr",
     "output_type": "stream",
     "text": [
      " 66%|\u001b[31m██████▌   \u001b[0m| 297/450 [04:09<01:25,  1.79it/s]"
     ]
    },
    {
     "name": "stdout",
     "output_type": "stream",
     "text": [
      "Iteration:  296\n",
      "[2 6 9 ... 4 6 0] [2 6 4 ... 2 6 0]\n",
      "0.7790487804878049\n"
     ]
    },
    {
     "name": "stderr",
     "output_type": "stream",
     "text": [
      " 66%|\u001b[31m██████▌   \u001b[0m| 298/450 [04:09<01:30,  1.67it/s]"
     ]
    },
    {
     "name": "stdout",
     "output_type": "stream",
     "text": [
      "Iteration:  297\n",
      "[2 6 9 ... 4 6 0] [2 6 4 ... 2 6 0]\n",
      "0.7792926829268293\n"
     ]
    },
    {
     "name": "stderr",
     "output_type": "stream",
     "text": [
      " 66%|\u001b[31m██████▋   \u001b[0m| 299/450 [04:10<01:30,  1.66it/s]"
     ]
    },
    {
     "name": "stdout",
     "output_type": "stream",
     "text": [
      "Iteration:  298\n",
      "[2 6 9 ... 4 6 0] [2 6 4 ... 2 6 0]\n",
      "0.7795121951219512\n"
     ]
    },
    {
     "name": "stderr",
     "output_type": "stream",
     "text": [
      " 67%|\u001b[31m██████▋   \u001b[0m| 300/450 [04:11<01:46,  1.41it/s]"
     ]
    },
    {
     "name": "stdout",
     "output_type": "stream",
     "text": [
      "Iteration:  299\n",
      "[2 6 9 ... 4 6 0] [2 6 4 ... 2 6 0]\n",
      "0.7798536585365854\n"
     ]
    },
    {
     "name": "stderr",
     "output_type": "stream",
     "text": [
      " 67%|\u001b[31m██████▋   \u001b[0m| 301/450 [04:11<01:41,  1.47it/s]"
     ]
    },
    {
     "name": "stdout",
     "output_type": "stream",
     "text": [
      "Iteration:  300\n",
      "[2 6 9 ... 4 6 0] [2 6 4 ... 2 6 0]\n",
      "0.7800975609756098\n"
     ]
    },
    {
     "name": "stderr",
     "output_type": "stream",
     "text": [
      " 67%|\u001b[31m██████▋   \u001b[0m| 302/450 [04:12<01:43,  1.43it/s]"
     ]
    },
    {
     "name": "stdout",
     "output_type": "stream",
     "text": [
      "Iteration:  301\n",
      "[2 6 9 ... 4 6 0] [2 6 4 ... 2 6 0]\n",
      "0.7804146341463415\n"
     ]
    },
    {
     "name": "stderr",
     "output_type": "stream",
     "text": [
      " 67%|\u001b[31m██████▋   \u001b[0m| 303/450 [04:13<01:24,  1.74it/s]"
     ]
    },
    {
     "name": "stdout",
     "output_type": "stream",
     "text": [
      "Iteration:  302\n",
      "[2 6 9 ... 4 6 0] [2 6 4 ... 2 6 0]\n",
      "0.7807317073170732\n"
     ]
    },
    {
     "name": "stderr",
     "output_type": "stream",
     "text": [
      " 68%|\u001b[31m██████▊   \u001b[0m| 304/450 [04:13<01:26,  1.69it/s]"
     ]
    },
    {
     "name": "stdout",
     "output_type": "stream",
     "text": [
      "Iteration:  303\n",
      "[2 6 9 ... 4 6 0] [2 6 4 ... 2 6 0]\n",
      "0.781219512195122\n"
     ]
    },
    {
     "name": "stderr",
     "output_type": "stream",
     "text": [
      " 68%|\u001b[31m██████▊   \u001b[0m| 305/450 [04:14<01:28,  1.64it/s]"
     ]
    },
    {
     "name": "stdout",
     "output_type": "stream",
     "text": [
      "Iteration:  304\n",
      "[2 6 9 ... 4 6 0] [2 6 4 ... 2 6 0]\n",
      "0.7815853658536586\n"
     ]
    },
    {
     "name": "stderr",
     "output_type": "stream",
     "text": [
      " 68%|\u001b[31m██████▊   \u001b[0m| 306/450 [04:14<01:12,  1.98it/s]"
     ]
    },
    {
     "name": "stdout",
     "output_type": "stream",
     "text": [
      "Iteration:  305\n",
      "[2 6 9 ... 4 6 0] [2 6 4 ... 2 6 0]\n",
      "0.782\n"
     ]
    },
    {
     "name": "stderr",
     "output_type": "stream",
     "text": [
      " 68%|\u001b[31m██████▊   \u001b[0m| 307/450 [04:15<01:12,  1.97it/s]"
     ]
    },
    {
     "name": "stdout",
     "output_type": "stream",
     "text": [
      "Iteration:  306\n",
      "[2 6 9 ... 4 6 0] [2 6 4 ... 2 6 0]\n",
      "0.782219512195122\n"
     ]
    },
    {
     "name": "stderr",
     "output_type": "stream",
     "text": [
      " 68%|\u001b[31m██████▊   \u001b[0m| 308/450 [04:15<01:15,  1.88it/s]"
     ]
    },
    {
     "name": "stdout",
     "output_type": "stream",
     "text": [
      "Iteration:  307\n",
      "[2 6 9 ... 4 6 0] [2 6 4 ... 2 6 0]\n",
      "0.7824878048780488\n"
     ]
    },
    {
     "name": "stderr",
     "output_type": "stream",
     "text": [
      " 69%|\u001b[31m██████▊   \u001b[0m| 309/450 [04:16<01:21,  1.73it/s]"
     ]
    },
    {
     "name": "stdout",
     "output_type": "stream",
     "text": [
      "Iteration:  308\n",
      "[2 6 9 ... 4 6 0] [2 6 4 ... 2 6 0]\n",
      "0.7829024390243903\n"
     ]
    },
    {
     "name": "stderr",
     "output_type": "stream",
     "text": [
      " 69%|\u001b[31m██████▉   \u001b[0m| 310/450 [04:16<01:13,  1.90it/s]"
     ]
    },
    {
     "name": "stdout",
     "output_type": "stream",
     "text": [
      "Iteration:  309\n",
      "[2 6 9 ... 4 6 0] [2 6 4 ... 2 6 0]\n",
      "0.7831951219512195\n"
     ]
    },
    {
     "name": "stderr",
     "output_type": "stream",
     "text": [
      " 69%|\u001b[31m██████▉   \u001b[0m| 311/450 [04:17<01:18,  1.77it/s]"
     ]
    },
    {
     "name": "stdout",
     "output_type": "stream",
     "text": [
      "Iteration:  310\n",
      "[2 6 9 ... 4 6 0] [2 6 4 ... 2 6 0]\n",
      "0.7834634146341464\n"
     ]
    },
    {
     "name": "stderr",
     "output_type": "stream",
     "text": [
      " 69%|\u001b[31m██████▉   \u001b[0m| 312/450 [04:17<01:15,  1.83it/s]"
     ]
    },
    {
     "name": "stdout",
     "output_type": "stream",
     "text": [
      "Iteration:  311\n",
      "[2 6 9 ... 4 6 0] [2 6 4 ... 2 6 0]\n",
      "0.7838780487804878\n"
     ]
    },
    {
     "name": "stderr",
     "output_type": "stream",
     "text": [
      " 70%|\u001b[31m██████▉   \u001b[0m| 313/450 [04:18<01:16,  1.78it/s]"
     ]
    },
    {
     "name": "stdout",
     "output_type": "stream",
     "text": [
      "Iteration:  312\n",
      "[2 6 9 ... 4 6 0] [2 6 4 ... 2 6 0]\n",
      "0.784390243902439\n"
     ]
    },
    {
     "name": "stderr",
     "output_type": "stream",
     "text": [
      " 70%|\u001b[31m██████▉   \u001b[0m| 314/450 [04:18<01:06,  2.05it/s]"
     ]
    },
    {
     "name": "stdout",
     "output_type": "stream",
     "text": [
      "Iteration:  313\n",
      "[2 6 9 ... 4 6 0] [2 6 4 ... 2 6 0]\n",
      "0.7849756097560976\n"
     ]
    },
    {
     "name": "stderr",
     "output_type": "stream",
     "text": [
      " 70%|\u001b[31m███████   \u001b[0m| 315/450 [04:19<01:22,  1.64it/s]"
     ]
    },
    {
     "name": "stdout",
     "output_type": "stream",
     "text": [
      "Iteration:  314\n",
      "[2 6 9 ... 4 6 0] [2 6 4 ... 2 6 0]\n",
      "0.7852439024390244\n"
     ]
    },
    {
     "name": "stderr",
     "output_type": "stream",
     "text": [
      " 70%|\u001b[31m███████   \u001b[0m| 316/450 [04:20<01:08,  1.95it/s]"
     ]
    },
    {
     "name": "stdout",
     "output_type": "stream",
     "text": [
      "Iteration:  315\n",
      "[2 6 9 ... 4 6 0] [2 6 4 ... 2 6 0]\n",
      "0.7856585365853659\n"
     ]
    },
    {
     "name": "stderr",
     "output_type": "stream",
     "text": [
      " 70%|\u001b[31m███████   \u001b[0m| 317/450 [04:20<01:24,  1.58it/s]"
     ]
    },
    {
     "name": "stdout",
     "output_type": "stream",
     "text": [
      "Iteration:  316\n",
      "[2 6 9 ... 4 6 0] [2 6 4 ... 2 6 0]\n",
      "0.7861463414634147\n"
     ]
    },
    {
     "name": "stderr",
     "output_type": "stream",
     "text": [
      " 71%|\u001b[31m███████   \u001b[0m| 318/450 [04:21<01:23,  1.59it/s]"
     ]
    },
    {
     "name": "stdout",
     "output_type": "stream",
     "text": [
      "Iteration:  317\n",
      "[2 6 9 ... 4 6 0] [2 6 4 ... 2 6 0]\n",
      "0.7866341463414634\n"
     ]
    },
    {
     "name": "stderr",
     "output_type": "stream",
     "text": [
      " 71%|\u001b[31m███████   \u001b[0m| 319/450 [04:22<01:23,  1.57it/s]"
     ]
    },
    {
     "name": "stdout",
     "output_type": "stream",
     "text": [
      "Iteration:  318\n",
      "[2 6 9 ... 4 6 0] [2 6 4 ... 2 6 0]\n",
      "0.7870487804878049\n"
     ]
    },
    {
     "name": "stderr",
     "output_type": "stream",
     "text": [
      " 71%|\u001b[31m███████   \u001b[0m| 320/450 [04:22<01:22,  1.57it/s]"
     ]
    },
    {
     "name": "stdout",
     "output_type": "stream",
     "text": [
      "Iteration:  319\n",
      "[2 6 9 ... 4 6 0] [2 6 4 ... 2 6 0]\n",
      "0.7873414634146342\n"
     ]
    },
    {
     "name": "stderr",
     "output_type": "stream",
     "text": [
      " 71%|\u001b[31m███████▏  \u001b[0m| 321/450 [04:23<01:29,  1.45it/s]"
     ]
    },
    {
     "name": "stdout",
     "output_type": "stream",
     "text": [
      "Iteration:  320\n",
      "[2 6 9 ... 4 6 0] [2 6 4 ... 2 6 0]\n",
      "0.7875365853658537\n"
     ]
    },
    {
     "name": "stderr",
     "output_type": "stream",
     "text": [
      " 72%|\u001b[31m███████▏  \u001b[0m| 322/450 [04:23<01:13,  1.75it/s]"
     ]
    },
    {
     "name": "stdout",
     "output_type": "stream",
     "text": [
      "Iteration:  321\n",
      "[2 6 9 ... 4 6 0] [2 6 4 ... 2 6 0]\n",
      "0.7878536585365854\n"
     ]
    },
    {
     "name": "stderr",
     "output_type": "stream",
     "text": [
      " 72%|\u001b[31m███████▏  \u001b[0m| 323/450 [04:24<01:13,  1.72it/s]"
     ]
    },
    {
     "name": "stdout",
     "output_type": "stream",
     "text": [
      "Iteration:  322\n",
      "[2 6 9 ... 4 6 0] [2 6 4 ... 2 6 0]\n",
      "0.7879756097560976\n"
     ]
    },
    {
     "name": "stderr",
     "output_type": "stream",
     "text": [
      " 72%|\u001b[31m███████▏  \u001b[0m| 324/450 [04:25<01:11,  1.77it/s]"
     ]
    },
    {
     "name": "stdout",
     "output_type": "stream",
     "text": [
      "Iteration:  323\n",
      "[2 6 9 ... 4 6 0] [2 6 4 ... 2 6 0]\n",
      "0.7883658536585366\n"
     ]
    },
    {
     "name": "stderr",
     "output_type": "stream",
     "text": [
      " 72%|\u001b[31m███████▏  \u001b[0m| 325/450 [04:25<01:13,  1.71it/s]"
     ]
    },
    {
     "name": "stdout",
     "output_type": "stream",
     "text": [
      "Iteration:  324\n",
      "[2 6 9 ... 4 6 0] [2 6 4 ... 2 6 0]\n",
      "0.788829268292683\n"
     ]
    },
    {
     "name": "stderr",
     "output_type": "stream",
     "text": [
      " 72%|\u001b[31m███████▏  \u001b[0m| 326/450 [04:25<01:00,  2.06it/s]"
     ]
    },
    {
     "name": "stdout",
     "output_type": "stream",
     "text": [
      "Iteration:  325\n",
      "[2 6 9 ... 4 6 0] [2 6 4 ... 2 6 0]\n",
      "0.7893902439024391\n"
     ]
    },
    {
     "name": "stderr",
     "output_type": "stream",
     "text": [
      " 73%|\u001b[31m███████▎  \u001b[0m| 327/450 [04:26<01:18,  1.58it/s]"
     ]
    },
    {
     "name": "stdout",
     "output_type": "stream",
     "text": [
      "Iteration:  326\n",
      "[2 6 9 ... 4 6 0] [2 6 4 ... 2 6 0]\n",
      "0.7895121951219513\n"
     ]
    },
    {
     "name": "stderr",
     "output_type": "stream",
     "text": [
      " 73%|\u001b[31m███████▎  \u001b[0m| 328/450 [04:27<01:08,  1.77it/s]"
     ]
    },
    {
     "name": "stdout",
     "output_type": "stream",
     "text": [
      "Iteration:  327\n",
      "[2 6 9 ... 4 6 0] [2 6 4 ... 2 6 0]\n",
      "0.7897560975609756\n"
     ]
    },
    {
     "name": "stderr",
     "output_type": "stream",
     "text": [
      " 73%|\u001b[31m███████▎  \u001b[0m| 329/450 [04:27<01:10,  1.72it/s]"
     ]
    },
    {
     "name": "stdout",
     "output_type": "stream",
     "text": [
      "Iteration:  328\n",
      "[2 6 9 ... 4 6 0] [2 6 4 ... 2 6 0]\n",
      "0.7903170731707317\n"
     ]
    },
    {
     "name": "stderr",
     "output_type": "stream",
     "text": [
      " 73%|\u001b[31m███████▎  \u001b[0m| 330/450 [04:28<01:15,  1.60it/s]"
     ]
    },
    {
     "name": "stdout",
     "output_type": "stream",
     "text": [
      "Iteration:  329\n",
      "[2 6 9 ... 4 6 0] [2 6 4 ... 2 6 0]\n",
      "0.790829268292683\n"
     ]
    },
    {
     "name": "stderr",
     "output_type": "stream",
     "text": [
      " 74%|\u001b[31m███████▎  \u001b[0m| 331/450 [04:29<01:12,  1.65it/s]"
     ]
    },
    {
     "name": "stdout",
     "output_type": "stream",
     "text": [
      "Iteration:  330\n",
      "[2 6 9 ... 4 6 0] [2 6 4 ... 2 6 0]\n",
      "0.7911707317073171\n"
     ]
    },
    {
     "name": "stderr",
     "output_type": "stream",
     "text": [
      " 74%|\u001b[31m███████▍  \u001b[0m| 332/450 [04:29<01:14,  1.59it/s]"
     ]
    },
    {
     "name": "stdout",
     "output_type": "stream",
     "text": [
      "Iteration:  331\n",
      "[2 6 9 ... 4 6 0] [2 6 4 ... 2 6 0]\n",
      "0.7915609756097561\n"
     ]
    },
    {
     "name": "stderr",
     "output_type": "stream",
     "text": [
      " 74%|\u001b[31m███████▍  \u001b[0m| 333/450 [04:30<01:03,  1.84it/s]"
     ]
    },
    {
     "name": "stdout",
     "output_type": "stream",
     "text": [
      "Iteration:  332\n",
      "[2 6 9 ... 4 6 0] [2 6 4 ... 2 6 0]\n",
      "0.7917804878048781\n"
     ]
    },
    {
     "name": "stderr",
     "output_type": "stream",
     "text": [
      " 74%|\u001b[31m███████▍  \u001b[0m| 334/450 [04:30<01:01,  1.87it/s]"
     ]
    },
    {
     "name": "stdout",
     "output_type": "stream",
     "text": [
      "Iteration:  333\n",
      "[2 6 9 ... 4 6 0] [2 6 4 ... 2 6 0]\n",
      "0.7920487804878049\n"
     ]
    },
    {
     "name": "stderr",
     "output_type": "stream",
     "text": [
      " 74%|\u001b[31m███████▍  \u001b[0m| 335/450 [04:31<01:03,  1.81it/s]"
     ]
    },
    {
     "name": "stdout",
     "output_type": "stream",
     "text": [
      "Iteration:  334\n",
      "[2 6 9 ... 4 6 0] [2 6 4 ... 2 6 0]\n",
      "0.7923658536585366\n"
     ]
    },
    {
     "name": "stderr",
     "output_type": "stream",
     "text": [
      " 75%|\u001b[31m███████▍  \u001b[0m| 336/450 [04:32<01:05,  1.75it/s]"
     ]
    },
    {
     "name": "stdout",
     "output_type": "stream",
     "text": [
      "Iteration:  335\n",
      "[2 6 9 ... 4 6 0] [2 6 4 ... 2 6 0]\n",
      "0.7927317073170732\n"
     ]
    },
    {
     "name": "stderr",
     "output_type": "stream",
     "text": [
      " 75%|\u001b[31m███████▍  \u001b[0m| 337/450 [04:32<01:02,  1.80it/s]"
     ]
    },
    {
     "name": "stdout",
     "output_type": "stream",
     "text": [
      "Iteration:  336\n",
      "[2 6 9 ... 4 6 0] [2 6 4 ... 2 6 0]\n",
      "0.7929756097560976\n"
     ]
    },
    {
     "name": "stderr",
     "output_type": "stream",
     "text": [
      " 75%|\u001b[31m███████▌  \u001b[0m| 338/450 [04:34<01:37,  1.15it/s]"
     ]
    },
    {
     "name": "stdout",
     "output_type": "stream",
     "text": [
      "Iteration:  337\n",
      "[2 6 9 ... 4 6 0] [2 6 4 ... 2 6 0]\n",
      "0.7934634146341464\n"
     ]
    },
    {
     "name": "stderr",
     "output_type": "stream",
     "text": [
      " 75%|\u001b[31m███████▌  \u001b[0m| 339/450 [04:34<01:17,  1.43it/s]"
     ]
    },
    {
     "name": "stdout",
     "output_type": "stream",
     "text": [
      "Iteration:  338\n",
      "[2 6 9 ... 4 6 0] [2 6 4 ... 2 6 0]\n",
      "0.7937560975609756\n"
     ]
    },
    {
     "name": "stderr",
     "output_type": "stream",
     "text": [
      " 76%|\u001b[31m███████▌  \u001b[0m| 340/450 [04:35<01:12,  1.51it/s]"
     ]
    },
    {
     "name": "stdout",
     "output_type": "stream",
     "text": [
      "Iteration:  339\n",
      "[2 6 9 ... 4 6 0] [2 6 4 ... 2 6 0]\n",
      "0.7941463414634147\n"
     ]
    },
    {
     "name": "stderr",
     "output_type": "stream",
     "text": [
      " 76%|\u001b[31m███████▌  \u001b[0m| 341/450 [04:36<01:27,  1.25it/s]"
     ]
    },
    {
     "name": "stdout",
     "output_type": "stream",
     "text": [
      "Iteration:  340\n",
      "[2 6 9 ... 4 6 0] [2 6 4 ... 2 6 0]\n",
      "0.7944390243902439\n"
     ]
    },
    {
     "name": "stderr",
     "output_type": "stream",
     "text": [
      " 76%|\u001b[31m███████▌  \u001b[0m| 342/450 [04:37<01:33,  1.15it/s]"
     ]
    },
    {
     "name": "stdout",
     "output_type": "stream",
     "text": [
      "Iteration:  341\n",
      "[2 6 9 ... 4 6 0] [2 6 4 ... 2 6 0]\n",
      "0.7946341463414635\n"
     ]
    },
    {
     "name": "stderr",
     "output_type": "stream",
     "text": [
      " 76%|\u001b[31m███████▌  \u001b[0m| 343/450 [04:37<01:17,  1.38it/s]"
     ]
    },
    {
     "name": "stdout",
     "output_type": "stream",
     "text": [
      "Iteration:  342\n",
      "[2 6 9 ... 4 6 0] [2 6 4 ... 2 6 0]\n",
      "0.7948780487804878\n"
     ]
    },
    {
     "name": "stderr",
     "output_type": "stream",
     "text": [
      " 76%|\u001b[31m███████▋  \u001b[0m| 344/450 [04:38<01:12,  1.46it/s]"
     ]
    },
    {
     "name": "stdout",
     "output_type": "stream",
     "text": [
      "Iteration:  343\n",
      "[2 6 9 ... 4 6 0] [2 6 4 ... 2 6 0]\n",
      "0.7951951219512196\n"
     ]
    },
    {
     "name": "stderr",
     "output_type": "stream",
     "text": [
      " 77%|\u001b[31m███████▋  \u001b[0m| 345/450 [04:39<01:18,  1.33it/s]"
     ]
    },
    {
     "name": "stdout",
     "output_type": "stream",
     "text": [
      "Iteration:  344\n",
      "[2 6 9 ... 4 6 0] [2 6 4 ... 2 6 0]\n",
      "0.7955365853658537\n"
     ]
    },
    {
     "name": "stderr",
     "output_type": "stream",
     "text": [
      " 77%|\u001b[31m███████▋  \u001b[0m| 346/450 [04:39<01:13,  1.42it/s]"
     ]
    },
    {
     "name": "stdout",
     "output_type": "stream",
     "text": [
      "Iteration:  345\n",
      "[2 6 9 ... 4 6 0] [2 6 4 ... 2 6 0]\n",
      "0.7958780487804878\n"
     ]
    },
    {
     "name": "stderr",
     "output_type": "stream",
     "text": [
      " 77%|\u001b[31m███████▋  \u001b[0m| 347/450 [04:39<01:01,  1.66it/s]"
     ]
    },
    {
     "name": "stdout",
     "output_type": "stream",
     "text": [
      "Iteration:  346\n",
      "[2 6 9 ... 4 6 0] [2 6 4 ... 2 6 0]\n",
      "0.796\n"
     ]
    },
    {
     "name": "stderr",
     "output_type": "stream",
     "text": [
      " 77%|\u001b[31m███████▋  \u001b[0m| 348/450 [04:40<01:01,  1.67it/s]"
     ]
    },
    {
     "name": "stdout",
     "output_type": "stream",
     "text": [
      "Iteration:  347\n",
      "[2 6 9 ... 4 6 0] [2 6 4 ... 2 6 0]\n",
      "0.7962926829268293\n"
     ]
    },
    {
     "name": "stderr",
     "output_type": "stream",
     "text": [
      " 78%|\u001b[31m███████▊  \u001b[0m| 349/450 [04:41<01:04,  1.58it/s]"
     ]
    },
    {
     "name": "stdout",
     "output_type": "stream",
     "text": [
      "Iteration:  348\n",
      "[2 6 9 ... 4 6 0] [2 6 4 ... 2 6 0]\n",
      "0.7966829268292683\n"
     ]
    },
    {
     "name": "stderr",
     "output_type": "stream",
     "text": [
      " 78%|\u001b[31m███████▊  \u001b[0m| 350/450 [04:41<00:53,  1.87it/s]"
     ]
    },
    {
     "name": "stdout",
     "output_type": "stream",
     "text": [
      "Iteration:  349\n",
      "[2 6 9 ... 4 6 0] [2 6 4 ... 2 6 0]\n",
      "0.7970731707317074\n"
     ]
    },
    {
     "name": "stderr",
     "output_type": "stream",
     "text": [
      " 78%|\u001b[31m███████▊  \u001b[0m| 351/450 [04:42<00:54,  1.82it/s]"
     ]
    },
    {
     "name": "stdout",
     "output_type": "stream",
     "text": [
      "Iteration:  350\n",
      "[2 6 9 ... 4 6 0] [2 6 4 ... 2 6 0]\n",
      "0.7973414634146342\n"
     ]
    },
    {
     "name": "stderr",
     "output_type": "stream",
     "text": [
      " 78%|\u001b[31m███████▊  \u001b[0m| 352/450 [04:42<00:45,  2.16it/s]"
     ]
    },
    {
     "name": "stdout",
     "output_type": "stream",
     "text": [
      "Iteration:  351\n",
      "[2 6 9 ... 4 6 0] [2 6 4 ... 2 6 0]\n",
      "0.7975853658536586\n"
     ]
    },
    {
     "name": "stderr",
     "output_type": "stream",
     "text": [
      " 78%|\u001b[31m███████▊  \u001b[0m| 353/450 [04:43<00:48,  1.98it/s]"
     ]
    },
    {
     "name": "stdout",
     "output_type": "stream",
     "text": [
      "Iteration:  352\n",
      "[2 6 9 ... 4 6 0] [2 6 4 ... 2 6 0]\n",
      "0.797829268292683\n"
     ]
    },
    {
     "name": "stderr",
     "output_type": "stream",
     "text": [
      " 79%|\u001b[31m███████▊  \u001b[0m| 354/450 [04:43<00:42,  2.26it/s]"
     ]
    },
    {
     "name": "stdout",
     "output_type": "stream",
     "text": [
      "Iteration:  353\n",
      "[2 6 9 ... 4 6 0] [2 6 4 ... 2 6 0]\n",
      "0.798\n"
     ]
    },
    {
     "name": "stderr",
     "output_type": "stream",
     "text": [
      " 79%|\u001b[31m███████▉  \u001b[0m| 355/450 [04:43<00:37,  2.51it/s]"
     ]
    },
    {
     "name": "stdout",
     "output_type": "stream",
     "text": [
      "Iteration:  354\n",
      "[2 6 9 ... 4 6 0] [2 6 4 ... 2 6 0]\n",
      "0.7981951219512196\n"
     ]
    },
    {
     "name": "stderr",
     "output_type": "stream",
     "text": [
      " 79%|\u001b[31m███████▉  \u001b[0m| 356/450 [04:44<00:44,  2.12it/s]"
     ]
    },
    {
     "name": "stdout",
     "output_type": "stream",
     "text": [
      "Iteration:  355\n",
      "[2 6 9 ... 4 6 0] [2 6 4 ... 2 6 0]\n",
      "0.7984146341463415\n"
     ]
    },
    {
     "name": "stderr",
     "output_type": "stream",
     "text": [
      " 79%|\u001b[31m███████▉  \u001b[0m| 357/450 [04:44<00:44,  2.10it/s]"
     ]
    },
    {
     "name": "stdout",
     "output_type": "stream",
     "text": [
      "Iteration:  356\n",
      "[2 6 9 ... 4 6 0] [2 6 4 ... 2 6 0]\n",
      "0.7986585365853659\n"
     ]
    },
    {
     "name": "stderr",
     "output_type": "stream",
     "text": [
      " 80%|\u001b[31m███████▉  \u001b[0m| 358/450 [04:45<00:48,  1.89it/s]"
     ]
    },
    {
     "name": "stdout",
     "output_type": "stream",
     "text": [
      "Iteration:  357\n",
      "[2 6 9 ... 4 6 0] [2 6 4 ... 2 6 0]\n",
      "0.7988780487804878\n"
     ]
    },
    {
     "name": "stderr",
     "output_type": "stream",
     "text": [
      " 80%|\u001b[31m███████▉  \u001b[0m| 359/450 [04:46<00:52,  1.74it/s]"
     ]
    },
    {
     "name": "stdout",
     "output_type": "stream",
     "text": [
      "Iteration:  358\n",
      "[2 6 9 ... 4 6 0] [2 6 4 ... 2 6 0]\n",
      "0.7991951219512196\n"
     ]
    },
    {
     "name": "stderr",
     "output_type": "stream",
     "text": [
      " 80%|\u001b[31m████████  \u001b[0m| 360/450 [04:46<00:54,  1.65it/s]"
     ]
    },
    {
     "name": "stdout",
     "output_type": "stream",
     "text": [
      "Iteration:  359\n",
      "[2 6 9 ... 4 6 0] [2 6 4 ... 2 6 0]\n",
      "0.7993414634146342\n"
     ]
    },
    {
     "name": "stderr",
     "output_type": "stream",
     "text": [
      " 80%|\u001b[31m████████  \u001b[0m| 361/450 [04:47<01:00,  1.47it/s]"
     ]
    },
    {
     "name": "stdout",
     "output_type": "stream",
     "text": [
      "Iteration:  360\n",
      "[2 6 9 ... 4 6 0] [2 6 4 ... 2 6 0]\n",
      "0.799439024390244\n"
     ]
    },
    {
     "name": "stderr",
     "output_type": "stream",
     "text": [
      " 80%|\u001b[31m████████  \u001b[0m| 362/450 [04:48<00:58,  1.50it/s]"
     ]
    },
    {
     "name": "stdout",
     "output_type": "stream",
     "text": [
      "Iteration:  361\n",
      "[2 6 9 ... 4 6 0] [2 6 4 ... 2 6 0]\n",
      "0.7996829268292683\n"
     ]
    },
    {
     "name": "stderr",
     "output_type": "stream",
     "text": [
      " 81%|\u001b[31m████████  \u001b[0m| 363/450 [04:48<00:50,  1.74it/s]"
     ]
    },
    {
     "name": "stdout",
     "output_type": "stream",
     "text": [
      "Iteration:  362\n",
      "[2 6 9 ... 4 6 0] [2 6 4 ... 2 6 0]\n",
      "0.800219512195122\n"
     ]
    },
    {
     "name": "stderr",
     "output_type": "stream",
     "text": [
      " 81%|\u001b[31m████████  \u001b[0m| 364/450 [04:49<00:49,  1.72it/s]"
     ]
    },
    {
     "name": "stdout",
     "output_type": "stream",
     "text": [
      "Iteration:  363\n",
      "[2 6 9 ... 4 6 0] [2 6 4 ... 2 6 0]\n",
      "0.8005609756097561\n"
     ]
    },
    {
     "name": "stderr",
     "output_type": "stream",
     "text": [
      " 81%|\u001b[31m████████  \u001b[0m| 365/450 [04:49<00:43,  1.96it/s]"
     ]
    },
    {
     "name": "stdout",
     "output_type": "stream",
     "text": [
      "Iteration:  364\n",
      "[2 6 9 ... 4 6 0] [2 6 4 ... 2 6 0]\n",
      "0.8006341463414635\n"
     ]
    },
    {
     "name": "stderr",
     "output_type": "stream",
     "text": [
      " 81%|\u001b[31m████████▏ \u001b[0m| 366/450 [04:50<00:46,  1.82it/s]"
     ]
    },
    {
     "name": "stdout",
     "output_type": "stream",
     "text": [
      "Iteration:  365\n",
      "[2 6 9 ... 4 6 0] [2 6 4 ... 2 6 0]\n",
      "0.8008780487804879\n"
     ]
    },
    {
     "name": "stderr",
     "output_type": "stream",
     "text": [
      " 82%|\u001b[31m████████▏ \u001b[0m| 367/450 [04:50<00:49,  1.68it/s]"
     ]
    },
    {
     "name": "stdout",
     "output_type": "stream",
     "text": [
      "Iteration:  366\n",
      "[2 6 9 ... 4 6 0] [2 6 4 ... 2 6 0]\n",
      "0.8012682926829269\n"
     ]
    },
    {
     "name": "stderr",
     "output_type": "stream",
     "text": [
      " 82%|\u001b[31m████████▏ \u001b[0m| 368/450 [04:52<01:04,  1.27it/s]"
     ]
    },
    {
     "name": "stdout",
     "output_type": "stream",
     "text": [
      "Iteration:  367\n",
      "[2 6 9 ... 4 6 0] [2 6 4 ... 2 6 0]\n",
      "0.8014146341463415\n"
     ]
    },
    {
     "name": "stderr",
     "output_type": "stream",
     "text": [
      " 82%|\u001b[31m████████▏ \u001b[0m| 369/450 [04:52<01:01,  1.32it/s]"
     ]
    },
    {
     "name": "stdout",
     "output_type": "stream",
     "text": [
      "Iteration:  368\n",
      "[2 6 9 ... 4 6 0] [2 6 4 ... 2 6 0]\n",
      "0.8018048780487805\n"
     ]
    },
    {
     "name": "stderr",
     "output_type": "stream",
     "text": [
      " 82%|\u001b[31m████████▏ \u001b[0m| 370/450 [04:53<00:56,  1.40it/s]"
     ]
    },
    {
     "name": "stdout",
     "output_type": "stream",
     "text": [
      "Iteration:  369\n",
      "[2 6 9 ... 4 6 0] [2 6 4 ... 2 6 0]\n",
      "0.8020243902439025\n"
     ]
    },
    {
     "name": "stderr",
     "output_type": "stream",
     "text": [
      " 82%|\u001b[31m████████▏ \u001b[0m| 371/450 [04:54<00:52,  1.51it/s]"
     ]
    },
    {
     "name": "stdout",
     "output_type": "stream",
     "text": [
      "Iteration:  370\n",
      "[2 6 9 ... 4 6 0] [2 6 4 ... 2 6 0]\n",
      "0.802439024390244\n"
     ]
    },
    {
     "name": "stderr",
     "output_type": "stream",
     "text": [
      " 83%|\u001b[31m████████▎ \u001b[0m| 372/450 [04:54<00:48,  1.60it/s]"
     ]
    },
    {
     "name": "stdout",
     "output_type": "stream",
     "text": [
      "Iteration:  371\n",
      "[2 6 9 ... 4 6 0] [2 6 4 ... 2 6 0]\n",
      "0.8027073170731708\n"
     ]
    },
    {
     "name": "stderr",
     "output_type": "stream",
     "text": [
      " 83%|\u001b[31m████████▎ \u001b[0m| 373/450 [04:54<00:42,  1.82it/s]"
     ]
    },
    {
     "name": "stdout",
     "output_type": "stream",
     "text": [
      "Iteration:  372\n",
      "[2 6 9 ... 4 6 0] [2 6 4 ... 2 6 0]\n",
      "0.8029024390243903\n"
     ]
    },
    {
     "name": "stderr",
     "output_type": "stream",
     "text": [
      " 83%|\u001b[31m████████▎ \u001b[0m| 374/450 [04:55<00:39,  1.94it/s]"
     ]
    },
    {
     "name": "stdout",
     "output_type": "stream",
     "text": [
      "Iteration:  373\n",
      "[2 6 9 ... 4 6 0] [2 6 4 ... 2 6 0]\n",
      "0.803219512195122\n"
     ]
    },
    {
     "name": "stderr",
     "output_type": "stream",
     "text": [
      " 83%|\u001b[31m████████▎ \u001b[0m| 375/450 [04:55<00:41,  1.82it/s]"
     ]
    },
    {
     "name": "stdout",
     "output_type": "stream",
     "text": [
      "Iteration:  374\n",
      "[2 6 9 ... 4 6 0] [2 6 4 ... 2 6 0]\n",
      "0.8035365853658537\n"
     ]
    },
    {
     "name": "stderr",
     "output_type": "stream",
     "text": [
      " 84%|\u001b[31m████████▎ \u001b[0m| 376/450 [04:56<00:46,  1.59it/s]"
     ]
    },
    {
     "name": "stdout",
     "output_type": "stream",
     "text": [
      "Iteration:  375\n",
      "[2 6 9 ... 4 6 0] [2 6 4 ... 2 6 0]\n",
      "0.8037317073170732\n"
     ]
    },
    {
     "name": "stderr",
     "output_type": "stream",
     "text": [
      " 84%|\u001b[31m████████▍ \u001b[0m| 377/450 [04:57<00:45,  1.62it/s]"
     ]
    },
    {
     "name": "stdout",
     "output_type": "stream",
     "text": [
      "Iteration:  376\n",
      "[2 6 4 ... 4 6 0] [2 6 4 ... 2 6 0]\n",
      "0.804\n"
     ]
    },
    {
     "name": "stderr",
     "output_type": "stream",
     "text": [
      " 84%|\u001b[31m████████▍ \u001b[0m| 378/450 [04:58<00:46,  1.55it/s]"
     ]
    },
    {
     "name": "stdout",
     "output_type": "stream",
     "text": [
      "Iteration:  377\n",
      "[2 6 4 ... 4 6 0] [2 6 4 ... 2 6 0]\n",
      "0.8044146341463415\n"
     ]
    },
    {
     "name": "stderr",
     "output_type": "stream",
     "text": [
      " 84%|\u001b[31m████████▍ \u001b[0m| 379/450 [04:58<00:39,  1.79it/s]"
     ]
    },
    {
     "name": "stdout",
     "output_type": "stream",
     "text": [
      "Iteration:  378\n",
      "[2 6 4 ... 4 6 0] [2 6 4 ... 2 6 0]\n",
      "0.8046585365853659\n"
     ]
    },
    {
     "name": "stderr",
     "output_type": "stream",
     "text": [
      " 84%|\u001b[31m████████▍ \u001b[0m| 380/450 [04:59<00:40,  1.73it/s]"
     ]
    },
    {
     "name": "stdout",
     "output_type": "stream",
     "text": [
      "Iteration:  379\n",
      "[2 6 4 ... 4 6 0] [2 6 4 ... 2 6 0]\n",
      "0.8049756097560976\n"
     ]
    },
    {
     "name": "stderr",
     "output_type": "stream",
     "text": [
      " 85%|\u001b[31m████████▍ \u001b[0m| 381/450 [04:59<00:42,  1.61it/s]"
     ]
    },
    {
     "name": "stdout",
     "output_type": "stream",
     "text": [
      "Iteration:  380\n",
      "[2 6 4 ... 4 6 0] [2 6 4 ... 2 6 0]\n",
      "0.805219512195122\n"
     ]
    },
    {
     "name": "stderr",
     "output_type": "stream",
     "text": [
      " 85%|\u001b[31m████████▍ \u001b[0m| 382/450 [05:00<00:35,  1.92it/s]"
     ]
    },
    {
     "name": "stdout",
     "output_type": "stream",
     "text": [
      "Iteration:  381\n",
      "[2 6 4 ... 4 6 0] [2 6 4 ... 2 6 0]\n",
      "0.8053170731707318\n"
     ]
    },
    {
     "name": "stderr",
     "output_type": "stream",
     "text": [
      " 85%|\u001b[31m████████▌ \u001b[0m| 383/450 [05:00<00:36,  1.84it/s]"
     ]
    },
    {
     "name": "stdout",
     "output_type": "stream",
     "text": [
      "Iteration:  382\n",
      "[2 6 4 ... 4 6 0] [2 6 4 ... 2 6 0]\n",
      "0.8056341463414635\n"
     ]
    },
    {
     "name": "stderr",
     "output_type": "stream",
     "text": [
      " 85%|\u001b[31m████████▌ \u001b[0m| 384/450 [05:01<00:40,  1.63it/s]"
     ]
    },
    {
     "name": "stdout",
     "output_type": "stream",
     "text": [
      "Iteration:  383\n",
      "[2 6 4 ... 4 6 0] [2 6 4 ... 2 6 0]\n",
      "0.8059268292682927\n"
     ]
    },
    {
     "name": "stderr",
     "output_type": "stream",
     "text": [
      " 86%|\u001b[31m████████▌ \u001b[0m| 385/450 [05:02<00:40,  1.61it/s]"
     ]
    },
    {
     "name": "stdout",
     "output_type": "stream",
     "text": [
      "Iteration:  384\n",
      "[2 6 4 ... 4 6 0] [2 6 4 ... 2 6 0]\n",
      "0.806219512195122\n"
     ]
    },
    {
     "name": "stderr",
     "output_type": "stream",
     "text": [
      " 86%|\u001b[31m████████▌ \u001b[0m| 386/450 [05:02<00:38,  1.68it/s]"
     ]
    },
    {
     "name": "stdout",
     "output_type": "stream",
     "text": [
      "Iteration:  385\n",
      "[2 6 4 ... 4 6 0] [2 6 4 ... 2 6 0]\n",
      "0.806439024390244\n"
     ]
    },
    {
     "name": "stderr",
     "output_type": "stream",
     "text": [
      " 86%|\u001b[31m████████▌ \u001b[0m| 387/450 [05:03<00:34,  1.84it/s]"
     ]
    },
    {
     "name": "stdout",
     "output_type": "stream",
     "text": [
      "Iteration:  386\n",
      "[2 6 4 ... 4 6 0] [2 6 4 ... 2 6 0]\n",
      "0.8066585365853659\n"
     ]
    },
    {
     "name": "stderr",
     "output_type": "stream",
     "text": [
      " 86%|\u001b[31m████████▌ \u001b[0m| 388/450 [05:03<00:35,  1.75it/s]"
     ]
    },
    {
     "name": "stdout",
     "output_type": "stream",
     "text": [
      "Iteration:  387\n",
      "[2 6 4 ... 4 6 0] [2 6 4 ... 2 6 0]\n",
      "0.8069512195121952\n"
     ]
    },
    {
     "name": "stderr",
     "output_type": "stream",
     "text": [
      " 86%|\u001b[31m████████▋ \u001b[0m| 389/450 [05:04<00:29,  2.04it/s]"
     ]
    },
    {
     "name": "stdout",
     "output_type": "stream",
     "text": [
      "Iteration:  388\n",
      "[2 6 4 ... 4 6 0] [2 6 4 ... 2 6 0]\n",
      "0.8073658536585366\n"
     ]
    },
    {
     "name": "stderr",
     "output_type": "stream",
     "text": [
      " 87%|\u001b[31m████████▋ \u001b[0m| 390/450 [05:04<00:31,  1.91it/s]"
     ]
    },
    {
     "name": "stdout",
     "output_type": "stream",
     "text": [
      "Iteration:  389\n",
      "[2 6 4 ... 4 6 0] [2 6 4 ... 2 6 0]\n",
      "0.8075853658536586\n"
     ]
    },
    {
     "name": "stderr",
     "output_type": "stream",
     "text": [
      " 87%|\u001b[31m████████▋ \u001b[0m| 391/450 [05:05<00:31,  1.88it/s]"
     ]
    },
    {
     "name": "stdout",
     "output_type": "stream",
     "text": [
      "Iteration:  390\n",
      "[2 6 4 ... 4 6 0] [2 6 4 ... 2 6 0]\n",
      "0.8077317073170732\n"
     ]
    },
    {
     "name": "stderr",
     "output_type": "stream",
     "text": [
      " 87%|\u001b[31m████████▋ \u001b[0m| 392/450 [05:05<00:28,  2.02it/s]"
     ]
    },
    {
     "name": "stdout",
     "output_type": "stream",
     "text": [
      "Iteration:  391\n",
      "[2 6 4 ... 4 6 0] [2 6 4 ... 2 6 0]\n",
      "0.8080975609756098\n"
     ]
    },
    {
     "name": "stderr",
     "output_type": "stream",
     "text": [
      " 87%|\u001b[31m████████▋ \u001b[0m| 393/450 [05:06<00:38,  1.48it/s]"
     ]
    },
    {
     "name": "stdout",
     "output_type": "stream",
     "text": [
      "Iteration:  392\n",
      "[2 6 4 ... 4 6 0] [2 6 4 ... 2 6 0]\n",
      "0.8085121951219513\n"
     ]
    },
    {
     "name": "stderr",
     "output_type": "stream",
     "text": [
      " 88%|\u001b[31m████████▊ \u001b[0m| 394/450 [05:07<00:38,  1.47it/s]"
     ]
    },
    {
     "name": "stdout",
     "output_type": "stream",
     "text": [
      "Iteration:  393\n",
      "[2 6 4 ... 4 6 0] [2 6 4 ... 2 6 0]\n",
      "0.8087804878048781\n"
     ]
    },
    {
     "name": "stderr",
     "output_type": "stream",
     "text": [
      " 88%|\u001b[31m████████▊ \u001b[0m| 395/450 [05:08<00:41,  1.32it/s]"
     ]
    },
    {
     "name": "stdout",
     "output_type": "stream",
     "text": [
      "Iteration:  394\n",
      "[2 6 4 ... 4 6 0] [2 6 4 ... 2 6 0]\n",
      "0.809\n"
     ]
    },
    {
     "name": "stderr",
     "output_type": "stream",
     "text": [
      " 88%|\u001b[31m████████▊ \u001b[0m| 396/450 [05:08<00:39,  1.37it/s]"
     ]
    },
    {
     "name": "stdout",
     "output_type": "stream",
     "text": [
      "Iteration:  395\n",
      "[2 6 4 ... 4 6 0] [2 6 4 ... 2 6 0]\n",
      "0.8093414634146342\n"
     ]
    },
    {
     "name": "stderr",
     "output_type": "stream",
     "text": [
      " 88%|\u001b[31m████████▊ \u001b[0m| 397/450 [05:09<00:31,  1.66it/s]"
     ]
    },
    {
     "name": "stdout",
     "output_type": "stream",
     "text": [
      "Iteration:  396\n",
      "[2 6 4 ... 4 6 0] [2 6 4 ... 2 6 0]\n",
      "0.8094146341463415\n"
     ]
    },
    {
     "name": "stderr",
     "output_type": "stream",
     "text": [
      " 88%|\u001b[31m████████▊ \u001b[0m| 398/450 [05:09<00:31,  1.63it/s]"
     ]
    },
    {
     "name": "stdout",
     "output_type": "stream",
     "text": [
      "Iteration:  397\n",
      "[2 6 4 ... 4 6 0] [2 6 4 ... 2 6 0]\n",
      "0.8096585365853659\n"
     ]
    },
    {
     "name": "stderr",
     "output_type": "stream",
     "text": [
      " 89%|\u001b[31m████████▊ \u001b[0m| 399/450 [05:10<00:26,  1.94it/s]"
     ]
    },
    {
     "name": "stdout",
     "output_type": "stream",
     "text": [
      "Iteration:  398\n",
      "[2 6 4 ... 4 6 0] [2 6 4 ... 2 6 0]\n",
      "0.8100243902439025\n"
     ]
    },
    {
     "name": "stderr",
     "output_type": "stream",
     "text": [
      " 89%|\u001b[31m████████▉ \u001b[0m| 400/450 [05:10<00:22,  2.20it/s]"
     ]
    },
    {
     "name": "stdout",
     "output_type": "stream",
     "text": [
      "Iteration:  399\n",
      "[2 6 4 ... 4 6 0] [2 6 4 ... 2 6 0]\n",
      "0.8101951219512196\n"
     ]
    },
    {
     "name": "stderr",
     "output_type": "stream",
     "text": [
      " 89%|\u001b[31m████████▉ \u001b[0m| 401/450 [05:11<00:31,  1.57it/s]"
     ]
    },
    {
     "name": "stdout",
     "output_type": "stream",
     "text": [
      "Iteration:  400\n",
      "[2 6 4 ... 4 6 0] [2 6 4 ... 2 6 0]\n",
      "0.8104878048780488\n"
     ]
    },
    {
     "name": "stderr",
     "output_type": "stream",
     "text": [
      " 89%|\u001b[31m████████▉ \u001b[0m| 402/450 [05:11<00:25,  1.87it/s]"
     ]
    },
    {
     "name": "stdout",
     "output_type": "stream",
     "text": [
      "Iteration:  401\n",
      "[2 6 4 ... 4 6 0] [2 6 4 ... 2 6 0]\n",
      "0.810609756097561\n"
     ]
    },
    {
     "name": "stderr",
     "output_type": "stream",
     "text": [
      " 90%|\u001b[31m████████▉ \u001b[0m| 403/450 [05:12<00:26,  1.78it/s]"
     ]
    },
    {
     "name": "stdout",
     "output_type": "stream",
     "text": [
      "Iteration:  402\n",
      "[2 6 4 ... 4 6 0] [2 6 4 ... 2 6 0]\n",
      "0.8108048780487805\n"
     ]
    },
    {
     "name": "stderr",
     "output_type": "stream",
     "text": [
      " 90%|\u001b[31m████████▉ \u001b[0m| 404/450 [05:13<00:27,  1.69it/s]"
     ]
    },
    {
     "name": "stdout",
     "output_type": "stream",
     "text": [
      "Iteration:  403\n",
      "[2 6 4 ... 4 6 0] [2 6 4 ... 2 6 0]\n",
      "0.8110487804878049\n"
     ]
    },
    {
     "name": "stderr",
     "output_type": "stream",
     "text": [
      " 90%|\u001b[31m█████████ \u001b[0m| 405/450 [05:13<00:22,  1.97it/s]"
     ]
    },
    {
     "name": "stdout",
     "output_type": "stream",
     "text": [
      "Iteration:  404\n",
      "[2 6 4 ... 4 6 0] [2 6 4 ... 2 6 0]\n",
      "0.811219512195122\n"
     ]
    },
    {
     "name": "stderr",
     "output_type": "stream",
     "text": [
      " 90%|\u001b[31m█████████ \u001b[0m| 406/450 [05:14<00:24,  1.78it/s]"
     ]
    },
    {
     "name": "stdout",
     "output_type": "stream",
     "text": [
      "Iteration:  405\n",
      "[2 6 4 ... 4 6 0] [2 6 4 ... 2 6 0]\n",
      "0.8114634146341464\n"
     ]
    },
    {
     "name": "stderr",
     "output_type": "stream",
     "text": [
      " 90%|\u001b[31m█████████ \u001b[0m| 407/450 [05:14<00:21,  2.02it/s]"
     ]
    },
    {
     "name": "stdout",
     "output_type": "stream",
     "text": [
      "Iteration:  406\n",
      "[2 6 4 ... 4 6 0] [2 6 4 ... 2 6 0]\n",
      "0.8116585365853659\n"
     ]
    },
    {
     "name": "stderr",
     "output_type": "stream",
     "text": [
      " 91%|\u001b[31m█████████ \u001b[0m| 408/450 [05:15<00:22,  1.87it/s]"
     ]
    },
    {
     "name": "stdout",
     "output_type": "stream",
     "text": [
      "Iteration:  407\n",
      "[2 6 4 ... 4 6 0] [2 6 4 ... 2 6 0]\n",
      "0.8118780487804879\n"
     ]
    },
    {
     "name": "stderr",
     "output_type": "stream",
     "text": [
      " 91%|\u001b[31m█████████ \u001b[0m| 409/450 [05:15<00:19,  2.10it/s]"
     ]
    },
    {
     "name": "stdout",
     "output_type": "stream",
     "text": [
      "Iteration:  408\n",
      "[2 6 4 ... 4 6 0] [2 6 4 ... 2 6 0]\n",
      "0.812\n"
     ]
    },
    {
     "name": "stderr",
     "output_type": "stream",
     "text": [
      " 91%|\u001b[31m█████████ \u001b[0m| 410/450 [05:16<00:21,  1.85it/s]"
     ]
    },
    {
     "name": "stdout",
     "output_type": "stream",
     "text": [
      "Iteration:  409\n",
      "[2 6 4 ... 4 6 0] [2 6 4 ... 2 6 0]\n",
      "0.8121707317073171\n"
     ]
    },
    {
     "name": "stderr",
     "output_type": "stream",
     "text": [
      " 91%|\u001b[31m█████████▏\u001b[0m| 411/450 [05:16<00:22,  1.71it/s]"
     ]
    },
    {
     "name": "stdout",
     "output_type": "stream",
     "text": [
      "Iteration:  410\n",
      "[2 6 4 ... 4 6 0] [2 6 4 ... 2 6 0]\n",
      "0.8123170731707318\n"
     ]
    },
    {
     "name": "stderr",
     "output_type": "stream",
     "text": [
      " 92%|\u001b[31m█████████▏\u001b[0m| 412/450 [05:17<00:23,  1.64it/s]"
     ]
    },
    {
     "name": "stdout",
     "output_type": "stream",
     "text": [
      "Iteration:  411\n",
      "[2 6 4 ... 4 6 0] [2 6 4 ... 2 6 0]\n",
      "0.8125121951219512\n"
     ]
    },
    {
     "name": "stderr",
     "output_type": "stream",
     "text": [
      " 92%|\u001b[31m█████████▏\u001b[0m| 413/450 [05:18<00:22,  1.65it/s]"
     ]
    },
    {
     "name": "stdout",
     "output_type": "stream",
     "text": [
      "Iteration:  412\n",
      "[2 6 4 ... 4 6 0] [2 6 4 ... 2 6 0]\n",
      "0.8128048780487804\n"
     ]
    },
    {
     "name": "stderr",
     "output_type": "stream",
     "text": [
      " 92%|\u001b[31m█████████▏\u001b[0m| 414/450 [05:19<00:34,  1.05it/s]"
     ]
    },
    {
     "name": "stdout",
     "output_type": "stream",
     "text": [
      "Iteration:  413\n",
      "[2 6 4 ... 4 6 0] [2 6 4 ... 2 6 0]\n",
      "0.8130975609756097\n"
     ]
    },
    {
     "name": "stderr",
     "output_type": "stream",
     "text": [
      " 92%|\u001b[31m█████████▏\u001b[0m| 415/450 [05:22<00:47,  1.35s/it]"
     ]
    },
    {
     "name": "stdout",
     "output_type": "stream",
     "text": [
      "Iteration:  414\n",
      "[2 6 4 ... 4 6 0] [2 6 4 ... 2 6 0]\n",
      "0.8134634146341463\n"
     ]
    },
    {
     "name": "stderr",
     "output_type": "stream",
     "text": [
      " 92%|\u001b[31m█████████▏\u001b[0m| 416/450 [05:25<01:03,  1.87s/it]"
     ]
    },
    {
     "name": "stdout",
     "output_type": "stream",
     "text": [
      "Iteration:  415\n",
      "[2 6 4 ... 4 6 0] [2 6 4 ... 2 6 0]\n",
      "0.8137560975609756\n"
     ]
    },
    {
     "name": "stderr",
     "output_type": "stream",
     "text": [
      " 93%|\u001b[31m█████████▎\u001b[0m| 417/450 [05:26<00:56,  1.72s/it]"
     ]
    },
    {
     "name": "stdout",
     "output_type": "stream",
     "text": [
      "Iteration:  416\n",
      "[2 6 4 ... 4 6 0] [2 6 4 ... 2 6 0]\n",
      "0.8138292682926829\n"
     ]
    },
    {
     "name": "stderr",
     "output_type": "stream",
     "text": [
      " 93%|\u001b[31m█████████▎\u001b[0m| 418/450 [05:29<01:03,  1.98s/it]"
     ]
    },
    {
     "name": "stdout",
     "output_type": "stream",
     "text": [
      "Iteration:  417\n",
      "[2 6 4 ... 4 6 0] [2 6 4 ... 2 6 0]\n",
      "0.8140975609756097\n"
     ]
    },
    {
     "name": "stderr",
     "output_type": "stream",
     "text": [
      " 93%|\u001b[31m█████████▎\u001b[0m| 419/450 [05:31<01:07,  2.17s/it]"
     ]
    },
    {
     "name": "stdout",
     "output_type": "stream",
     "text": [
      "Iteration:  418\n",
      "[2 6 4 ... 4 6 0] [2 6 4 ... 2 6 0]\n",
      "0.8143658536585365\n"
     ]
    },
    {
     "name": "stderr",
     "output_type": "stream",
     "text": [
      " 93%|\u001b[31m█████████▎\u001b[0m| 420/450 [05:33<01:05,  2.18s/it]"
     ]
    },
    {
     "name": "stdout",
     "output_type": "stream",
     "text": [
      "Iteration:  419\n",
      "[2 6 4 ... 4 6 0] [2 6 4 ... 2 6 0]\n",
      "0.8146585365853658\n"
     ]
    },
    {
     "name": "stderr",
     "output_type": "stream",
     "text": [
      " 94%|\u001b[31m█████████▎\u001b[0m| 421/450 [05:35<01:01,  2.12s/it]"
     ]
    },
    {
     "name": "stdout",
     "output_type": "stream",
     "text": [
      "Iteration:  420\n",
      "[2 6 4 ... 4 6 0] [2 6 4 ... 2 6 0]\n",
      "0.8148780487804878\n"
     ]
    },
    {
     "name": "stderr",
     "output_type": "stream",
     "text": [
      " 94%|\u001b[31m█████████▍\u001b[0m| 422/450 [05:36<00:48,  1.75s/it]"
     ]
    },
    {
     "name": "stdout",
     "output_type": "stream",
     "text": [
      "Iteration:  421\n",
      "[2 6 4 ... 4 6 0] [2 6 4 ... 2 6 0]\n",
      "0.8150487804878048\n"
     ]
    },
    {
     "name": "stderr",
     "output_type": "stream",
     "text": [
      " 94%|\u001b[31m█████████▍\u001b[0m| 423/450 [05:37<00:36,  1.33s/it]"
     ]
    },
    {
     "name": "stdout",
     "output_type": "stream",
     "text": [
      "Iteration:  422\n",
      "[2 6 4 ... 4 6 0] [2 6 4 ... 2 6 0]\n",
      "0.8154146341463414\n"
     ]
    },
    {
     "name": "stderr",
     "output_type": "stream",
     "text": [
      " 94%|\u001b[31m█████████▍\u001b[0m| 424/450 [05:38<00:33,  1.27s/it]"
     ]
    },
    {
     "name": "stdout",
     "output_type": "stream",
     "text": [
      "Iteration:  423\n",
      "[2 6 4 ... 4 6 0] [2 6 4 ... 2 6 0]\n",
      "0.8156829268292682\n"
     ]
    },
    {
     "name": "stderr",
     "output_type": "stream",
     "text": [
      " 94%|\u001b[31m█████████▍\u001b[0m| 425/450 [05:39<00:27,  1.12s/it]"
     ]
    },
    {
     "name": "stdout",
     "output_type": "stream",
     "text": [
      "Iteration:  424\n",
      "[2 6 4 ... 4 6 0] [2 6 4 ... 2 6 0]\n",
      "0.816\n"
     ]
    },
    {
     "name": "stderr",
     "output_type": "stream",
     "text": [
      " 95%|\u001b[31m█████████▍\u001b[0m| 426/450 [05:40<00:26,  1.11s/it]"
     ]
    },
    {
     "name": "stdout",
     "output_type": "stream",
     "text": [
      "Iteration:  425\n",
      "[2 6 4 ... 4 6 0] [2 6 4 ... 2 6 0]\n",
      "0.8160975609756097\n"
     ]
    },
    {
     "name": "stderr",
     "output_type": "stream",
     "text": [
      " 95%|\u001b[31m█████████▍\u001b[0m| 427/450 [05:41<00:27,  1.20s/it]"
     ]
    },
    {
     "name": "stdout",
     "output_type": "stream",
     "text": [
      "Iteration:  426\n",
      "[2 6 4 ... 4 6 0] [2 6 4 ... 2 6 0]\n",
      "0.8163658536585365\n"
     ]
    },
    {
     "name": "stderr",
     "output_type": "stream",
     "text": [
      " 95%|\u001b[31m█████████▌\u001b[0m| 428/450 [05:42<00:26,  1.20s/it]"
     ]
    },
    {
     "name": "stdout",
     "output_type": "stream",
     "text": [
      "Iteration:  427\n",
      "[2 6 4 ... 4 6 0] [2 6 4 ... 2 6 0]\n",
      "0.8164634146341463\n"
     ]
    },
    {
     "name": "stderr",
     "output_type": "stream",
     "text": [
      " 95%|\u001b[31m█████████▌\u001b[0m| 429/450 [05:43<00:22,  1.06s/it]"
     ]
    },
    {
     "name": "stdout",
     "output_type": "stream",
     "text": [
      "Iteration:  428\n",
      "[2 6 4 ... 4 6 0] [2 6 4 ... 2 6 0]\n",
      "0.8167317073170731\n"
     ]
    },
    {
     "name": "stderr",
     "output_type": "stream",
     "text": [
      " 96%|\u001b[31m█████████▌\u001b[0m| 430/450 [05:43<00:17,  1.18it/s]"
     ]
    },
    {
     "name": "stdout",
     "output_type": "stream",
     "text": [
      "Iteration:  429\n",
      "[2 6 4 ... 4 6 0] [2 6 4 ... 2 6 0]\n",
      "0.8170731707317073\n"
     ]
    },
    {
     "name": "stderr",
     "output_type": "stream",
     "text": [
      " 96%|\u001b[31m█████████▌\u001b[0m| 431/450 [05:45<00:17,  1.08it/s]"
     ]
    },
    {
     "name": "stdout",
     "output_type": "stream",
     "text": [
      "Iteration:  430\n",
      "[2 6 4 ... 4 6 0] [2 6 4 ... 2 6 0]\n",
      "0.8173170731707317\n"
     ]
    },
    {
     "name": "stderr",
     "output_type": "stream",
     "text": [
      " 96%|\u001b[31m█████████▌\u001b[0m| 432/450 [05:45<00:15,  1.13it/s]"
     ]
    },
    {
     "name": "stdout",
     "output_type": "stream",
     "text": [
      "Iteration:  431\n",
      "[2 6 4 ... 4 6 0] [2 6 4 ... 2 6 0]\n",
      "0.8174146341463414\n"
     ]
    },
    {
     "name": "stderr",
     "output_type": "stream",
     "text": [
      " 96%|\u001b[31m█████████▌\u001b[0m| 433/450 [05:46<00:12,  1.38it/s]"
     ]
    },
    {
     "name": "stdout",
     "output_type": "stream",
     "text": [
      "Iteration:  432\n",
      "[2 6 4 ... 4 6 0] [2 6 4 ... 2 6 0]\n",
      "0.8176097560975609\n"
     ]
    },
    {
     "name": "stderr",
     "output_type": "stream",
     "text": [
      " 96%|\u001b[31m█████████▋\u001b[0m| 434/450 [05:46<00:10,  1.54it/s]"
     ]
    },
    {
     "name": "stdout",
     "output_type": "stream",
     "text": [
      "Iteration:  433\n",
      "[2 6 4 ... 4 6 0] [2 6 4 ... 2 6 0]\n",
      "0.8178780487804878\n"
     ]
    },
    {
     "name": "stderr",
     "output_type": "stream",
     "text": [
      " 97%|\u001b[31m█████████▋\u001b[0m| 435/450 [05:47<00:11,  1.32it/s]"
     ]
    },
    {
     "name": "stdout",
     "output_type": "stream",
     "text": [
      "Iteration:  434\n",
      "[2 6 4 ... 4 6 0] [2 6 4 ... 2 6 0]\n",
      "0.8181219512195121\n"
     ]
    },
    {
     "name": "stderr",
     "output_type": "stream",
     "text": [
      " 97%|\u001b[31m█████████▋\u001b[0m| 436/450 [05:48<00:11,  1.22it/s]"
     ]
    },
    {
     "name": "stdout",
     "output_type": "stream",
     "text": [
      "Iteration:  435\n",
      "[2 6 4 ... 4 6 0] [2 6 4 ... 2 6 0]\n",
      "0.8182926829268292\n"
     ]
    },
    {
     "name": "stderr",
     "output_type": "stream",
     "text": [
      " 97%|\u001b[31m█████████▋\u001b[0m| 437/450 [05:49<00:12,  1.06it/s]"
     ]
    },
    {
     "name": "stdout",
     "output_type": "stream",
     "text": [
      "Iteration:  436\n",
      "[2 6 4 ... 4 6 0] [2 6 4 ... 2 6 0]\n",
      "0.8185853658536585\n"
     ]
    },
    {
     "name": "stderr",
     "output_type": "stream",
     "text": [
      " 97%|\u001b[31m█████████▋\u001b[0m| 438/450 [05:51<00:13,  1.16s/it]"
     ]
    },
    {
     "name": "stdout",
     "output_type": "stream",
     "text": [
      "Iteration:  437\n",
      "[2 6 4 ... 4 6 0] [2 6 4 ... 2 6 0]\n",
      "0.8187560975609756\n"
     ]
    },
    {
     "name": "stderr",
     "output_type": "stream",
     "text": [
      " 98%|\u001b[31m█████████▊\u001b[0m| 439/450 [05:52<00:12,  1.10s/it]"
     ]
    },
    {
     "name": "stdout",
     "output_type": "stream",
     "text": [
      "Iteration:  438\n",
      "[2 6 4 ... 4 6 0] [2 6 4 ... 2 6 0]\n",
      "0.8190243902439024\n"
     ]
    },
    {
     "name": "stderr",
     "output_type": "stream",
     "text": [
      " 98%|\u001b[31m█████████▊\u001b[0m| 440/450 [05:54<00:12,  1.25s/it]"
     ]
    },
    {
     "name": "stdout",
     "output_type": "stream",
     "text": [
      "Iteration:  439\n",
      "[2 6 4 ... 4 6 0] [2 6 4 ... 2 6 0]\n",
      "0.819170731707317\n"
     ]
    },
    {
     "name": "stderr",
     "output_type": "stream",
     "text": [
      " 98%|\u001b[31m█████████▊\u001b[0m| 441/450 [05:54<00:10,  1.16s/it]"
     ]
    },
    {
     "name": "stdout",
     "output_type": "stream",
     "text": [
      "Iteration:  440\n",
      "[2 6 4 ... 4 6 0] [2 6 4 ... 2 6 0]\n",
      "0.8192926829268292\n"
     ]
    },
    {
     "name": "stderr",
     "output_type": "stream",
     "text": [
      " 98%|\u001b[31m█████████▊\u001b[0m| 442/450 [05:56<00:09,  1.24s/it]"
     ]
    },
    {
     "name": "stdout",
     "output_type": "stream",
     "text": [
      "Iteration:  441\n",
      "[2 6 4 ... 4 6 0] [2 6 4 ... 2 6 0]\n",
      "0.8194146341463414\n"
     ]
    },
    {
     "name": "stderr",
     "output_type": "stream",
     "text": [
      " 98%|\u001b[31m█████████▊\u001b[0m| 443/450 [05:58<00:10,  1.53s/it]"
     ]
    },
    {
     "name": "stdout",
     "output_type": "stream",
     "text": [
      "Iteration:  442\n",
      "[2 6 4 ... 4 6 0] [2 6 4 ... 2 6 0]\n",
      "0.8197073170731707\n"
     ]
    },
    {
     "name": "stderr",
     "output_type": "stream",
     "text": [
      " 99%|\u001b[31m█████████▊\u001b[0m| 444/450 [06:00<00:10,  1.68s/it]"
     ]
    },
    {
     "name": "stdout",
     "output_type": "stream",
     "text": [
      "Iteration:  443\n",
      "[2 6 4 ... 4 6 0] [2 6 4 ... 2 6 0]\n",
      "0.8198780487804878\n"
     ]
    },
    {
     "name": "stderr",
     "output_type": "stream",
     "text": [
      " 99%|\u001b[31m█████████▉\u001b[0m| 445/450 [06:02<00:08,  1.76s/it]"
     ]
    },
    {
     "name": "stdout",
     "output_type": "stream",
     "text": [
      "Iteration:  444\n",
      "[2 6 4 ... 4 6 0] [2 6 4 ... 2 6 0]\n",
      "0.820170731707317\n"
     ]
    },
    {
     "name": "stderr",
     "output_type": "stream",
     "text": [
      " 99%|\u001b[31m█████████▉\u001b[0m| 446/450 [06:04<00:07,  1.80s/it]"
     ]
    },
    {
     "name": "stdout",
     "output_type": "stream",
     "text": [
      "Iteration:  445\n",
      "[2 6 4 ... 4 6 0] [2 6 4 ... 2 6 0]\n",
      "0.8203658536585365\n"
     ]
    },
    {
     "name": "stderr",
     "output_type": "stream",
     "text": [
      " 99%|\u001b[31m█████████▉\u001b[0m| 447/450 [06:05<00:04,  1.46s/it]"
     ]
    },
    {
     "name": "stdout",
     "output_type": "stream",
     "text": [
      "Iteration:  446\n",
      "[2 6 4 ... 4 6 0] [2 6 4 ... 2 6 0]\n",
      "0.8205121951219512\n"
     ]
    },
    {
     "name": "stderr",
     "output_type": "stream",
     "text": [
      "100%|\u001b[31m█████████▉\u001b[0m| 448/450 [06:06<00:02,  1.48s/it]"
     ]
    },
    {
     "name": "stdout",
     "output_type": "stream",
     "text": [
      "Iteration:  447\n",
      "[2 6 4 ... 4 6 0] [2 6 4 ... 2 6 0]\n",
      "0.8207317073170731\n"
     ]
    },
    {
     "name": "stderr",
     "output_type": "stream",
     "text": [
      "100%|\u001b[31m█████████▉\u001b[0m| 449/450 [06:08<00:01,  1.51s/it]"
     ]
    },
    {
     "name": "stdout",
     "output_type": "stream",
     "text": [
      "Iteration:  448\n",
      "[2 6 4 ... 4 6 0] [2 6 4 ... 2 6 0]\n",
      "0.8210731707317073\n"
     ]
    },
    {
     "name": "stderr",
     "output_type": "stream",
     "text": [
      "100%|\u001b[31m██████████\u001b[0m| 450/450 [06:09<00:00,  1.22it/s]"
     ]
    },
    {
     "name": "stdout",
     "output_type": "stream",
     "text": [
      "Iteration:  449\n",
      "[2 6 4 ... 4 6 0] [2 6 4 ... 2 6 0]\n",
      "0.8213414634146341\n"
     ]
    },
    {
     "name": "stderr",
     "output_type": "stream",
     "text": [
      "\n"
     ]
    }
   ],
   "source": [
    "W1, b1, W2, b2 = gradient_descent(X_train, Y_train, 0.1, 450)"
   ]
  },
  {
   "cell_type": "code",
   "execution_count": 101,
   "metadata": {},
   "outputs": [],
   "source": [
    "def make_predictions(X, W1, b1, W2, b2):\n",
    "    _, _, _, A2 = forward_prop(W1, b1, W2, b2, X)\n",
    "    predictions = get_predictions(A2)\n",
    "    return predictions"
   ]
  },
  {
   "cell_type": "code",
   "execution_count": 102,
   "metadata": {
    "execution": {
     "iopub.execute_input": "2020-11-24T15:34:34.058947Z",
     "iopub.status.busy": "2020-11-24T15:34:34.058192Z",
     "iopub.status.idle": "2020-11-24T15:34:34.061542Z",
     "shell.execute_reply": "2020-11-24T15:34:34.060921Z"
    },
    "papermill": {
     "duration": 0.048197,
     "end_time": "2020-11-24T15:34:34.061656",
     "exception": false,
     "start_time": "2020-11-24T15:34:34.013459",
     "status": "completed"
    },
    "tags": []
   },
   "outputs": [],
   "source": [
    "def test_prediction(index, W1, b1, W2, b2):\n",
    "    current_image = X_train[:, index, None]\n",
    "    prediction = make_predictions(X_train[:, index, None], W1, b1, W2, b2)\n",
    "    label = Y_train[index]\n",
    "    print(\"Prediction: \", prediction)\n",
    "    print(\"Label: \", label)\n",
    "    \n",
    "    current_image = current_image.reshape((28, 28)) * 255\n",
    "    plt.gray()\n",
    "    plt.imshow(current_image, interpolation='nearest')\n",
    "    plt.show()"
   ]
  },
  {
   "cell_type": "code",
   "execution_count": 103,
   "metadata": {
    "execution": {
     "iopub.execute_input": "2020-11-24T15:34:34.198764Z",
     "iopub.status.busy": "2020-11-24T15:34:34.197926Z",
     "iopub.status.idle": "2020-11-24T15:34:34.858256Z",
     "shell.execute_reply": "2020-11-24T15:34:34.857536Z"
    },
    "papermill": {
     "duration": 0.699008,
     "end_time": "2020-11-24T15:34:34.858375",
     "exception": false,
     "start_time": "2020-11-24T15:34:34.159367",
     "status": "completed"
    },
    "tags": []
   },
   "outputs": [
    {
     "name": "stdout",
     "output_type": "stream",
     "text": [
      "Prediction:  [2]\n",
      "Label:  2\n"
     ]
    },
    {
     "data": {
      "image/png": "[encoded data removed]",
      "text/plain": [
       "<Figure size 640x480 with 1 Axes>"
      ]
     },
     "metadata": {},
     "output_type": "display_data"
    },
    {
     "name": "stdout",
     "output_type": "stream",
     "text": [
      "Prediction:  [6]\n",
      "Label:  6\n"
     ]
    },
    {
     "data": {
      "image/png": "[encoded data removed]",
      "text/plain": [
       "<Figure size 640x480 with 1 Axes>"
      ]
     },
     "metadata": {},
     "output_type": "display_data"
    },
    {
     "name": "stdout",
     "output_type": "stream",
     "text": [
      "Prediction:  [4]\n",
      "Label:  4\n"
     ]
    },
    {
     "data": {
      "image/png": "[encoded data removed]",
      "text/plain": [
       "<Figure size 640x480 with 1 Axes>"
      ]
     },
     "metadata": {},
     "output_type": "display_data"
    },
    {
     "name": "stdout",
     "output_type": "stream",
     "text": [
      "Prediction:  [3]\n",
      "Label:  8\n"
     ]
    },
    {
     "data": {
      "image/png": "[encoded data removed]",
      "text/plain": [
       "<Figure size 640x480 with 1 Axes>"
      ]
     },
     "metadata": {},
     "output_type": "display_data"
    }
   ],
   "source": [
    "test_prediction(0, W1, b1, W2, b2)\n",
    "test_prediction(1, W1, b1, W2, b2)\n",
    "test_prediction(2, W1, b1, W2, b2)\n",
    "test_prediction(3, W1, b1, W2, b2)"
   ]
  },
  {
   "cell_type": "code",
   "execution_count": 104,
   "metadata": {
    "execution": {
     "iopub.execute_input": "2020-11-24T15:34:35.013161Z",
     "iopub.status.busy": "2020-11-24T15:34:35.012371Z",
     "iopub.status.idle": "2020-11-24T15:34:35.033284Z",
     "shell.execute_reply": "2020-11-24T15:34:35.032394Z"
    },
    "papermill": {
     "duration": 0.062985,
     "end_time": "2020-11-24T15:34:35.033457",
     "exception": false,
     "start_time": "2020-11-24T15:34:34.970472",
     "status": "completed"
    },
    "tags": []
   },
   "outputs": [
    {
     "name": "stdout",
     "output_type": "stream",
     "text": [
      "[8 1 9 9 8 6 2 2 7 1 6 3 1 2 7 4 3 2 6 4 5 5 2 6 0 0 0 8 6 3 5 6 1 2 8 6 7\n",
      " 8 6 1 9 7 0 6 8 3 4 2 7 8 4 3 3 7 1 2 2 2 9 6 6 0 5 8 2 8 4 3 9 3 9 4 2 8\n",
      " 1 6 8 7 0 3 1 7 6 7 6 1 9 5 3 6 4 3 7 6 6 5 2 4 3 5 4 8 0 4 1 2 1 2 8 9 8\n",
      " 1 4 7 1 0 3 6 9 2 1 9 7 3 9 6 5 7 1 0 6 5 6 4 2 0 9 9 9 4 2 3 6 4 0 7 4 1\n",
      " 7 7 1 6 8 1 7 6 6 5 7 9 7 0 7 9 9 1 3 6 5 8 7 1 6 7 5 9 3 0 8 6 6 1 9 9 2\n",
      " 3 7 2 6 6 2 8 9 6 6 7 4 5 5 6 3 1 5 3 7 9 9 0 7 4 7 5 1 1 0 2 5 3 8 1 3 9\n",
      " 3 6 7 3 1 3 0 4 0 2 7 1 4 8 1 0 6 3 9 1 7 6 5 5 0 5 7 9 7 1 7 7 6 5 2 8 9\n",
      " 5 2 6 4 1 8 8 0 6 5 9 5 6 6 6 1 0 6 3 1 9 4 0 6 3 4 7 7 2 3 1 8 2 6 1 5 1\n",
      " 0 0 5 2 5 6 7 6 7 1 1 3 7 3 2 5 1 8 3 1 2 1 3 9 7 2 7 8 2 7 0 3 9 4 0 1 6\n",
      " 9 2 6 2 8 3 0 3 3 0 7 0 0 6 8 7 4 7 1 8 1 0 5 6 1 5 7 3 9 9 3 2 3 8 9 2 1\n",
      " 0 7 7 8 0 2 5 9 0 8 7 0 0 4 8 8 7 2 1 7 0 7 6 1 4 7 6 2 1 8 4 6 1 1 8 2 0\n",
      " 8 4 9 3 1 7 4 1 2 7 9 7 4 1 6 0 4 0 3 2 3 0 7 9 8 6 8 4 1 8 5 8 6 0 9 6 6\n",
      " 3 7 3 2 4 5 5 3 1 8 7 7 4 8 4 8 6 3 6 0 2 8 8 4 4 0 0 7 8 7 2 7 5 1 0 8 1\n",
      " 3 0 1 3 1 1 6 6 2 1 7 2 8 2 6 3 2 0 0 6 1 2 2 7 6 7 0 2 8 2 4 7 6 3 0 3 0\n",
      " 3 3 5 5 2 4 7 7 3 5 3 5 1 5 2 9 7 8 6 8 0 4 8 2 1 9 0 1 4 1 8 9 7 7 9 0 2\n",
      " 4 1 2 9 5 1 5 7 3 8 2 2 1 5 6 4 4 5 9 1 2 5 9 2 3 3 0 3 2 8 4 3 2 3 2 1 0\n",
      " 0 5 8 1 1 0 6 3 8 3 6 7 2 7 0 6 1 6 9 0 4 4 1 9 9 7 5 1 2 0 3 4 2 0 1 5 7\n",
      " 1 8 5 6 5 4 1 1 2 9 1 7 2 5 2 7 1 4 7 8 0 1 4 7 3 4 6 6 7 5 4 6 8 8 3 5 2\n",
      " 1 3 2 6 3 9 6 6 6 2 1 6 4 2 6 7 3 9 0 2 7 6 0 4 3 4 6 6 0 3 5 6 5 7 2 4 8\n",
      " 5 1 7 8 3 9 1 4 6 8 8 9 3 8 1 0 4 8 7 7 8 1 6 6 3 6 9 2 8 4 4 2 4 3 2 9 7\n",
      " 1 0 7 3 4 0 6 6 8 6 7 4 9 2 9 7 1 7 1 2 3 5 3 3 6 8 0 0 6 8 5 0 9 9 5 7 2\n",
      " 0 9 8 0 7 2 3 9 6 6 7 9 7 3 4 2 6 0 1 3 3 7 0 6 9 0 8 2 6 5 7 2 4 2 5 8 1\n",
      " 7 8 3 6 3 3 1 7 1 7 4 1 1 7 3 7 5 0 1 0 4 3 7 6 2 4 9 4 5 4 2 6 9 3 0 8 6\n",
      " 8 9 7 2 9 3 4 9 0 2 8 5 6 3 4 1 0 4 2 7 6 8 2 9 4 5 1 8 1 5 0 9 3 1 3 2 9\n",
      " 2 6 2 9 0 3 8 8 3 4 2 0 1 3 4 7 9 2 1 1 4 2 8 5 0 8 9 6 3 4 7 8 2 7 4 9 3\n",
      " 0 1 4 4 7 9 6 6 3 1 9 6 6 3 7 8 9 2 7 5 3 2 1 1 4 1 8 0 6 9 1 0 7 0 3 1 2\n",
      " 0 2 7 3 8 0 1 8 0 1 3 8 8 9 9 9 3 3 0 2 3 0 6 4 3 5 5 4 5 3 6 1 8 3 7 1 2\n",
      " 6] [8 1 9 9 8 6 2 2 7 1 6 3 1 2 7 4 3 3 6 4 9 5 2 6 0 0 0 8 6 3 6 6 1 9 8 6 7\n",
      " 3 6 1 9 7 9 6 8 3 4 2 7 8 4 3 3 7 1 2 6 2 9 6 4 0 4 8 8 5 4 3 9 3 9 4 2 8\n",
      " 1 6 3 9 0 3 1 7 6 7 6 1 9 5 3 6 9 3 7 6 6 5 2 9 3 5 4 6 0 4 1 1 1 6 8 9 1\n",
      " 1 4 7 1 0 3 6 9 8 1 3 7 3 9 6 5 7 1 0 6 5 6 4 2 0 9 9 9 7 2 3 6 4 0 9 9 1\n",
      " 7 7 1 6 8 1 7 6 6 5 7 9 9 0 7 9 5 1 3 6 5 8 7 1 6 7 0 9 3 0 8 6 0 1 9 7 2\n",
      " 3 7 2 6 6 4 8 9 6 0 7 4 5 5 6 3 1 5 3 7 9 9 0 7 4 7 5 1 1 0 2 5 3 8 1 3 9\n",
      " 3 6 7 3 1 3 4 4 0 2 7 1 4 2 1 0 5 3 9 1 7 6 5 1 0 5 7 9 7 1 7 7 7 2 2 3 4\n",
      " 5 2 6 4 1 8 8 5 5 5 2 9 6 6 6 1 0 6 9 1 9 9 0 8 3 9 7 7 2 3 1 8 2 6 1 5 1\n",
      " 0 0 5 3 5 6 9 6 7 1 1 3 7 3 2 5 1 8 3 1 9 1 2 9 3 2 7 8 2 7 0 3 9 4 0 1 6\n",
      " 9 2 0 2 3 3 0 3 3 0 1 0 0 6 8 2 4 7 1 8 7 0 5 6 1 5 7 3 9 9 3 5 3 8 9 2 1\n",
      " 0 7 7 4 0 2 0 7 0 8 7 0 0 4 8 8 7 2 1 7 0 7 6 1 4 7 6 2 1 2 4 6 1 1 6 6 0\n",
      " 2 2 9 3 1 2 4 1 2 3 9 7 4 1 6 0 9 0 3 2 3 0 7 9 8 6 8 4 1 4 5 8 4 0 9 6 6\n",
      " 3 5 3 7 4 5 5 3 1 8 7 7 4 8 4 8 6 3 6 0 6 8 8 8 4 0 0 7 8 9 6 7 3 1 5 8 1\n",
      " 3 0 1 3 1 1 6 4 2 1 7 2 8 2 6 0 2 0 2 6 1 2 2 7 6 7 0 6 8 2 4 7 6 3 0 3 0\n",
      " 3 3 5 5 2 4 7 7 3 8 3 5 1 5 2 9 7 2 6 3 0 4 8 2 1 9 0 1 4 1 8 9 2 7 9 0 2\n",
      " 4 1 2 9 8 1 3 7 3 8 2 2 1 6 6 4 4 0 9 1 2 5 9 2 3 3 0 3 2 8 4 3 2 3 6 1 0\n",
      " 0 5 8 1 1 0 4 5 8 3 6 7 2 7 0 6 2 2 9 0 4 4 1 9 9 7 5 1 2 6 3 4 2 0 1 5 3\n",
      " 1 6 5 6 5 4 1 1 2 4 1 9 2 5 3 9 1 4 7 1 0 1 4 3 3 9 6 6 7 5 4 6 1 8 3 5 2\n",
      " 2 3 2 6 3 7 6 5 6 2 1 6 4 2 6 7 3 9 0 2 7 6 0 4 3 9 6 6 0 2 5 6 5 7 2 4 8\n",
      " 5 1 7 8 3 7 1 4 6 5 8 9 3 8 1 0 4 1 7 7 9 1 6 6 3 2 9 2 9 9 9 2 4 3 2 9 5\n",
      " 1 0 7 8 9 0 6 6 8 6 7 5 7 2 9 7 8 7 1 2 3 7 7 3 6 8 0 0 6 8 5 0 9 9 5 7 2\n",
      " 0 9 8 0 7 2 3 3 6 6 7 9 7 3 4 2 8 0 1 3 3 9 0 6 9 5 8 2 6 5 7 3 4 6 5 8 1\n",
      " 7 8 3 6 3 8 1 7 3 7 4 1 1 7 3 7 5 0 1 0 9 3 7 6 2 4 9 2 5 9 2 6 9 3 0 8 6\n",
      " 8 9 7 9 8 3 4 4 0 2 8 3 6 3 4 1 0 4 2 7 6 8 2 8 4 5 1 1 1 5 0 9 3 1 3 2 9\n",
      " 8 8 2 9 0 3 0 8 5 4 2 0 3 3 4 7 9 2 1 1 4 2 8 5 0 3 9 3 3 2 7 8 2 7 4 7 3\n",
      " 0 1 4 6 7 9 6 6 3 1 9 6 6 3 7 0 9 2 7 5 3 2 1 1 4 1 5 0 6 3 1 0 7 0 3 1 2\n",
      " 0 2 7 3 9 0 1 8 0 1 3 3 8 4 9 4 3 3 0 2 3 0 6 4 3 5 5 4 3 3 6 1 8 3 7 1 2\n",
      " 6]\n"
     ]
    },
    {
     "data": {
      "text/plain": [
       "0.837"
      ]
     },
     "execution_count": 104,
     "metadata": {},
     "output_type": "execute_result"
    }
   ],
   "source": [
    "dev_predictions = make_predictions(X_dev, W1, b1, W2, b2)\n",
    "get_accuracy(dev_predictions, Y_dev)"
   ]
  },
  {
   "cell_type": "code",
   "execution_count": null,
   "metadata": {},
   "outputs": [],
   "source": []
  }
 ],
 "metadata": {
  "kernelspec": {
   "display_name": "Python 3",
   "language": "python",
   "name": "python3"
  },
  "language_info": {
   "codemirror_mode": {
    "name": "ipython",
    "version": 3
   },
   "file_extension": ".py",
   "mimetype": "text/x-python",
   "name": "python",
   "nbconvert_exporter": "python",
   "pygments_lexer": "ipython3",
   "version": "3.9.6"
  },
  "papermill": {
   "duration": 55.320944,
   "end_time": "2020-11-24T15:34:35.258832",
   "environment_variables": {},
   "exception": null,
   "input_path": "__notebook__.ipynb",
   "output_path": "__notebook__.ipynb",
   "parameters": {},
   "start_time": "2020-11-24T15:33:39.937888",
   "version": "2.1.0"
  }
 },
 "nbformat": 4,
 "nbformat_minor": 4
}
